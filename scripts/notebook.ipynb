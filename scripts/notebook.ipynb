{
 "cells": [
  {
   "cell_type": "markdown",
   "id": "f88a1cd9",
   "metadata": {},
   "source": [
    "# Spotify Playlist Analysis\n",
    "\n",
    "\n",
    "<span class = \"myhighlight\">Objective.</span> Using Python, the project goal is to implement a k-means clustering algorithm, a technique often used in machine learning, and use it for data analysis. We write various functions making use of lists, sets, dictionaries, sorting, and graph data structures for computational problem solving and analysis.\n"
   ]
  },
  {
   "cell_type": "code",
   "execution_count": 8,
   "id": "2bb21b41",
   "metadata": {},
   "outputs": [],
   "source": [
    "import csv\n",
    "import time\n",
    "import pandas as pd\n",
    "import numpy as np\n",
    "import matplotlib.pyplot as plt\n",
    "import spotipy\n",
    "from spotipy.oauth2 import SpotifyClientCredentials\n",
    "from operator import index"
   ]
  },
  {
   "cell_type": "markdown",
   "id": "0b80b5b8",
   "metadata": {},
   "source": [
    "First, we create a Client Credentials Flow Manager used in server-to-server authentication by passing the necessary parameters to the [Spotify OAuth](https://github.com/spotipy-dev/spotipy/blob/master/spotipy/oauth2.py#L261) class. We provide a client id and client secret to the constructor of this authorization flow, which does not require user interaction.\n",
    "    "
   ]
  },
  {
   "cell_type": "code",
   "execution_count": 9,
   "id": "12570e30",
   "metadata": {},
   "outputs": [],
   "source": [
    "# Set client id and client secret\n",
    "client_id = '4cf3afdca2d74dc48af9999b1b7c9c61'\n",
    "client_secret = 'f6ca08ad37bb41a0afab5ca1dc74b208'\n",
    "\n",
    "# Spotify authentication token\n",
    "client_credentials_manager = SpotifyClientCredentials(client_id, client_secret)\n",
    "sp = spotipy.Spotify(client_credentials_manager = client_credentials_manager)"
   ]
  },
  {
   "cell_type": "markdown",
   "id": "ee2535bc",
   "metadata": {},
   "source": [
    "Now, we want to get the full details of the tracks of a playlist based on a playlist ID, URI, or URL. The following function takes a playlist and gets information from each individual song.\n"
   ]
  },
  {
   "cell_type": "code",
   "execution_count": 10,
   "id": "e07aad57",
   "metadata": {},
   "outputs": [],
   "source": [
    "# Get playlist song features and artist info\n",
    "def playlist_features(id, artist_id, playlist_id):\n",
    "    \n",
    "    # Create Spotify API client variables\n",
    "    meta = sp.track(id)\n",
    "    audio_features = sp.audio_features(id)\n",
    "    artist_info = sp.artist(artist_id)\n",
    "    playlist_info = sp.playlist(playlist_id)\n",
    "\n",
    "    # Metadata\n",
    "    name = meta['name']\n",
    "    track_id = meta['id']\n",
    "    album = meta['album']['name']\n",
    "    artist = meta['album']['artists'][0]['name']\n",
    "    artist_id = meta['album']['artists'][0]['id']\n",
    "    release_date = meta['album']['release_date']\n",
    "    length = meta['duration_ms']\n",
    "    popularity = meta['popularity']\n",
    "\n",
    "    # Main artist name, popularity, genre\n",
    "    artist_pop = artist_info[\"popularity\"]\n",
    "    artist_genres = artist_info[\"genres\"]\n",
    "\n",
    "    # Track features\n",
    "    acousticness = audio_features[0]['acousticness']\n",
    "    danceability = audio_features[0]['danceability']\n",
    "    energy = audio_features[0]['energy']\n",
    "    instrumentalness = audio_features[0]['instrumentalness']\n",
    "    liveness = audio_features[0]['liveness']\n",
    "    loudness = audio_features[0]['loudness']\n",
    "    speechiness = audio_features[0]['speechiness']\n",
    "    tempo = audio_features[0]['tempo']\n",
    "    valence = audio_features[0]['valence']\n",
    "    key = audio_features[0]['key']\n",
    "    mode = audio_features[0]['mode']\n",
    "    time_signature = audio_features[0]['time_signature']\n",
    "    \n",
    "    # Basic playlist info\n",
    "    playlist_name = playlist_info['name']\n",
    "\n",
    "    return [name, track_id, album, artist, artist_id, release_date, length, popularity, \n",
    "            artist_pop, artist_genres, acousticness, danceability, \n",
    "            energy, instrumentalness, liveness, loudness, speechiness, \n",
    "            tempo, valence, key, mode, time_signature, playlist_name]"
   ]
  },
  {
   "cell_type": "markdown",
   "id": "fed508cc",
   "metadata": {},
   "source": [
    "Choose a specific playlist to analyze by copying the URL from the Spotify Player interface. Using that link, the following code uses the playlist_tracks method to retrieve a list of IDs and corresponding artists for each track from the playlist. \n",
    "\n"
   ]
  },
  {
   "cell_type": "code",
   "execution_count": 11,
   "id": "3f642037",
   "metadata": {},
   "outputs": [],
   "source": [
    "def get_playlist_tracks(playlist_URI):\n",
    "    tracks = []\n",
    "    results = sp.playlist_tracks(playlist_URI)\n",
    "    tracks = results['items']\n",
    "    while results['next']:\n",
    "        results = sp.next(results)\n",
    "        tracks.extend(results['items'])     \n",
    "    return tracks"
   ]
  },
  {
   "cell_type": "code",
   "execution_count": 12,
   "id": "c948fae9",
   "metadata": {},
   "outputs": [],
   "source": [
    "# Spotify playlist url\n",
    "playlist_links = [\"https://open.spotify.com/playlist/1nvpVNmzL7Vi1pXcQEiaLx?si=6842f41a58284be3\"]\n",
    "\n",
    "playlist_ids = []\n",
    "track_ids = []\n",
    "artist_uris = []\n",
    "\n",
    "for link in playlist_links:\n",
    "    playlist_URI = link.split(\"/\")[-1].split(\"?\")[0]\n",
    "    \n",
    "    # Extract song ids and artists from playlist\n",
    "    for i in get_playlist_tracks(playlist_URI):\n",
    "        track_ids.append(i['track'][\"id\"])\n",
    "        artist_uris.append(i['track'][\"artists\"][0][\"uri\"])\n",
    "        playlist_ids.append(playlist_URI)\n",
    "  "
   ]
  },
  {
   "cell_type": "code",
   "execution_count": 13,
   "id": "0f4fdb6f",
   "metadata": {},
   "outputs": [
    {
     "data": {
      "text/plain": [
       "116"
      ]
     },
     "execution_count": 13,
     "metadata": {},
     "output_type": "execute_result"
    }
   ],
   "source": [
    "len(playlist_ids)"
   ]
  },
  {
   "cell_type": "markdown",
   "id": "6eba4722",
   "metadata": {},
   "source": [
    "--------------------"
   ]
  },
  {
   "cell_type": "markdown",
   "id": "6d2bc235",
   "metadata": {},
   "source": [
    "The following code loops through each track ID in the playlist and extracts additional song information by calling the function we created above. From there, we can create a pandas data frame by passing in the extracted information and giving the column header names we want. "
   ]
  },
  {
   "cell_type": "code",
   "execution_count": 14,
   "id": "e1bc7804",
   "metadata": {},
   "outputs": [],
   "source": [
    "# Loop over track ids\n",
    "all_tracks = [playlist_features(track_ids[i], artist_uris[i], playlist_ids[i])\n",
    "              for i in range(len(track_ids))]"
   ]
  },
  {
   "cell_type": "code",
   "execution_count": null,
   "id": "0c5a3331",
   "metadata": {},
   "outputs": [],
   "source": [
    "# Create dataframe\n",
    "df = pd.DataFrame(\n",
    "    all_tracks, columns=['name', 'track_id', 'album', 'artist', 'artist_id','release_date',\n",
    "                     'length', 'popularity', 'artist_pop', 'artist_genres',\n",
    "                     'acousticness', 'danceability', 'energy',\n",
    "                     'instrumentalness', 'liveness', 'loudness',\n",
    "                     'speechiness', 'tempo', 'valence', 'key', 'mode',\n",
    "                     'time_signature', 'playlist'])\n",
    "# Save to csv file\n",
    "df.to_csv(\"data/my_playlist.csv\", sep=',')"
   ]
  },
  {
   "cell_type": "markdown",
   "id": "fa6ccbb3",
   "metadata": {},
   "source": [
    "--------------------------------------------------------\n",
    "\n",
    "\n",
    "#### Spotify Playlists Data Extraction"
   ]
  },
  {
   "cell_type": "code",
   "execution_count": null,
   "id": "ed5a9a1c",
   "metadata": {},
   "outputs": [],
   "source": [
    "spotify_playlists = pd.read_csv('data/spotify_playlists.csv', encoding_errors='ignore', index_col=0, header=0)\n",
    "spotify_playlists['playlist'].value_counts()"
   ]
  },
  {
   "cell_type": "markdown",
   "id": "eef6825a",
   "metadata": {},
   "source": [
    "------------------------------------------------------"
   ]
  },
  {
   "cell_type": "markdown",
   "id": "4cbd9460",
   "metadata": {},
   "source": [
    "### The Data\n"
   ]
  },
  {
   "cell_type": "markdown",
   "id": "f5bc0e00",
   "metadata": {},
   "source": [
    "How many songs do we have?"
   ]
  },
  {
   "cell_type": "code",
   "execution_count": null,
   "id": "7c2b09d8",
   "metadata": {},
   "outputs": [],
   "source": [
    "# Number of rows and columns\n",
    "rows, cols = df.shape\n",
    "print(f'Number of songs: {rows}')\n",
    "print(f'Number of attributes per song: {cols}')"
   ]
  },
  {
   "cell_type": "code",
   "execution_count": null,
   "id": "f3fbd2db",
   "metadata": {},
   "outputs": [],
   "source": [
    "# Get a song string search\n",
    "def getMusicName(elem):\n",
    "    return f\"{elem['artist']} - {elem['name']}\"\n",
    "\n",
    "# Select song and get track info\n",
    "anySong = df.loc[15]\n",
    "anySongName = getMusicName(anySong)\n",
    "print('name:', anySongName)"
   ]
  },
  {
   "cell_type": "markdown",
   "id": "96aeda36",
   "metadata": {},
   "source": [
    "-----------------------"
   ]
  },
  {
   "cell_type": "markdown",
   "id": "f889ab43",
   "metadata": {},
   "source": [
    "## Spotify Songs - Similarity Search\n",
    "\n",
    "\n",
    "\n",
    "\n",
    "Below, we create a query to retrieve similar elements based on Euclidean distance. In mathematics, the Euclidean distance between two points is the length of the line segment between the two points. In this sense, the closer the distance is to 0, the more similar the songs are.\n",
    "\n",
    "\n",
    "\n",
    "#### [KNN Algorithm](https://www.kaggle.com/code/leomauro/spotify-songs-similarity-search/notebook)\n",
    "\n",
    "\n",
    "The k-Nearest Neighbors (KNN) algorithm searches for k similar elements based on a query point at the center within a predefined radius. \n",
    "\n"
   ]
  },
  {
   "cell_type": "code",
   "execution_count": null,
   "id": "11a2b1d3",
   "metadata": {},
   "outputs": [],
   "source": [
    "def knnQuery(queryPoint, arrCharactPoints, k):\n",
    "    queryVals = queryPoint.tolist()\n",
    "    distVals = []\n",
    "    \n",
    "    # Copy of dataframe indices and data\n",
    "    tmp = arrCharactPoints.copy(deep = True)  \n",
    "    for index, row in tmp.iterrows():\n",
    "        feat = row.values.tolist()\n",
    "        \n",
    "        # Calculate sum of squared differences\n",
    "        ssd = sum(abs(feat[i] - queryVals[i]) ** 2 for i in range(len(queryVals)))\n",
    "        \n",
    "        # Get euclidean distance\n",
    "        distVals.append(ssd ** 0.5)\n",
    "        \n",
    "    tmp['distance'] = distVals\n",
    "    tmp = tmp.sort_values('distance')\n",
    "    \n",
    "    # K closest and furthest points\n",
    "    return tmp.head(k).index, tmp.tail(k).index"
   ]
  },
  {
   "cell_type": "code",
   "execution_count": null,
   "id": "7477b37b",
   "metadata": {},
   "outputs": [],
   "source": [
    "# Execute KNN removing the query point\n",
    "def querySimilars(df, columns, idx, func, param):\n",
    "    arr = df[columns].copy(deep = True)\n",
    "    queryPoint = arr.loc[idx]\n",
    "    arr = arr.drop([idx])\n",
    "    return func(queryPoint, arr, param)"
   ]
  },
  {
   "cell_type": "markdown",
   "id": "60759fa9",
   "metadata": {},
   "source": [
    "**KNN Query Example.** \n",
    "\n",
    "Our function allows us to create personalized query points and modify the columns to explore other options. For example, the following code selects a specific set of song attributes and then searches for the $k$ highest values of these attributes set equal to one.\n",
    "\n",
    "Let's search for  $k=3$  similar songs to a query point $\\textrm{songIndex} = 6$. "
   ]
  },
  {
   "cell_type": "code",
   "execution_count": null,
   "id": "563f9cdb",
   "metadata": {},
   "outputs": [],
   "source": [
    "from sklearn import preprocessing \n",
    "scaler=preprocessing.MinMaxScaler() #instantiate a scaler\n",
    "#all the feature values are in the range [0,1] ,except of loudnes\n",
    "#so let's scale it to fit the exact same range\n",
    "loudness2 = df[\"loudness\"].values\n",
    "loudness_scaled=scaler.fit_transform(loudness2.reshape(-1, 1))\n",
    "df['loudness_scaled'] = loudness_scaled"
   ]
  },
  {
   "cell_type": "code",
   "execution_count": null,
   "id": "a08e5aef",
   "metadata": {},
   "outputs": [],
   "source": [
    "# Select song and column attributes\n",
    "songIndex = 4 # query point\n",
    "columns = ['acousticness', 'danceability', 'energy', 'instrumentalness', 'liveness', \n",
    "           #'loudness_scaled', 'tempo', \n",
    "           'speechiness', 'valence']\n",
    "\n",
    "# Set query parameters\n",
    "func, param = knnQuery,3\n",
    "\n",
    "# Implement query\n",
    "response = querySimilars(df, columns, songIndex, func, param)\n",
    "\n",
    "print(\"---- Query Point ----\")\n",
    "print(getMusicName(df.loc[songIndex]))\n",
    "print('---- k = 3 similar songs ----')\n",
    "for track_id in response[0]:\n",
    "    track_name = getMusicName(df.loc[track_id])\n",
    "    print(track_name)\n",
    "print('---- k = 3 nonsimilar songs ----')\n",
    "for track_id in response[1]:\n",
    "    track_name = getMusicName(df.loc[track_id])\n",
    "    print(track_name)"
   ]
  },
  {
   "cell_type": "markdown",
   "id": "0b64867b",
   "metadata": {},
   "source": [
    "The code below implements the same idea as above, but queries each track in a given playlist instead of a single defined query point."
   ]
  },
  {
   "cell_type": "code",
   "execution_count": null,
   "id": "ce084eff",
   "metadata": {},
   "outputs": [],
   "source": [
    "similar_count = {} # Similar songs count\n",
    "nonsimilar_count = {} # Non-similar songs count\n",
    "\n",
    "for track_index in df.index:\n",
    "    response = querySimilars(df, columns, track_index, func, param)\n",
    "    \n",
    "    # Get similar songs\n",
    "    for similar_index in response[0]:\n",
    "        track = getMusicName(df.loc[similar_index])\n",
    "        if track in similar_count:\n",
    "            similar_count[track] += 1\n",
    "        else:\n",
    "            similar_count[track] = 1\n",
    "    \n",
    "    # Get non-similar songs\n",
    "    for nonsimilar_index in response[1]:\n",
    "        track = getMusicName(df.loc[nonsimilar_index])\n",
    "        if track in nonsimilar_count:\n",
    "            nonsimilar_count[track] += 1\n",
    "        else:\n",
    "            nonsimilar_count[track] = 1"
   ]
  },
  {
   "cell_type": "markdown",
   "id": "f65033c0",
   "metadata": {},
   "source": [
    "NON SIMILAR SONG COUNT:"
   ]
  },
  {
   "cell_type": "code",
   "execution_count": null,
   "id": "d252f7dd",
   "metadata": {},
   "outputs": [],
   "source": [
    "nonsimilar = dict(sorted(nonsimilar_count.items(), key=lambda item: item[1], reverse=True))\n",
    "\n",
    "print('---- NON SIMILAR SONG COUNTS ----')\n",
    "for track_name, track_count in nonsimilar.items():\n",
    "    if track_count >= 8:\n",
    "        print(track_name, ':', track_count)"
   ]
  },
  {
   "cell_type": "markdown",
   "id": "b55cf1c3",
   "metadata": {},
   "source": [
    "SIMILAR SONG COUNT:"
   ]
  },
  {
   "cell_type": "code",
   "execution_count": null,
   "id": "7883d8d4",
   "metadata": {},
   "outputs": [],
   "source": [
    "similar = dict(sorted(similar_count.items(), key=lambda item: item[1], reverse=True))\n",
    "\n",
    "print('---- SIMILAR SONG COUNTS ----')\n",
    "for track_name, track_count in similar.items():\n",
    "    if track_count >= 5:\n",
    "        print(track_name, ':', track_count)"
   ]
  },
  {
   "cell_type": "markdown",
   "id": "8e020582",
   "metadata": {},
   "source": [
    "---------------------------------------------------------------\n",
    "\n",
    "\n",
    "### Similar Artists Web Visual\n",
    "\n",
    "\n",
    "First, we want to find the most frequently occurring artist in a given playlist. We use the value_counts function to get a sequence containing counts of unique values sorted in descending order. \n"
   ]
  },
  {
   "cell_type": "code",
   "execution_count": null,
   "id": "d027a055",
   "metadata": {
    "scrolled": true
   },
   "outputs": [],
   "source": [
    "# pandas count distinct values in column\n",
    "tallyArtists = df.value_counts([\"artist\", \"artist_id\"]).reset_index(name='counts')\n",
    "topArtist = tallyArtists['artist_id'][1]\n",
    "tallyArtists.head(4)"
   ]
  },
  {
   "cell_type": "markdown",
   "id": "d9293125",
   "metadata": {},
   "source": [
    "#### Links Dataset\n",
    "\n",
    "I can retrieve artist and artist-related data using the following code, passing the artist ID to the artist and artist-related artist functions under the spotipy package. The returned list of similar artists is sorted by similarity score based on the listener data."
   ]
  },
  {
   "cell_type": "code",
   "execution_count": null,
   "id": "7e30d786",
   "metadata": {},
   "outputs": [],
   "source": [
    "# create links table\n",
    "a = sp.artist(topArtist)\n",
    "ra = sp.artist_related_artists(topArtist)\n",
    "\n",
    "# dictionary of lists \n",
    "links_dict = {\"source_name\":[],\"source_id\":[],\"target_name\":[],\"target_id\":[]};\n",
    "for artist in ra['artists']:\n",
    "    links_dict[\"source_name\"].append(a['name'])\n",
    "    links_dict[\"source_id\"].append(a['id'])\n",
    "    links_dict[\"target_name\"].append(artist['name'])\n",
    "    links_dict[\"target_id\"].append(artist['id'])"
   ]
  },
  {
   "cell_type": "markdown",
   "id": "4bb55c18",
   "metadata": {},
   "source": [
    "Let’s take it a step further and query the API for similar artists for those similar to the most frequent artist in the given playlist. In other words, we generate two generations of the most similar artists."
   ]
  },
  {
   "cell_type": "code",
   "execution_count": null,
   "id": "1bed0d42",
   "metadata": {},
   "outputs": [],
   "source": [
    "for i in range(0, 4):\n",
    "    a = sp.artist(links_dict['target_id'][i])\n",
    "    ra = sp.artist_related_artists(links_dict['target_id'][i])\n",
    "    time.sleep(.5)\n",
    "    for artist in ra['artists']:\n",
    "        links_dict[\"source_name\"].append(a['name'])\n",
    "        links_dict[\"source_id\"].append(a['id'])\n",
    "        links_dict[\"target_name\"].append(artist['name'])\n",
    "        links_dict[\"target_id\"].append(artist['id'])\n",
    "\n",
    "# Convert links dict to dataframe\n",
    "links = pd.DataFrame(links_dict) \n",
    "\n",
    "# Export to excel sheet             \n",
    "links.to_excel(\"data/links.xlsx\", index = False)"
   ]
  },
  {
   "cell_type": "code",
   "execution_count": null,
   "id": "cb013878",
   "metadata": {},
   "outputs": [],
   "source": [
    "links.head(3)"
   ]
  },
  {
   "cell_type": "markdown",
   "id": "b9c8fbdf",
   "metadata": {},
   "source": [
    "#### Points Dataset"
   ]
  },
  {
   "cell_type": "code",
   "execution_count": null,
   "id": "878dc958",
   "metadata": {},
   "outputs": [],
   "source": [
    "# create \"points\" table             \n",
    "all_artist_ids = list(set(links_dict['source_id'] + links_dict['target_id']))\n"
   ]
  },
  {
   "cell_type": "code",
   "execution_count": null,
   "id": "82694d7a",
   "metadata": {},
   "outputs": [],
   "source": [
    "name_count = {}\n",
    "all_artist_names = list(links_dict['source_name'] + links_dict['target_name'])\n",
    "for name in all_artist_names:\n",
    "    if name in name_count:\n",
    "        name_count[name] += 1\n",
    "        \n",
    "    else:\n",
    "        name_count[name] = 1"
   ]
  },
  {
   "cell_type": "code",
   "execution_count": null,
   "id": "1e108ff8",
   "metadata": {},
   "outputs": [],
   "source": [
    "# dictionary of lists \n",
    "points_dict = {\"id\":[],\"name\":[],\"connections\":[],\"followers\":[],\"popularity\":[],\"url\":[],\"image\":[]};\n",
    "\n",
    "for id in all_artist_ids:\n",
    "    time.sleep(.5)\n",
    "    a = sp.artist(id)\n",
    "    points_dict['id'].append(id)\n",
    "    points_dict['name'].append(a['name'])\n",
    "    points_dict['connections'].append(name_count[a['name']])\n",
    "    points_dict['followers'].append(a['followers']['total'])\n",
    "    points_dict['popularity'].append(a['popularity'])\n",
    "    points_dict['url'].append(a['external_urls']['spotify'])\n",
    "    points_dict['image'].append(a['images'][0]['url'])\n",
    "\n",
    "# Convert links dict to dataframe\n",
    "points = pd.DataFrame(points_dict) \n",
    "\n",
    "# Export to excel sheet             \n",
    "points.to_excel(\"data/points.xlsx\", index = False)"
   ]
  },
  {
   "cell_type": "code",
   "execution_count": null,
   "id": "9eb61ee3",
   "metadata": {},
   "outputs": [],
   "source": [
    "points.head(3)"
   ]
  },
  {
   "cell_type": "markdown",
   "id": "d7735c5e",
   "metadata": {},
   "source": [
    "#### Flourish Network Graph\n",
    "\n",
    "The following visualization is based on the [Spotify Similiar Artists API](https://unboxed-analytics.com/data-technology/visualizing-rap-communities-wtih-python-spotifys-api/) article and created with flourish studio.\n"
   ]
  },
  {
   "cell_type": "code",
   "execution_count": null,
   "id": "b1f9619d",
   "metadata": {},
   "outputs": [],
   "source": [
    "%%html\n",
    "\n",
    "<iframe src='https://flo.uri.sh/visualisation/12232729/embed' title='Interactive or visual content' class='flourish-embed-iframe' frameborder='0' scrolling='no' style='width:100%;height:600px;' sandbox='allow-same-origin allow-forms allow-scripts allow-downloads allow-popups allow-popups-to-escape-sandbox allow-top-navigation-by-user-activation'></iframe><div style='width:100%!;margin-top:4px!important;text-align:right!important;'><a class='flourish-credit' href='https://public.flourish.studio/visualisation/12232729/?utm_source=embed&utm_campaign=visualisation/12232729' target='_top' style='text-decoration:none!important'><img alt='Made with Flourish' src='https://public.flourish.studio/resources/made_with_flourish.svg' style='width:105px!important;height:16px!important;border:none!important;margin:0!important;'> </a></div>"
   ]
  },
  {
   "cell_type": "markdown",
   "id": "4e616ad5",
   "metadata": {},
   "source": [
    "---------------------------------------------"
   ]
  },
  {
   "cell_type": "markdown",
   "id": "7c4add3d",
   "metadata": {},
   "source": [
    "## Organized Songs in a Playlist"
   ]
  },
  {
   "cell_type": "code",
   "execution_count": null,
   "id": "eda736bb",
   "metadata": {},
   "outputs": [],
   "source": [
    "import datetime\n",
    "import numpy as np\n",
    "import pandas as pd\n",
    "import matplotlib.pyplot as plt\n",
    "from sklearn import cluster, decomposition"
   ]
  },
  {
   "cell_type": "code",
   "execution_count": null,
   "id": "be09c1ff",
   "metadata": {},
   "outputs": [],
   "source": [
    "songs = pd.read_csv('data/my_playlist.csv', encoding_errors='ignore', index_col=0, header=0)\n",
    "songs = df[['name','acousticness', 'danceability', 'energy', 'instrumentalness', \n",
    "            'liveness', 'speechiness', 'tempo', 'valence',  'loudness_scaled']]\n",
    "songs.describe()"
   ]
  },
  {
   "cell_type": "code",
   "execution_count": null,
   "id": "77ffdb34",
   "metadata": {},
   "outputs": [],
   "source": [
    "labels = songs.values[:,0]\n",
    "X = songs.values[:,1:10]"
   ]
  },
  {
   "cell_type": "code",
   "execution_count": null,
   "id": "0b7e481a",
   "metadata": {},
   "outputs": [],
   "source": [
    "kmeans = cluster.AffinityPropagation(preference=-200)\n",
    "kmeans.fit(X)"
   ]
  },
  {
   "cell_type": "code",
   "execution_count": null,
   "id": "1204f9f3",
   "metadata": {},
   "outputs": [],
   "source": [
    "predictions = {}\n",
    "for p,n in zip(kmeans.predict(X),labels):\n",
    "    if not predictions.get(p):\n",
    "        predictions[p] = []\n",
    "        \n",
    "    predictions[p] += [n]\n",
    "\n",
    "for p in predictions:\n",
    "    print(\"Category\",p)\n",
    "    print(\"-----\")\n",
    "    for n in predictions[p]:\n",
    "        print(n)\n",
    "    print(\"\")"
   ]
  },
  {
   "cell_type": "markdown",
   "id": "403c37d1",
   "metadata": {},
   "source": [
    "------------------------------\n",
    "\n",
    "### K Means Clustering\n",
    "\n",
    "\n",
    "Using K Means clustering, I will be choosing to [break my playlist into 3 smaller playlists](https://github.com/ankushbharadwaj/reorganize-my-spotify-playlist/blob/master/reorder%20my%20spotify%20playlist.ipynb).\n",
    "\n"
   ]
  },
  {
   "cell_type": "code",
   "execution_count": null,
   "id": "13685291",
   "metadata": {},
   "outputs": [],
   "source": [
    "from sklearn.cluster import KMeans\n",
    "import seaborn as sns\n",
    "%matplotlib inline\n",
    "playlist_tracks = df[['artist','name','acousticness','danceability','energy',\n",
    "                      'liveness', 'instrumentalness','speechiness','valence']]\n",
    "\n",
    "kmeans = KMeans(n_clusters = 3)\n",
    "kmeans.fit(playlist_tracks.drop(['artist', 'name'], axis = 1))"
   ]
  },
  {
   "cell_type": "code",
   "execution_count": null,
   "id": "a14f6a48",
   "metadata": {},
   "outputs": [],
   "source": [
    "sns.countplot([str(group) for group in kmeans.labels_], color = 'lightblue')"
   ]
  },
  {
   "cell_type": "markdown",
   "id": "db9253fc",
   "metadata": {},
   "source": [
    "#### Visualizing the Clusters\n",
    "\n",
    "\n",
    "Moving forward, let's look at differences in the audio features of each group.\n",
    "\n"
   ]
  },
  {
   "cell_type": "code",
   "execution_count": null,
   "id": "8e0ad169",
   "metadata": {},
   "outputs": [],
   "source": [
    "from sklearn.preprocessing import StandardScaler\n",
    "scaler = StandardScaler()\n",
    "scaler.fit(playlist_tracks.drop(['artist', 'name'], axis = 1))\n",
    "scaled_data = scaler.transform(playlist_tracks.drop(['artist', 'name'], axis = 1))"
   ]
  },
  {
   "cell_type": "code",
   "execution_count": null,
   "id": "45bba8b5",
   "metadata": {},
   "outputs": [],
   "source": [
    "from sklearn.decomposition import PCA\n",
    "pca = PCA(n_components =2)\n",
    "pca.fit(scaled_data)\n",
    "data_pca = pca.transform(scaled_data)\n",
    "\n",
    "plt.scatter(data_pca[:,0], data_pca[:,1], c = list(kmeans.labels_), cmap = 'Paired')\n",
    "plt.xlabel('PC1: {:.3f}'.format(pca.explained_variance_ratio_[0]), size = 15)\n",
    "plt.ylabel('PC2: {:.3f}'.format(pca.explained_variance_ratio_[1]), size = 15)"
   ]
  },
  {
   "cell_type": "code",
   "execution_count": null,
   "id": "f31c35c4",
   "metadata": {},
   "outputs": [],
   "source": [
    "playlist_tracks['group'] = list(kmeans.labels_)\n",
    "playlist_tracks = playlist_tracks.astype({'group': str})"
   ]
  },
  {
   "cell_type": "code",
   "execution_count": null,
   "id": "7fdb3f85",
   "metadata": {},
   "outputs": [],
   "source": [
    "means = pd.DataFrame(index = range(0,3), \n",
    "                    columns = list(playlist_tracks[playlist_tracks['group'] == '0'].describe().loc['mean'].index))\n",
    "means.iloc[0] = playlist_tracks[playlist_tracks['group'] == '0'].describe().loc['mean']\n",
    "means.iloc[1] = playlist_tracks[playlist_tracks['group'] == '1'].describe().loc['mean']\n",
    "means.iloc[2] = playlist_tracks[playlist_tracks['group'] == '2'].describe().loc['mean']\n",
    "means"
   ]
  },
  {
   "cell_type": "code",
   "execution_count": null,
   "id": "fccbc600",
   "metadata": {},
   "outputs": [],
   "source": [
    "playlist_tracks = playlist_tracks.sort_values(by = ['group'])\n",
    "playlist_tracks.head()"
   ]
  },
  {
   "cell_type": "markdown",
   "id": "ce8ec14f",
   "metadata": {},
   "source": [
    "------------------------------------------------"
   ]
  },
  {
   "cell_type": "markdown",
   "id": "ae1a48cd",
   "metadata": {},
   "source": [
    "### GENRES"
   ]
  },
  {
   "cell_type": "code",
   "execution_count": null,
   "id": "7f2def9d",
   "metadata": {},
   "outputs": [],
   "source": []
  }
 ],
 "metadata": {
  "kernelspec": {
   "display_name": "Python 3 (ipykernel)",
   "language": "python",
   "name": "python3"
  },
  "language_info": {
   "codemirror_mode": {
    "name": "ipython",
    "version": 3
   },
   "file_extension": ".py",
   "mimetype": "text/x-python",
   "name": "python",
   "nbconvert_exporter": "python",
   "pygments_lexer": "ipython3",
   "version": "3.9.12"
  }
 },
 "nbformat": 4,
 "nbformat_minor": 5
}
