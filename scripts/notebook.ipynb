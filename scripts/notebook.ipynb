{
 "cells": [
  {
   "cell_type": "markdown",
   "id": "f88a1cd9",
   "metadata": {},
   "source": [
    "# Spotify Playlist Analysis\n",
    "\n",
    "\n",
    "<span class = \"myhighlight\">Objective.</span> Using Python, the project goal is to implement a k-means clustering algorithm, a technique often used in machine learning, and use it for data analysis. We write various functions making use of lists, sets, dictionaries, sorting, and graph data structures for computational problem solving and analysis.\n"
   ]
  },
  {
   "cell_type": "code",
   "execution_count": 89,
   "id": "2bb21b41",
   "metadata": {},
   "outputs": [],
   "source": [
    "import csv\n",
    "import time\n",
    "import pandas as pd\n",
    "import numpy as np\n",
    "import matplotlib.pyplot as plt\n",
    "import spotipy\n",
    "from spotipy.oauth2 import SpotifyClientCredentials\n",
    "from operator import index"
   ]
  },
  {
   "cell_type": "markdown",
   "id": "0b80b5b8",
   "metadata": {},
   "source": [
    "First, we create a Client Credentials Flow Manager used in server-to-server authentication by passing the necessary parameters to the [Spotify OAuth](https://github.com/spotipy-dev/spotipy/blob/master/spotipy/oauth2.py#L261) class. We provide a client id and client secret to the constructor of this authorization flow, which does not require user interaction.\n",
    "    "
   ]
  },
  {
   "cell_type": "code",
   "execution_count": 90,
   "id": "12570e30",
   "metadata": {},
   "outputs": [],
   "source": [
    "# Set client id and client secret\n",
    "client_id = '4cf3afdca2d74dc48af9999b1b7c9c61'\n",
    "client_secret = 'f6ca08ad37bb41a0afab5ca1dc74b208'\n",
    "\n",
    "# Spotify authentication\n",
    "client_credentials_manager = SpotifyClientCredentials(client_id, client_secret)\n",
    "sp = spotipy.Spotify(client_credentials_manager = client_credentials_manager)"
   ]
  },
  {
   "cell_type": "markdown",
   "id": "ee2535bc",
   "metadata": {},
   "source": [
    "Now, we want to get the full details of the tracks of a playlist based on a playlist ID, URI, or URL. The following function takes a playlist and gets information from each individual song.\n"
   ]
  },
  {
   "cell_type": "code",
   "execution_count": 91,
   "id": "e07aad57",
   "metadata": {},
   "outputs": [],
   "source": [
    "# Get playlist song features and artist info\n",
    "def playlistTracks(id, artist_ids):\n",
    "    meta = sp.track(id)\n",
    "    features = sp.audio_features(id)\n",
    "    artist_info = sp.artist(artist_ids)\n",
    "\n",
    "    # Metadata\n",
    "    name = meta['name']\n",
    "    track_id = meta['id']\n",
    "    album = meta['album']['name']\n",
    "    artist = meta['album']['artists'][0]['name']\n",
    "    artist_id = meta['album']['artists'][0]['id']\n",
    "    release_date = meta['album']['release_date']\n",
    "    length = meta['duration_ms']\n",
    "    popularity = meta['popularity']\n",
    "\n",
    "    # Main artist name, popularity, genre\n",
    "    artist_pop = artist_info[\"popularity\"]\n",
    "    artist_genres = artist_info[\"genres\"]\n",
    "\n",
    "    # Track features\n",
    "    acousticness = features[0]['acousticness']\n",
    "    danceability = features[0]['danceability']\n",
    "    energy = features[0]['energy']\n",
    "    instrumentalness = features[0]['instrumentalness']\n",
    "    liveness = features[0]['liveness']\n",
    "    loudness = features[0]['loudness']\n",
    "    speechiness = features[0]['speechiness']\n",
    "    tempo = features[0]['tempo']\n",
    "    valence = features[0]['valence']\n",
    "    key = features[0]['key']\n",
    "    mode = features[0]['mode']\n",
    "    time_signature = features[0]['time_signature']\n",
    "\n",
    "    return [name, track_id, album, artist, artist_id, release_date, length, popularity, \n",
    "            artist_pop, artist_genres, acousticness, danceability, \n",
    "            energy, instrumentalness, liveness, loudness, speechiness, \n",
    "            tempo, valence, key, mode, time_signature]"
   ]
  },
  {
   "cell_type": "markdown",
   "id": "fed508cc",
   "metadata": {},
   "source": [
    "Choose a specific playlist to analyze by copying the URL from the Spotify Player interface. Using that link, the following code uses the playlist_tracks method to retrieve a list of IDs and corresponding artists for each track from the playlist. \n",
    "\n"
   ]
  },
  {
   "cell_type": "code",
   "execution_count": 92,
   "id": "c948fae9",
   "metadata": {},
   "outputs": [],
   "source": [
    "# Spotify playlist url\n",
    "playlist_link = \"https://open.spotify.com/playlist/4lSykOrQfnAiCgtHKVudTT\"\n",
    "playlist_link = \"https://open.spotify.com/playlist/1nvpVNmzL7Vi1pXcQEiaLx?si=a62187de23924f4c\"\n",
    "playlist_URI = playlist_link.split(\"/\")[-1].split(\"?\")[0]\n",
    "\n",
    "# Extract song ids and artists from playlist\n",
    "track_ids = [x1[\"track\"][\"id\"]\n",
    "             for x1 in sp.playlist_tracks(playlist_URI)[\"items\"]]\n",
    "artist_uris = [x2[\"track\"][\"artists\"][0][\"uri\"]\n",
    "               for x2 in sp.playlist_tracks(playlist_URI)[\"items\"]]"
   ]
  },
  {
   "cell_type": "markdown",
   "id": "6d2bc235",
   "metadata": {},
   "source": [
    "The following code loops through each track ID in the playlist and extracts additional song information by calling the function we created above. From there, we can create a pandas data frame by passing in the extracted information and giving the column header names we want. "
   ]
  },
  {
   "cell_type": "code",
   "execution_count": 93,
   "id": "4f8bc67b",
   "metadata": {},
   "outputs": [],
   "source": [
    "# Loop over track ids\n",
    "tracks = []\n",
    "for i in range(len(track_ids)):\n",
    "    time.sleep(.5)\n",
    "    track = playlistTracks(track_ids[i], artist_uris[i])\n",
    "    tracks.append(track)\n",
    "    \n",
    "# Save the playlist name for each song\n",
    "playlist_name = sp.user_playlist(user = None, playlist_id = playlist_URI, fields=\"name\")\n",
    "for x in tracks:\n",
    "    x.append(playlist_name['name'])"
   ]
  },
  {
   "cell_type": "code",
   "execution_count": 94,
   "id": "0c5a3331",
   "metadata": {},
   "outputs": [],
   "source": [
    "# Create dataframe\n",
    "df = pd.DataFrame(\n",
    "    tracks, columns=['name', 'track_id', 'album', 'artist', 'artist_id','release_date',\n",
    "                     'length', 'popularity', 'artist_pop', 'artist_genres',\n",
    "                     'acousticness', 'danceability', 'energy',\n",
    "                     'instrumentalness', 'liveness', 'loudness',\n",
    "                     'speechiness', 'tempo', 'valence', 'key', 'mode',\n",
    "                     'time_signature', 'playlist'])\n",
    "# Save to csv file\n",
    "df.to_csv(\"spotify.csv\", sep=',')"
   ]
  },
  {
   "cell_type": "markdown",
   "id": "eef6825a",
   "metadata": {},
   "source": [
    "------------------------------------------------------"
   ]
  },
  {
   "cell_type": "markdown",
   "id": "4cbd9460",
   "metadata": {},
   "source": [
    "### The Data\n"
   ]
  },
  {
   "cell_type": "markdown",
   "id": "b0a03860",
   "metadata": {},
   "source": [
    "\n",
    "\n",
    "\n",
    "\n",
    "[**Metadata.**](https://developer.spotify.com/documentation/web-api/reference/#/operations/get-track)\n",
    "- `name`: The name of the track.\n",
    "- `album`: The name of the album on which the track appears.\n",
    "- `artist`: The name of the artist who performed the track.\n",
    "- `release_date`: The date the album was first released.\n",
    "- `length`: The track length in milliseconds.\n",
    "- `popularity`: The popularity of the track. Values are between 0 and 100. The popularity is calculated by an algorithm based on the total number of plays the track has had and how recent those plays are.\n",
    "\n",
    "\n",
    "[**Artists.**](https://developer.spotify.com/documentation/web-api/reference/#/operations/get-an-artist)\n",
    "- `artist_pop`: The popularity of the artist. The value will be between 0 and 100, with 100 being the most popular. The artist's popularity is calculated from the popularity of all the artist's tracks.\n",
    "- `artist_genres`: A list of the genres the artist is associated with.\n",
    "\n",
    "\n",
    "[**Audio Features.** ](https://developer.spotify.com/documentation/web-api/reference/#/operations/get-several-audio-features)\n",
    "- `acousticness`: A confidence measure from 0.0 to 1.0 of whether the track is acoustic.\n",
    "- `danceability`: Describes how suitable a track is for dancing based on a combination of musical elements including tempo, rhythm, beat strength, and regularity.\n",
    "- `energy`: A measure from 0.0 to 1.0 that represents a perceptual measure of intensity and activity.\n",
    "- `instrumentalness`: Predicts whether a track contains no vocals. The closer the value is to 1.0, the more likely the track contains no vocal content.\n",
    "- `liveness`: Detects the presence of an audience in the recording. Higher values represent an increased probability that the track was performed live.\n",
    "- `loudness`: The overall loudness of a track in decibels (dB). Values are averaged across entire track, ranging between -60 and 0 db.\n",
    "- `speechiness`: Detects the presence of spoken words in a track. The more speech-like the recording, the closer to 1.0.\n",
    "- `tempo`: The overall estimated speed or pace of a track in beats per minute (BPM).\n",
    "- `valence`: A measure from 0.0 to 1.0 describing the musical positiveness conveyed by a track. High valence sound more positive (e.g. happy, cheerful, euphoric).\n",
    "- `key`: The key the track is in. If no key was detected, the value is -1.\n",
    "- `mode`: The modality (major or minor) of a track. Major is represented by 1 and minor is 0.\n",
    "- `time_signature`: An estimated time signature (how many beats are in each measure), ranging from 3 to 7 indicating time signatures of \"3/4\", to \"7/4\".\n",
    "\n"
   ]
  },
  {
   "cell_type": "code",
   "execution_count": 95,
   "id": "87c78664",
   "metadata": {},
   "outputs": [
    {
     "data": {
      "text/html": [
       "<div>\n",
       "<style scoped>\n",
       "    .dataframe tbody tr th:only-of-type {\n",
       "        vertical-align: middle;\n",
       "    }\n",
       "\n",
       "    .dataframe tbody tr th {\n",
       "        vertical-align: top;\n",
       "    }\n",
       "\n",
       "    .dataframe thead th {\n",
       "        text-align: right;\n",
       "    }\n",
       "</style>\n",
       "<table border=\"1\" class=\"dataframe\">\n",
       "  <thead>\n",
       "    <tr style=\"text-align: right;\">\n",
       "      <th></th>\n",
       "      <th>name</th>\n",
       "      <th>track_id</th>\n",
       "      <th>album</th>\n",
       "      <th>artist</th>\n",
       "      <th>artist_id</th>\n",
       "      <th>release_date</th>\n",
       "      <th>length</th>\n",
       "      <th>popularity</th>\n",
       "      <th>artist_pop</th>\n",
       "      <th>artist_genres</th>\n",
       "      <th>...</th>\n",
       "      <th>instrumentalness</th>\n",
       "      <th>liveness</th>\n",
       "      <th>loudness</th>\n",
       "      <th>speechiness</th>\n",
       "      <th>tempo</th>\n",
       "      <th>valence</th>\n",
       "      <th>key</th>\n",
       "      <th>mode</th>\n",
       "      <th>time_signature</th>\n",
       "      <th>playlist</th>\n",
       "    </tr>\n",
       "  </thead>\n",
       "  <tbody>\n",
       "    <tr>\n",
       "      <th>0</th>\n",
       "      <td>2 AM</td>\n",
       "      <td>3g3RCV5ImXwzHpKwM2iunc</td>\n",
       "      <td>Pure Infinity</td>\n",
       "      <td>SwaVay</td>\n",
       "      <td>29gIYsdyccGoUc6qgkZeTK</td>\n",
       "      <td>2019-05-24</td>\n",
       "      <td>198577</td>\n",
       "      <td>55</td>\n",
       "      <td>51</td>\n",
       "      <td>[atl hip hop, indie hip hop, underground hip hop]</td>\n",
       "      <td>...</td>\n",
       "      <td>0.000098</td>\n",
       "      <td>0.362</td>\n",
       "      <td>-12.353</td>\n",
       "      <td>0.0727</td>\n",
       "      <td>126.799</td>\n",
       "      <td>0.184</td>\n",
       "      <td>7</td>\n",
       "      <td>1</td>\n",
       "      <td>4</td>\n",
       "      <td>but my feet in bottega</td>\n",
       "    </tr>\n",
       "    <tr>\n",
       "      <th>1</th>\n",
       "      <td>Golden Child</td>\n",
       "      <td>04QWC97Dvd9g0IEDoyUDBX</td>\n",
       "      <td>Lady Wrangler</td>\n",
       "      <td>Shaboozey</td>\n",
       "      <td>3y2cIKLjiOlp1Np37WiUdH</td>\n",
       "      <td>2018-10-05</td>\n",
       "      <td>177773</td>\n",
       "      <td>46</td>\n",
       "      <td>56</td>\n",
       "      <td>[pop rap]</td>\n",
       "      <td>...</td>\n",
       "      <td>0.000002</td>\n",
       "      <td>0.360</td>\n",
       "      <td>-8.848</td>\n",
       "      <td>0.2900</td>\n",
       "      <td>151.029</td>\n",
       "      <td>0.365</td>\n",
       "      <td>0</td>\n",
       "      <td>1</td>\n",
       "      <td>4</td>\n",
       "      <td>but my feet in bottega</td>\n",
       "    </tr>\n",
       "  </tbody>\n",
       "</table>\n",
       "<p>2 rows × 23 columns</p>\n",
       "</div>"
      ],
      "text/plain": [
       "           name                track_id          album     artist  \\\n",
       "0          2 AM  3g3RCV5ImXwzHpKwM2iunc  Pure Infinity     SwaVay   \n",
       "1  Golden Child  04QWC97Dvd9g0IEDoyUDBX  Lady Wrangler  Shaboozey   \n",
       "\n",
       "                artist_id release_date  length  popularity  artist_pop  \\\n",
       "0  29gIYsdyccGoUc6qgkZeTK   2019-05-24  198577          55          51   \n",
       "1  3y2cIKLjiOlp1Np37WiUdH   2018-10-05  177773          46          56   \n",
       "\n",
       "                                       artist_genres  ...  instrumentalness  \\\n",
       "0  [atl hip hop, indie hip hop, underground hip hop]  ...          0.000098   \n",
       "1                                          [pop rap]  ...          0.000002   \n",
       "\n",
       "   liveness  loudness  speechiness    tempo  valence  key  mode  \\\n",
       "0     0.362   -12.353       0.0727  126.799    0.184    7     1   \n",
       "1     0.360    -8.848       0.2900  151.029    0.365    0     1   \n",
       "\n",
       "   time_signature                playlist  \n",
       "0               4  but my feet in bottega  \n",
       "1               4  but my feet in bottega  \n",
       "\n",
       "[2 rows x 23 columns]"
      ]
     },
     "execution_count": 95,
     "metadata": {},
     "output_type": "execute_result"
    }
   ],
   "source": [
    "# df = pd.read_csv('playlists.csv', encoding_errors='ignore', index_col=0, header=0)\n",
    "df.head(2)"
   ]
  },
  {
   "cell_type": "markdown",
   "id": "f5bc0e00",
   "metadata": {},
   "source": [
    "How many songs do we have?"
   ]
  },
  {
   "cell_type": "code",
   "execution_count": 96,
   "id": "7c2b09d8",
   "metadata": {},
   "outputs": [
    {
     "name": "stdout",
     "output_type": "stream",
     "text": [
      "Number of songs: 100\n",
      "Number of attributes per song: 23\n"
     ]
    }
   ],
   "source": [
    "# Number of rows and columns\n",
    "rows, cols = df.shape\n",
    "print(f'Number of songs: {rows}')\n",
    "print(f'Number of attributes per song: {cols}')"
   ]
  },
  {
   "cell_type": "code",
   "execution_count": 97,
   "id": "f3fbd2db",
   "metadata": {},
   "outputs": [
    {
     "name": "stdout",
     "output_type": "stream",
     "text": [
      "name: Lil Yachty - Yacht Club (feat. Juice WRLD)\n"
     ]
    }
   ],
   "source": [
    "# Get a song string search\n",
    "def getMusicName(elem):\n",
    "    return f\"{elem['artist']} - {elem['name']}\"\n",
    "\n",
    "# Select song and get track info\n",
    "anySong = df.loc[15]\n",
    "anySongName = getMusicName(anySong)\n",
    "print('name:', anySongName)"
   ]
  },
  {
   "cell_type": "markdown",
   "id": "96aeda36",
   "metadata": {},
   "source": [
    "-----------------------"
   ]
  },
  {
   "cell_type": "markdown",
   "id": "f889ab43",
   "metadata": {},
   "source": [
    "## Spotify Songs - Similarity Search\n",
    "\n",
    "\n",
    "\n",
    "\n",
    "Below, we create a query to retrieve similar elements based on Euclidean distance. In mathematics, the Euclidean distance between two points is the length of the line segment between the two points. In this sense, the closer the distance is to 0, the more similar the songs are.\n",
    "\n",
    "\n",
    "\n",
    "#### [KNN Algorithm](https://www.kaggle.com/code/leomauro/spotify-songs-similarity-search/notebook)\n",
    "\n",
    "\n",
    "The k-Nearest Neighbors (KNN) algorithm searches for k similar elements based on a query point at the center within a predefined radius. \n",
    "\n"
   ]
  },
  {
   "cell_type": "code",
   "execution_count": 98,
   "id": "11a2b1d3",
   "metadata": {},
   "outputs": [],
   "source": [
    "def knnQuery(queryPoint, arrCharactPoints, k):\n",
    "    queryVals = queryPoint.tolist()\n",
    "    distVals = []\n",
    "    \n",
    "    # Copy of dataframe indices and data\n",
    "    tmp = arrCharactPoints.copy(deep = True)  \n",
    "    for index, row in tmp.iterrows():\n",
    "        feat = row.values.tolist()\n",
    "        \n",
    "        # Calculate sum of squared differences\n",
    "        ssd = sum(abs(feat[i] - queryVals[i]) ** 2 for i in range(len(queryVals)))\n",
    "        \n",
    "        # Get euclidean distance\n",
    "        distVals.append(ssd ** 0.5)\n",
    "        \n",
    "    tmp['distance'] = distVals\n",
    "    tmp = tmp.sort_values('distance')\n",
    "    \n",
    "    # K closest and furthest points\n",
    "    return tmp.head(k).index, tmp.tail(k).index"
   ]
  },
  {
   "cell_type": "code",
   "execution_count": 99,
   "id": "7477b37b",
   "metadata": {},
   "outputs": [],
   "source": [
    "# Execute KNN removing the query point\n",
    "def querySimilars(df, columns, idx, func, param):\n",
    "    arr = df[columns].copy(deep = True)\n",
    "    queryPoint = arr.loc[idx]\n",
    "    arr = arr.drop([idx])\n",
    "    return func(queryPoint, arr, param)"
   ]
  },
  {
   "cell_type": "markdown",
   "id": "60759fa9",
   "metadata": {},
   "source": [
    "**KNN Query Example.** \n",
    "\n",
    "Our function allows us to create personalized query points and modify the columns to explore other options. For example, the following code selects a specific set of song attributes and then searches for the $k$ highest values of these attributes set equal to one.\n",
    "\n",
    "Let's search for  $k=3$  similar songs to a query point $\\textrm{songIndex} = 6$. "
   ]
  },
  {
   "cell_type": "code",
   "execution_count": 100,
   "id": "a08e5aef",
   "metadata": {},
   "outputs": [
    {
     "name": "stdout",
     "output_type": "stream",
     "text": [
      "---- Query Point ----\n",
      "YG - Sober (feat. Roddy Ricch & Post Malone)\n",
      "---- k = 3 similar songs ----\n",
      "Future - WAIT FOR U (feat. Drake & Tems)\n",
      "Juice WRLD - Fast\n",
      "The Game - Eazy\n",
      "---- k = 3 nonsimilar songs ----\n",
      "Fresco Trey - Key To My Heart\n",
      "6LACK - Switch\n",
      "Post Malone - Candy Paint\n"
     ]
    }
   ],
   "source": [
    "# Select song and column attributes\n",
    "songIndex = 6 # query point\n",
    "columns = ['acousticness', 'danceability', 'energy', 'speechiness', 'valence','tempo']\n",
    "\n",
    "# Set query parameters\n",
    "func, param = knnQuery, 3\n",
    "\n",
    "# Implement query\n",
    "response = querySimilars(df, columns, songIndex, func, param)\n",
    "\n",
    "print(\"---- Query Point ----\")\n",
    "print(getMusicName(df.loc[songIndex]))\n",
    "print('---- k = 3 similar songs ----')\n",
    "for track_id in response[0]:\n",
    "    track_name = getMusicName(df.loc[track_id])\n",
    "    print(track_name)\n",
    "print('---- k = 3 nonsimilar songs ----')\n",
    "for track_id in response[1]:\n",
    "    track_name = getMusicName(df.loc[track_id])\n",
    "    print(track_name)"
   ]
  },
  {
   "cell_type": "markdown",
   "id": "847e618e",
   "metadata": {},
   "source": [
    "The code below implements the same idea as above, but queries each track in a given playlist instead of a single defined query point."
   ]
  },
  {
   "cell_type": "code",
   "execution_count": 101,
   "id": "ce084eff",
   "metadata": {},
   "outputs": [],
   "source": [
    "similar = {} # Similar songs count\n",
    "nonsimilar = {} # Non-similar songs count\n",
    "\n",
    "for trackID in df.index:\n",
    "    response = querySimilars(df, columns, trackID, func, param)\n",
    "\n",
    "    # Get similar song ids and info\n",
    "    for similarID in response[0]:\n",
    "        track = getMusicName(df.loc[similarID])\n",
    "        if track in similar:\n",
    "            similar[track] += 1\n",
    "        else:\n",
    "            similar[track] = 1\n",
    "\n",
    "    # Get non-similar song ids and info\n",
    "    for nonsimilarID in response[1]:\n",
    "        track = getMusicName(df.loc[nonsimilarID])\n",
    "        if track in nonsimilar:\n",
    "            nonsimilar[track] += 1\n",
    "        else:\n",
    "            nonsimilar[track] = 1"
   ]
  },
  {
   "cell_type": "markdown",
   "id": "f65033c0",
   "metadata": {},
   "source": [
    "NON SIMILAR SONG COUNT:"
   ]
  },
  {
   "cell_type": "code",
   "execution_count": 102,
   "id": "d252f7dd",
   "metadata": {},
   "outputs": [
    {
     "name": "stdout",
     "output_type": "stream",
     "text": [
      "---- NON SIMILAR SONG COUNTS ----\n",
      "Post Malone - Internet : 55\n",
      "AG Club - Memphis : 54\n",
      "Post Malone - Candy Paint : 50\n",
      "Boslen - DENY (feat. Tyla Yaweh) : 50\n",
      "6LACK - Switch : 46\n",
      "Fresco Trey - Key To My Heart : 45\n"
     ]
    }
   ],
   "source": [
    "nonsimilar = dict(sorted(nonsimilar.items(), key=lambda item: item[1], reverse=True))\n",
    "print('---- NON SIMILAR SONG COUNTS ----')\n",
    "for song, songCount in nonsimilar.items():\n",
    "    if songCount >= 8:\n",
    "        print(song, ':', songCount)"
   ]
  },
  {
   "cell_type": "markdown",
   "id": "b55cf1c3",
   "metadata": {},
   "source": [
    "SIMILAR SONG COUNT:"
   ]
  },
  {
   "cell_type": "code",
   "execution_count": 103,
   "id": "7883d8d4",
   "metadata": {},
   "outputs": [
    {
     "name": "stdout",
     "output_type": "stream",
     "text": [
      "---- SIMILAR SONG COUNTS ----\n",
      "Lil Mosey - Noticed : 8\n",
      "Post Malone - Paranoid : 8\n"
     ]
    }
   ],
   "source": [
    "similar = dict(sorted(similar.items(), key=lambda item: item[1], reverse=True))\n",
    "print('---- SIMILAR SONG COUNTS ----')\n",
    "for song, song_count in similar.items():\n",
    "    if song_count >= 8:\n",
    "        print(song, ':', song_count)"
   ]
  },
  {
   "cell_type": "markdown",
   "id": "2b11374b",
   "metadata": {},
   "source": [
    "-------------------------------------"
   ]
  },
  {
   "cell_type": "code",
   "execution_count": null,
   "id": "6d8e8263",
   "metadata": {},
   "outputs": [],
   "source": []
  },
  {
   "cell_type": "markdown",
   "id": "dbb42b19",
   "metadata": {},
   "source": [
    "##  Spotify Song Recommendation System\n",
    "\n",
    "We implement a content-based filtering approach for Spotify Song recommendation based on a [medium article](https://towardsdatascience.com/part-iii-building-a-song-recommendation-system-with-spotify-cf76b52705e7) for building a Spotify song recommendation system series."
   ]
  },
  {
   "cell_type": "code",
   "execution_count": 104,
   "id": "527ad34b",
   "metadata": {},
   "outputs": [],
   "source": [
    "from sklearn.metrics.pairwise import cosine_similarity\n",
    "from sklearn.preprocessing import MinMaxScaler\n",
    "from sklearn.feature_extraction.text import TfidfVectorizer\n",
    "from textblob import TextBlob\n",
    "import re"
   ]
  },
  {
   "cell_type": "markdown",
   "id": "ee12fe55",
   "metadata": {},
   "source": [
    "First, we want to check for song duplicates in the playlist. The following code uses the `drop_duplicates` function in **pandas** to drop duplicate songs while building an underlying dataframe with all unique content."
   ]
  },
  {
   "cell_type": "code",
   "execution_count": 105,
   "id": "76cdac1d",
   "metadata": {},
   "outputs": [
    {
     "data": {
      "text/html": [
       "<div>\n",
       "<style scoped>\n",
       "    .dataframe tbody tr th:only-of-type {\n",
       "        vertical-align: middle;\n",
       "    }\n",
       "\n",
       "    .dataframe tbody tr th {\n",
       "        vertical-align: top;\n",
       "    }\n",
       "\n",
       "    .dataframe thead th {\n",
       "        text-align: right;\n",
       "    }\n",
       "</style>\n",
       "<table border=\"1\" class=\"dataframe\">\n",
       "  <thead>\n",
       "    <tr style=\"text-align: right;\">\n",
       "      <th></th>\n",
       "      <th>artist</th>\n",
       "      <th>name</th>\n",
       "      <th>playlist</th>\n",
       "    </tr>\n",
       "  </thead>\n",
       "  <tbody>\n",
       "    <tr>\n",
       "      <th>0</th>\n",
       "      <td>SwaVay</td>\n",
       "      <td>2 AM</td>\n",
       "      <td>but my feet in bottega</td>\n",
       "    </tr>\n",
       "    <tr>\n",
       "      <th>1</th>\n",
       "      <td>Shaboozey</td>\n",
       "      <td>Golden Child</td>\n",
       "      <td>but my feet in bottega</td>\n",
       "    </tr>\n",
       "    <tr>\n",
       "      <th>2</th>\n",
       "      <td>The Game</td>\n",
       "      <td>Eazy</td>\n",
       "      <td>but my feet in bottega</td>\n",
       "    </tr>\n",
       "  </tbody>\n",
       "</table>\n",
       "</div>"
      ],
      "text/plain": [
       "      artist          name                playlist\n",
       "0     SwaVay          2 AM  but my feet in bottega\n",
       "1  Shaboozey  Golden Child  but my feet in bottega\n",
       "2   The Game          Eazy  but my feet in bottega"
      ]
     },
     "execution_count": 105,
     "metadata": {},
     "output_type": "execute_result"
    }
   ],
   "source": [
    "# Duplicates of songs accross playlists\n",
    "playlistDF = df.copy(deep = True)\n",
    "playlistDF[['artist','name','playlist']].head(3)"
   ]
  },
  {
   "cell_type": "code",
   "execution_count": 109,
   "id": "f12b90f1",
   "metadata": {},
   "outputs": [
    {
     "name": "stdout",
     "output_type": "stream",
     "text": [
      "True\n"
     ]
    }
   ],
   "source": [
    "# Drop song duplicates\n",
    "def drop_duplicates(df):\n",
    "    df['artists_song']=df.apply(lambda row: row['artist']+' - '+row['name'],axis=1)\n",
    "    return df.drop_duplicates('artists_song')\n",
    "\n",
    "songDF = drop_duplicates(playlistDF)\n",
    "print(len(pd.unique(songDF.artists_song)) == len(songDF))"
   ]
  },
  {
   "cell_type": "markdown",
   "id": "0040adbe",
   "metadata": {},
   "source": [
    "For the audio features, we can categorize each attribute into four general categories as follows.\n",
    "\n",
    "- **Mood**: Danceability, Energy, Tempo, Valence\n",
    "- **Properties**: Instrumentalness, Loudness, Speechiness\n",
    "- **Context**: Acousticness, Liveness\n",
    "- **Metadata**: key, mode, time_signature\n",
    "\n",
    "    "
   ]
  },
  {
   "cell_type": "code",
   "execution_count": 110,
   "id": "a2fdf5b8",
   "metadata": {},
   "outputs": [],
   "source": [
    "songDF = songDF[[\n",
    "    'name', 'track_id', 'release_date', 'popularity', # Track Metadata\n",
    "    'artist', 'artist_id', 'artist_pop', 'artist_genres', # Artist Info\n",
    "    'danceability', 'energy', 'valence', 'tempo', # Audio Features - Mood\n",
    "    'instrumentalness', 'loudness', 'speechiness', # Audio Features - Properties\n",
    "    'acousticness', 'liveness', # Audio Features - Context\n",
    "    'key', 'mode', 'time_signature' # Audio Features - Metadata\n",
    "]]"
   ]
  },
  {
   "cell_type": "markdown",
   "id": "7c984191",
   "metadata": {},
   "source": [
    "### Feature Generation\n",
    "\n",
    "\n",
    "Data feature engineering methods are an integral part of recommender systems. We implement the following process into the feature generation pipeline. \n",
    "\n",
    "#### 1. Sentiment Analysis\n",
    "\n",
    "The following code performs a simple sentiment analysis using the subjectivity and polarity forms from the TextBlob package. Subjectivity, on a scale from 0 to 1, is the amount of personal opinion and factual information in the text. Polarity, on a scale from -1 to 1, is the degree of sentimentality that leads to negation."
   ]
  },
  {
   "cell_type": "code",
   "execution_count": 111,
   "id": "b4903093",
   "metadata": {},
   "outputs": [],
   "source": [
    "# Get subjectivity & polarity using textblob\n",
    "def getSubjectivity(text):\n",
    "    return TextBlob(text).sentiment.subjectivity\n",
    "def getPolarity(text):\n",
    "    return TextBlob(text).sentiment.polarity\n",
    "\n",
    "# Categorize polarity & subjectivity score\n",
    "def getAnalysis(score, task=\"polarity\"):\n",
    "    if task == \"subjectivity\":\n",
    "        if score < 1/3:\n",
    "            return \"low\"\n",
    "        elif score > 1/3:\n",
    "            return \"high\"\n",
    "        else:\n",
    "            return \"medium\"\n",
    "    else:\n",
    "        if score < 0:\n",
    "            return 'Negative'\n",
    "        elif score == 0:\n",
    "            return 'Neutral'\n",
    "        else:\n",
    "            return 'Positive'\n",
    "\n",
    "# Perform sentiment analysis on text\n",
    "def sentiment_analysis(df, text_col):\n",
    "    df['subjectivity'] = df[text_col].apply(getSubjectivity).apply(lambda x: getAnalysis(x,\"subjectivity\"))\n",
    "    df['polarity'] = df[text_col].apply(getPolarity).apply(getAnalysis)\n",
    "    return df"
   ]
  },
  {
   "cell_type": "code",
   "execution_count": 112,
   "id": "cc3498d7",
   "metadata": {},
   "outputs": [
    {
     "data": {
      "text/html": [
       "<div>\n",
       "<style scoped>\n",
       "    .dataframe tbody tr th:only-of-type {\n",
       "        vertical-align: middle;\n",
       "    }\n",
       "\n",
       "    .dataframe tbody tr th {\n",
       "        vertical-align: top;\n",
       "    }\n",
       "\n",
       "    .dataframe thead th {\n",
       "        text-align: right;\n",
       "    }\n",
       "</style>\n",
       "<table border=\"1\" class=\"dataframe\">\n",
       "  <thead>\n",
       "    <tr style=\"text-align: right;\">\n",
       "      <th></th>\n",
       "      <th>name</th>\n",
       "      <th>artist</th>\n",
       "      <th>subjectivity</th>\n",
       "      <th>polarity</th>\n",
       "    </tr>\n",
       "  </thead>\n",
       "  <tbody>\n",
       "    <tr>\n",
       "      <th>0</th>\n",
       "      <td>2 AM</td>\n",
       "      <td>SwaVay</td>\n",
       "      <td>low</td>\n",
       "      <td>Neutral</td>\n",
       "    </tr>\n",
       "    <tr>\n",
       "      <th>1</th>\n",
       "      <td>Golden Child</td>\n",
       "      <td>Shaboozey</td>\n",
       "      <td>high</td>\n",
       "      <td>Positive</td>\n",
       "    </tr>\n",
       "    <tr>\n",
       "      <th>2</th>\n",
       "      <td>Eazy</td>\n",
       "      <td>The Game</td>\n",
       "      <td>low</td>\n",
       "      <td>Neutral</td>\n",
       "    </tr>\n",
       "  </tbody>\n",
       "</table>\n",
       "</div>"
      ],
      "text/plain": [
       "           name     artist subjectivity  polarity\n",
       "0          2 AM     SwaVay          low   Neutral\n",
       "1  Golden Child  Shaboozey         high  Positive\n",
       "2          Eazy   The Game          low   Neutral"
      ]
     },
     "execution_count": 112,
     "metadata": {},
     "output_type": "execute_result"
    }
   ],
   "source": [
    "sentimentDF = sentiment_analysis(songDF, \"name\")\n",
    "sentimentDF[['name', 'artist', 'subjectivity', 'polarity']].head(3)"
   ]
  },
  {
   "cell_type": "markdown",
   "id": "dc6cede7",
   "metadata": {},
   "source": [
    "#### 2. One-Hot Encoding\n",
    "\n",
    "We now use one-hot encoding to include the sentiment of a song as input. One-hot encoding converts categorical variables into a syntactic form that machines can understand. The first step involves converting each category into a column representing either True or False. \n",
    "\n",
    "\n",
    "![](https://iq.opengenus.org/content/images/2022/01/TW5m0aJ.png)"
   ]
  },
  {
   "cell_type": "code",
   "execution_count": 113,
   "id": "14dd4d00",
   "metadata": {},
   "outputs": [],
   "source": [
    "# Create One Hot Encoded features of a specific column\n",
    "def ohe_prep(df, column, new_name):\n",
    "    tf_df = pd.get_dummies(df[column])\n",
    "    feature_names = tf_df.columns\n",
    "    tf_df.columns = [new_name + \"|\" + str(i) for i in feature_names]\n",
    "    tf_df.reset_index(drop = True, inplace = True)    \n",
    "    \n",
    "    return tf_df # One-hot encoded features "
   ]
  },
  {
   "cell_type": "code",
   "execution_count": 114,
   "id": "d2cdd8eb",
   "metadata": {},
   "outputs": [
    {
     "data": {
      "text/plain": [
       "subject|high    0\n",
       "subject|low     1\n",
       "Name: 0, dtype: uint8"
      ]
     },
     "execution_count": 114,
     "metadata": {},
     "output_type": "execute_result"
    }
   ],
   "source": [
    "# One-hot encoding for the subjectivity \n",
    "subject_ohe = ohe_prep(sentimentDF, 'subjectivity','subject')\n",
    "subject_ohe.iloc[0]"
   ]
  },
  {
   "cell_type": "markdown",
   "id": "1789379f",
   "metadata": {},
   "source": [
    "#### 3. TF-IDF\n",
    "\n",
    "\n",
    "\n",
    "Spotify's genres are imbalanced, with some more prevalent than others. Therefore, we weigh the importance of each genre to prevent overemphasizing some types and underestimating others. \n",
    "\n",
    "The Term Frequency-Inverse Document Frequency (TF-IDF) quantifies words in a set of documents, showing the importance of a word in the corpus: $ \\text{Term Frequency}\\times\\text{Inverse Document Frequency}$.\n",
    "\n",
    "\n",
    "The term frequency (TF) is the number of times a term appears in each document divided by the total word count, and the inverse document frequency (IDF) is the log value of the document frequency.\n"
   ]
  },
  {
   "cell_type": "code",
   "execution_count": 115,
   "id": "794d35c2",
   "metadata": {},
   "outputs": [
    {
     "name": "stderr",
     "output_type": "stream",
     "text": [
      "C:\\ProgramData\\Anaconda3\\lib\\site-packages\\sklearn\\utils\\deprecation.py:87: FutureWarning: Function get_feature_names is deprecated; get_feature_names is deprecated in 1.0 and will be removed in 1.2. Please use get_feature_names_out instead.\n",
      "  warnings.warn(msg, category=FutureWarning)\n"
     ]
    },
    {
     "data": {
      "text/plain": [
       "genre|afrofuturism    0.000000\n",
       "genre|alternative     0.000000\n",
       "genre|atl             0.303252\n",
       "genre|australian      0.000000\n",
       "genre|bass            0.000000\n",
       "                        ...   \n",
       "genre|vapor           0.000000\n",
       "genre|viral           0.000000\n",
       "genre|virginia        0.000000\n",
       "genre|west            0.000000\n",
       "genre|york            0.000000\n",
       "Name: 0, Length: 68, dtype: float64"
      ]
     },
     "execution_count": 115,
     "metadata": {},
     "output_type": "execute_result"
    }
   ],
   "source": [
    "# TF-IDF implementation\n",
    "tfidf = TfidfVectorizer()\n",
    "tfidf_matrix =  tfidf.fit_transform(songDF['artist_genres'].apply(lambda x: \" \".join(x)))\n",
    "\n",
    "# Genres dataframe\n",
    "genre_df = pd.DataFrame(tfidf_matrix.toarray())\n",
    "genre_df.columns = ['genre' + \"|\" + i for i in tfidf.get_feature_names()]\n",
    "genre_df.reset_index(drop = True, inplace=True)\n",
    "genre_df.iloc[0]"
   ]
  },
  {
   "cell_type": "markdown",
   "id": "19c0024b",
   "metadata": {},
   "source": [
    "#### 4. Normalization\n",
    "\n",
    "\n",
    "We need to normalize the popularity variable and audio features from 0 to 1. We use the MinMaxScaler function from scikit-learn, which automatically scales all values in min and max to the range 0 to 1.\n"
   ]
  },
  {
   "cell_type": "code",
   "execution_count": 116,
   "id": "292fee04",
   "metadata": {},
   "outputs": [
    {
     "name": "stdout",
     "output_type": "stream",
     "text": [
      "count    100.00000\n",
      "mean      77.03000\n",
      "std       12.23297\n",
      "min       46.00000\n",
      "25%       71.00000\n",
      "50%       80.50000\n",
      "75%       88.00000\n",
      "max       97.00000\n",
      "Name: artist_pop, dtype: float64\n"
     ]
    }
   ],
   "source": [
    "# artist_pop distribution descriptive stats\n",
    "print(songDF['artist_pop'].describe())"
   ]
  },
  {
   "cell_type": "markdown",
   "id": "77f69168",
   "metadata": {},
   "source": [
    "Next, we apply hyperparameter tuning to the audio features of a song to improve the prediction. Specifically, the normalization of this data stems from the maximum and minimum values of each attribute.\n"
   ]
  },
  {
   "cell_type": "code",
   "execution_count": 117,
   "id": "3f613399",
   "metadata": {},
   "outputs": [
    {
     "data": {
      "text/html": [
       "<div>\n",
       "<style scoped>\n",
       "    .dataframe tbody tr th:only-of-type {\n",
       "        vertical-align: middle;\n",
       "    }\n",
       "\n",
       "    .dataframe tbody tr th {\n",
       "        vertical-align: top;\n",
       "    }\n",
       "\n",
       "    .dataframe thead th {\n",
       "        text-align: right;\n",
       "    }\n",
       "</style>\n",
       "<table border=\"1\" class=\"dataframe\">\n",
       "  <thead>\n",
       "    <tr style=\"text-align: right;\">\n",
       "      <th></th>\n",
       "      <th>artist_pop</th>\n",
       "    </tr>\n",
       "  </thead>\n",
       "  <tbody>\n",
       "    <tr>\n",
       "      <th>0</th>\n",
       "      <td>0.098039</td>\n",
       "    </tr>\n",
       "    <tr>\n",
       "      <th>1</th>\n",
       "      <td>0.196078</td>\n",
       "    </tr>\n",
       "    <tr>\n",
       "      <th>2</th>\n",
       "      <td>0.549020</td>\n",
       "    </tr>\n",
       "    <tr>\n",
       "      <th>3</th>\n",
       "      <td>0.705882</td>\n",
       "    </tr>\n",
       "    <tr>\n",
       "      <th>4</th>\n",
       "      <td>0.098039</td>\n",
       "    </tr>\n",
       "  </tbody>\n",
       "</table>\n",
       "</div>"
      ],
      "text/plain": [
       "   artist_pop\n",
       "0    0.098039\n",
       "1    0.196078\n",
       "2    0.549020\n",
       "3    0.705882\n",
       "4    0.098039"
      ]
     },
     "execution_count": 117,
     "metadata": {},
     "output_type": "execute_result"
    }
   ],
   "source": [
    "# Normalization\n",
    "pop = songDF[[\"artist_pop\"]].reset_index(drop = True)\n",
    "scaler = MinMaxScaler()\n",
    "pop_scaled = pd.DataFrame(scaler.fit_transform(pop), columns = pop.columns)\n",
    "pop_scaled.head()"
   ]
  },
  {
   "cell_type": "markdown",
   "id": "c781ac7e",
   "metadata": {},
   "source": [
    "#### Feature Generation\n",
    "\n",
    "Finally, we use the following code to generate all the above features and concatenate all the variables into a new data frame. We define the following function to process and create a final set of features to generate recommendations.\n"
   ]
  },
  {
   "cell_type": "code",
   "execution_count": 149,
   "id": "fc79e5ac",
   "metadata": {},
   "outputs": [],
   "source": [
    "def create_feature_set(df, float_cols):\n",
    "    \n",
    "    # Tfidf genre lists\n",
    "    tfidf = TfidfVectorizer()\n",
    "    tfidf_matrix =  tfidf.fit_transform(df['artist_genres'].apply(lambda x: \" \".join(x)))\n",
    "    genre_df = pd.DataFrame(tfidf_matrix.toarray())\n",
    "    genre_df.columns = ['genre' + \"|\" + i for i in tfidf.get_feature_names()]\n",
    "    genre_df.reset_index(drop = True, inplace=True)\n",
    "    \n",
    "    # Sentiment analysis\n",
    "    df = sentiment_analysis(df, \"name\")\n",
    "\n",
    "    # One-hot encoding\n",
    "    subject_ohe = ohe_prep(df, 'subjectivity','subject') * 0.3\n",
    "    polar_ohe = ohe_prep(df, 'polarity','polar') * 0.5\n",
    "    key_ohe = ohe_prep(df, 'key','key') * 0.5\n",
    "    mode_ohe = ohe_prep(df, 'mode','mode') * 0.5\n",
    "\n",
    "    # Normalization - scale popularity columns\n",
    "    pop = df[[\"artist_pop\",\"popularity\"]].reset_index(drop = True)\n",
    "    scaler = MinMaxScaler()\n",
    "    pop_scaled = pd.DataFrame(scaler.fit_transform(pop), columns = pop.columns) * 0.2 \n",
    "\n",
    "    # Scale audio feature columns\n",
    "    floats = df[float_cols].reset_index(drop = True)\n",
    "    scaler = MinMaxScaler()\n",
    "    floats_scaled = pd.DataFrame(scaler.fit_transform(floats), columns = floats.columns) * 0.2\n",
    "\n",
    "    # Concanenate all features\n",
    "    final = pd.concat([genre_df, floats_scaled, pop_scaled, subject_ohe, polar_ohe, key_ohe, mode_ohe], axis = 1)\n",
    "    final.insert(loc=0, column='track_id', value=df['track_id'].values) # Add song name\n",
    "    \n",
    "    return final # Final set of features "
   ]
  },
  {
   "cell_type": "code",
   "execution_count": 150,
   "id": "8f9c0a96",
   "metadata": {},
   "outputs": [
    {
     "name": "stderr",
     "output_type": "stream",
     "text": [
      "C:\\ProgramData\\Anaconda3\\lib\\site-packages\\sklearn\\utils\\deprecation.py:87: FutureWarning: Function get_feature_names is deprecated; get_feature_names is deprecated in 1.0 and will be removed in 1.2. Please use get_feature_names_out instead.\n",
      "  warnings.warn(msg, category=FutureWarning)\n"
     ]
    },
    {
     "data": {
      "text/html": [
       "<div>\n",
       "<style scoped>\n",
       "    .dataframe tbody tr th:only-of-type {\n",
       "        vertical-align: middle;\n",
       "    }\n",
       "\n",
       "    .dataframe tbody tr th {\n",
       "        vertical-align: top;\n",
       "    }\n",
       "\n",
       "    .dataframe thead th {\n",
       "        text-align: right;\n",
       "    }\n",
       "</style>\n",
       "<table border=\"1\" class=\"dataframe\">\n",
       "  <thead>\n",
       "    <tr style=\"text-align: right;\">\n",
       "      <th></th>\n",
       "      <th>track_id</th>\n",
       "      <th>genre|afrofuturism</th>\n",
       "      <th>genre|alternative</th>\n",
       "      <th>genre|atl</th>\n",
       "      <th>genre|australian</th>\n",
       "      <th>genre|bass</th>\n",
       "      <th>genre|baton</th>\n",
       "      <th>genre|bc</th>\n",
       "      <th>genre|brooklyn</th>\n",
       "      <th>genre|cali</th>\n",
       "      <th>...</th>\n",
       "      <th>key|4</th>\n",
       "      <th>key|5</th>\n",
       "      <th>key|6</th>\n",
       "      <th>key|7</th>\n",
       "      <th>key|8</th>\n",
       "      <th>key|9</th>\n",
       "      <th>key|10</th>\n",
       "      <th>key|11</th>\n",
       "      <th>mode|0</th>\n",
       "      <th>mode|1</th>\n",
       "    </tr>\n",
       "  </thead>\n",
       "  <tbody>\n",
       "    <tr>\n",
       "      <th>0</th>\n",
       "      <td>3g3RCV5ImXwzHpKwM2iunc</td>\n",
       "      <td>0.0</td>\n",
       "      <td>0.0</td>\n",
       "      <td>0.303252</td>\n",
       "      <td>0.0</td>\n",
       "      <td>0.0</td>\n",
       "      <td>0.0</td>\n",
       "      <td>0.0</td>\n",
       "      <td>0.0</td>\n",
       "      <td>0.0</td>\n",
       "      <td>...</td>\n",
       "      <td>0.0</td>\n",
       "      <td>0.0</td>\n",
       "      <td>0.0</td>\n",
       "      <td>0.5</td>\n",
       "      <td>0.0</td>\n",
       "      <td>0.0</td>\n",
       "      <td>0.0</td>\n",
       "      <td>0.0</td>\n",
       "      <td>0.0</td>\n",
       "      <td>0.5</td>\n",
       "    </tr>\n",
       "    <tr>\n",
       "      <th>1</th>\n",
       "      <td>04QWC97Dvd9g0IEDoyUDBX</td>\n",
       "      <td>0.0</td>\n",
       "      <td>0.0</td>\n",
       "      <td>0.000000</td>\n",
       "      <td>0.0</td>\n",
       "      <td>0.0</td>\n",
       "      <td>0.0</td>\n",
       "      <td>0.0</td>\n",
       "      <td>0.0</td>\n",
       "      <td>0.0</td>\n",
       "      <td>...</td>\n",
       "      <td>0.0</td>\n",
       "      <td>0.0</td>\n",
       "      <td>0.0</td>\n",
       "      <td>0.0</td>\n",
       "      <td>0.0</td>\n",
       "      <td>0.0</td>\n",
       "      <td>0.0</td>\n",
       "      <td>0.0</td>\n",
       "      <td>0.0</td>\n",
       "      <td>0.5</td>\n",
       "    </tr>\n",
       "    <tr>\n",
       "      <th>2</th>\n",
       "      <td>6Ab81Bs9fcOwaTYuBsUUpI</td>\n",
       "      <td>0.0</td>\n",
       "      <td>0.0</td>\n",
       "      <td>0.000000</td>\n",
       "      <td>0.0</td>\n",
       "      <td>0.0</td>\n",
       "      <td>0.0</td>\n",
       "      <td>0.0</td>\n",
       "      <td>0.0</td>\n",
       "      <td>0.0</td>\n",
       "      <td>...</td>\n",
       "      <td>0.0</td>\n",
       "      <td>0.0</td>\n",
       "      <td>0.0</td>\n",
       "      <td>0.0</td>\n",
       "      <td>0.0</td>\n",
       "      <td>0.0</td>\n",
       "      <td>0.0</td>\n",
       "      <td>0.0</td>\n",
       "      <td>0.0</td>\n",
       "      <td>0.5</td>\n",
       "    </tr>\n",
       "  </tbody>\n",
       "</table>\n",
       "<p>3 rows × 99 columns</p>\n",
       "</div>"
      ],
      "text/plain": [
       "                 track_id  genre|afrofuturism  genre|alternative  genre|atl  \\\n",
       "0  3g3RCV5ImXwzHpKwM2iunc                 0.0                0.0   0.303252   \n",
       "1  04QWC97Dvd9g0IEDoyUDBX                 0.0                0.0   0.000000   \n",
       "2  6Ab81Bs9fcOwaTYuBsUUpI                 0.0                0.0   0.000000   \n",
       "\n",
       "   genre|australian  genre|bass  genre|baton  genre|bc  genre|brooklyn  \\\n",
       "0               0.0         0.0          0.0       0.0             0.0   \n",
       "1               0.0         0.0          0.0       0.0             0.0   \n",
       "2               0.0         0.0          0.0       0.0             0.0   \n",
       "\n",
       "   genre|cali  ...  key|4  key|5  key|6  key|7  key|8  key|9  key|10  key|11  \\\n",
       "0         0.0  ...    0.0    0.0    0.0    0.5    0.0    0.0     0.0     0.0   \n",
       "1         0.0  ...    0.0    0.0    0.0    0.0    0.0    0.0     0.0     0.0   \n",
       "2         0.0  ...    0.0    0.0    0.0    0.0    0.0    0.0     0.0     0.0   \n",
       "\n",
       "   mode|0  mode|1  \n",
       "0     0.0     0.5  \n",
       "1     0.0     0.5  \n",
       "2     0.0     0.5  \n",
       "\n",
       "[3 rows x 99 columns]"
      ]
     },
     "execution_count": 150,
     "metadata": {},
     "output_type": "execute_result"
    }
   ],
   "source": [
    "# Save data and generate features\n",
    "float_cols = songDF.dtypes[songDF.dtypes == 'float64'].index.values\n",
    "complete_feature_set = create_feature_set(songDF, float_cols=float_cols)\n",
    "\n",
    "# songDF.to_csv(\"../data/allsong_data.csv\", index = False)\n",
    "#complete_feature_set.to_csv(\"../data/complete_feature.csv\", index = False)\n",
    "complete_feature_set.head(3)"
   ]
  },
  {
   "cell_type": "markdown",
   "id": "2bb18f63",
   "metadata": {},
   "source": [
    "### Content-based Filtering Recommendation\n",
    "\n",
    "\n",
    "The next step is to perform content-based filtering based on the song features. To do so, we concatenate all songs in a playlist into one summarization vector. Then, we find the similarity between the summarized playlist vector with all songs (not including the songs in the playlist) in the database. Then, we use the similarity measure retrieved the most relevant song that is not in the playlist to recommend it.\n",
    "\n",
    "\n",
    "\n",
    "#### Choose Playlist\n",
    "\n",
    "\n",
    "In this part, we test the data with *Mom's playlist* in the dataset.\n"
   ]
  },
  {
   "cell_type": "code",
   "execution_count": 151,
   "id": "e955de14",
   "metadata": {},
   "outputs": [],
   "source": [
    "testDF = playlistDF[playlistDF['playlist'] == \"but my feet in bottega\"]"
   ]
  },
  {
   "cell_type": "markdown",
   "id": "01bcb2fe",
   "metadata": {},
   "source": [
    "#### Extract features\n",
    "\n",
    "The next step is to generate the features. We need to first use the `id` to differentiate songs that are in the playlist and those that are not. Then, we simply add the features for all songs in the playlist together as a summary vector.\n",
    "\n",
    "\n"
   ]
  },
  {
   "cell_type": "code",
   "execution_count": 156,
   "id": "f99a5da1",
   "metadata": {},
   "outputs": [],
   "source": [
    "# Summarize playlist into a single vector\n",
    "def generate_playlist_feature(feat_set, playlist_df):\n",
    "    \n",
    "    # Find song features in the playlist\n",
    "    feat_set_playlist = feat_set[feat_set['track_id'].isin(playlist_df['track_id'].values)]    \n",
    "    \n",
    "    # Find all non-playlist song features\n",
    "    feat_set_nonplaylist = feat_set[~feat_set['track_id'].isin(playlist_df['track_id'].values)]\n",
    "    feat_set_playlist_final = feat_set_playlist.drop(columns = \"track_id\")\n",
    "    \n",
    "    # Single vector feature summarizing playlist\n",
    "    return feat_set_playlist_final.sum(axis = 0), feat_set_nonplaylist"
   ]
  },
  {
   "cell_type": "markdown",
   "id": "cfb344bf",
   "metadata": {},
   "source": [
    "> In other words, this vector describes the whole playlist as if it is one song.\n",
    "\n"
   ]
  },
  {
   "cell_type": "code",
   "execution_count": 182,
   "id": "d4b241a6",
   "metadata": {},
   "outputs": [
    {
     "name": "stdout",
     "output_type": "stream",
     "text": [
      "100\n"
     ]
    }
   ],
   "source": [
    "# Generate the features\n",
    "feat_set_pl, feat_set_nonpl = generate_playlist_feature(complete_feature_set, testDF)\n",
    "# Non-playlist features feat_set_nonpl.head()"
   ]
  },
  {
   "cell_type": "code",
   "execution_count": 185,
   "id": "c01fa81f",
   "metadata": {},
   "outputs": [
    {
     "data": {
      "text/plain": [
       "genre|afrofuturism     0.596351\n",
       "genre|alternative      0.627411\n",
       "genre|atl              6.138455\n",
       "genre|australian       0.848195\n",
       "genre|bass             0.331550\n",
       "                        ...    \n",
       "key|9                  2.500000\n",
       "key|10                 4.500000\n",
       "key|11                 2.500000\n",
       "mode|0                18.500000\n",
       "mode|1                31.500000\n",
       "Length: 98, dtype: float64"
      ]
     },
     "execution_count": 185,
     "metadata": {},
     "output_type": "execute_result"
    }
   ],
   "source": [
    "# Summarized playlist features\n",
    "complete_feature_set\n",
    "feat_set_pl"
   ]
  },
  {
   "cell_type": "markdown",
   "id": "c8a5f6e6",
   "metadata": {},
   "source": [
    "\n",
    "#### Find similarity\n",
    "\n",
    "In our code, we used the `cosine_similarity()` function from `scikit learn` to measure the similarity between each song and the summarized playlist vector.\n"
   ]
  },
  {
   "cell_type": "code",
   "execution_count": null,
   "id": "bd38875d",
   "metadata": {},
   "outputs": [],
   "source": [
    "# Generated recommendation based on songs in aspecific playlist\n",
    "def generate_playlist_recos(df, features, nonplaylist_features):\n",
    "    '''\n",
    "    features (pandas series): summarized playlist feature (single vector)\n",
    "    nonplaylist_features (pandas dataframe): feature set of songs that are not in the selected playlist\n",
    "    '''\n",
    "    \n",
    "    non_playlist_df = df[df['id'].isin(nonplaylist_features['id'].values)]\n",
    "    # Find cosine similarity between the playlist and the complete song set\n",
    "    non_playlist_df['sim'] = cosine_similarity(nonplaylist_features.drop('id', axis = 1).values, features.values.reshape(1, -1))[:,0]\n",
    "    non_playlist_df_top_40 = non_playlist_df.sort_values('sim',ascending = False).head(40)\n",
    "    \n",
    "    # Top 40 recommendations for that playlist\n",
    "    return non_playlist_df_top_40"
   ]
  },
  {
   "cell_type": "markdown",
   "id": "f8b9c58d",
   "metadata": {},
   "source": [
    "----------------------------------------------------"
   ]
  },
  {
   "cell_type": "code",
   "execution_count": null,
   "id": "942f41ae",
   "metadata": {},
   "outputs": [],
   "source": [
    "import datetime\n",
    "import numpy as np\n",
    "import pandas as pd\n",
    "import matplotlib.pyplot as plt\n",
    "from sklearn import cluster, decomposition\n",
    "\n",
    "songs = pd.read_csv(\"data/spotify.dat\")\n",
    "labels = songs.values[:,1]\n",
    "X = songs.values[:,2:]\n",
    "\n",
    "kmeans = cluster.AffinityPropagation(preference=-200)\n",
    "kmeans.fit(X)\n",
    "\n",
    "predictions = {}\n",
    "for p,n in zip(kmeans.predict(X),labels):\n",
    "\tif not predictions.get(p):\n",
    "\t\tpredictions[p] = []\n",
    "\n",
    "\tpredictions[p] += [n]\n",
    "\n",
    "for p in predictions:\n",
    "\tprint \"Category\",p\n",
    "\tprint \"-----\"\n",
    "\tfor n in predictions[p]:\n",
    "\t\tprint n\n",
    "\t\n",
    "\tprint \"\""
   ]
  },
  {
   "cell_type": "markdown",
   "id": "5d7643d7",
   "metadata": {},
   "source": [
    "---------------------------------------------------------------\n",
    "\n",
    "\n",
    "### Similar Artists Web Visual\n",
    "\n",
    "\n",
    "First, we want to find the most frequently occurring artist in a given playlist. We use the value_counts function to get a sequence containing counts of unique values sorted in descending order. \n"
   ]
  },
  {
   "cell_type": "code",
   "execution_count": 25,
   "id": "831ec740",
   "metadata": {
    "scrolled": true
   },
   "outputs": [
    {
     "data": {
      "text/html": [
       "<div>\n",
       "<style scoped>\n",
       "    .dataframe tbody tr th:only-of-type {\n",
       "        vertical-align: middle;\n",
       "    }\n",
       "\n",
       "    .dataframe tbody tr th {\n",
       "        vertical-align: top;\n",
       "    }\n",
       "\n",
       "    .dataframe thead th {\n",
       "        text-align: right;\n",
       "    }\n",
       "</style>\n",
       "<table border=\"1\" class=\"dataframe\">\n",
       "  <thead>\n",
       "    <tr style=\"text-align: right;\">\n",
       "      <th></th>\n",
       "      <th>artist</th>\n",
       "      <th>artist_id</th>\n",
       "      <th>counts</th>\n",
       "    </tr>\n",
       "  </thead>\n",
       "  <tbody>\n",
       "    <tr>\n",
       "      <th>0</th>\n",
       "      <td>Juice WRLD</td>\n",
       "      <td>4MCBfE4596Uoi2O4DtmEMz</td>\n",
       "      <td>9</td>\n",
       "    </tr>\n",
       "    <tr>\n",
       "      <th>1</th>\n",
       "      <td>Post Malone</td>\n",
       "      <td>246dkjvS1zLTtiykXe5h60</td>\n",
       "      <td>9</td>\n",
       "    </tr>\n",
       "    <tr>\n",
       "      <th>2</th>\n",
       "      <td>SAINt JHN</td>\n",
       "      <td>0H39MdGGX6dbnnQPt6NQkZ</td>\n",
       "      <td>4</td>\n",
       "    </tr>\n",
       "    <tr>\n",
       "      <th>3</th>\n",
       "      <td>Quavo</td>\n",
       "      <td>0VRj0yCOv2FXJNP47XQnx5</td>\n",
       "      <td>3</td>\n",
       "    </tr>\n",
       "  </tbody>\n",
       "</table>\n",
       "</div>"
      ],
      "text/plain": [
       "        artist               artist_id  counts\n",
       "0   Juice WRLD  4MCBfE4596Uoi2O4DtmEMz       9\n",
       "1  Post Malone  246dkjvS1zLTtiykXe5h60       9\n",
       "2    SAINt JHN  0H39MdGGX6dbnnQPt6NQkZ       4\n",
       "3        Quavo  0VRj0yCOv2FXJNP47XQnx5       3"
      ]
     },
     "execution_count": 25,
     "metadata": {},
     "output_type": "execute_result"
    }
   ],
   "source": [
    "# pandas count distinct values in column\n",
    "tallyArtists = df.value_counts([\"artist\", \"artist_id\"]).reset_index(name='counts')\n",
    "topArtist = tallyArtists['artist_id'][1]\n",
    "tallyArtists.head(4)"
   ]
  },
  {
   "cell_type": "markdown",
   "id": "813e7f1f",
   "metadata": {},
   "source": [
    "#### Links Dataset\n",
    "\n",
    "I can retrieve artist and artist-related data using the following code, passing the artist ID to the artist and artist-related artist functions under the spotipy package. The returned list of similar artists is sorted by similarity score based on the listener data."
   ]
  },
  {
   "cell_type": "code",
   "execution_count": 26,
   "id": "cdb4a11b",
   "metadata": {},
   "outputs": [],
   "source": [
    "# create links table\n",
    "a = sp.artist(topArtist)\n",
    "ra = sp.artist_related_artists(topArtist)\n",
    "\n",
    "# dictionary of lists \n",
    "links_dict = {\"source_name\":[],\"source_id\":[],\"target_name\":[],\"target_id\":[]};\n",
    "for artist in ra['artists']:\n",
    "    links_dict[\"source_name\"].append(a['name'])\n",
    "    links_dict[\"source_id\"].append(a['id'])\n",
    "    links_dict[\"target_name\"].append(artist['name'])\n",
    "    links_dict[\"target_id\"].append(artist['id'])"
   ]
  },
  {
   "cell_type": "markdown",
   "id": "cfc97ca0",
   "metadata": {},
   "source": [
    "Let’s take it a step further and query the API for similar artists for those similar to the most frequent artist in the given playlist. In other words, we generate two generations of the most similar artists."
   ]
  },
  {
   "cell_type": "code",
   "execution_count": 27,
   "id": "9ac01830",
   "metadata": {},
   "outputs": [],
   "source": [
    "for i in range(0, 4):\n",
    "    a = sp.artist(links_dict['target_id'][i])\n",
    "    ra = sp.artist_related_artists(links_dict['target_id'][i])\n",
    "    time.sleep(.5)\n",
    "    for artist in ra['artists']:\n",
    "        links_dict[\"source_name\"].append(a['name'])\n",
    "        links_dict[\"source_id\"].append(a['id'])\n",
    "        links_dict[\"target_name\"].append(artist['name'])\n",
    "        links_dict[\"target_id\"].append(artist['id'])\n",
    "\n",
    "# Convert links dict to dataframe\n",
    "links = pd.DataFrame(links_dict) \n",
    "\n",
    "# Export to excel sheet             \n",
    "links.to_excel(\"links.xlsx\", index = False)"
   ]
  },
  {
   "cell_type": "code",
   "execution_count": 28,
   "id": "88fa2981",
   "metadata": {},
   "outputs": [
    {
     "data": {
      "text/html": [
       "<div>\n",
       "<style scoped>\n",
       "    .dataframe tbody tr th:only-of-type {\n",
       "        vertical-align: middle;\n",
       "    }\n",
       "\n",
       "    .dataframe tbody tr th {\n",
       "        vertical-align: top;\n",
       "    }\n",
       "\n",
       "    .dataframe thead th {\n",
       "        text-align: right;\n",
       "    }\n",
       "</style>\n",
       "<table border=\"1\" class=\"dataframe\">\n",
       "  <thead>\n",
       "    <tr style=\"text-align: right;\">\n",
       "      <th></th>\n",
       "      <th>source_name</th>\n",
       "      <th>source_id</th>\n",
       "      <th>target_name</th>\n",
       "      <th>target_id</th>\n",
       "    </tr>\n",
       "  </thead>\n",
       "  <tbody>\n",
       "    <tr>\n",
       "      <th>0</th>\n",
       "      <td>Post Malone</td>\n",
       "      <td>246dkjvS1zLTtiykXe5h60</td>\n",
       "      <td>Rae Sremmurd</td>\n",
       "      <td>7iZtZyCzp3LItcw1wtPI3D</td>\n",
       "    </tr>\n",
       "    <tr>\n",
       "      <th>1</th>\n",
       "      <td>Post Malone</td>\n",
       "      <td>246dkjvS1zLTtiykXe5h60</td>\n",
       "      <td>Huncho Jack</td>\n",
       "      <td>6extd4B6hl8VTmnlhpl2bY</td>\n",
       "    </tr>\n",
       "    <tr>\n",
       "      <th>2</th>\n",
       "      <td>Post Malone</td>\n",
       "      <td>246dkjvS1zLTtiykXe5h60</td>\n",
       "      <td>Tyla Yaweh</td>\n",
       "      <td>1MXZ0hsGic96dWRDKwAwdr</td>\n",
       "    </tr>\n",
       "    <tr>\n",
       "      <th>3</th>\n",
       "      <td>Post Malone</td>\n",
       "      <td>246dkjvS1zLTtiykXe5h60</td>\n",
       "      <td>A$AP Ferg</td>\n",
       "      <td>5dHt1vcEm9qb8fCyLcB3HL</td>\n",
       "    </tr>\n",
       "    <tr>\n",
       "      <th>4</th>\n",
       "      <td>Post Malone</td>\n",
       "      <td>246dkjvS1zLTtiykXe5h60</td>\n",
       "      <td>6LACK</td>\n",
       "      <td>4IVAbR2w4JJNJDDRFP3E83</td>\n",
       "    </tr>\n",
       "  </tbody>\n",
       "</table>\n",
       "</div>"
      ],
      "text/plain": [
       "   source_name               source_id   target_name               target_id\n",
       "0  Post Malone  246dkjvS1zLTtiykXe5h60  Rae Sremmurd  7iZtZyCzp3LItcw1wtPI3D\n",
       "1  Post Malone  246dkjvS1zLTtiykXe5h60   Huncho Jack  6extd4B6hl8VTmnlhpl2bY\n",
       "2  Post Malone  246dkjvS1zLTtiykXe5h60    Tyla Yaweh  1MXZ0hsGic96dWRDKwAwdr\n",
       "3  Post Malone  246dkjvS1zLTtiykXe5h60     A$AP Ferg  5dHt1vcEm9qb8fCyLcB3HL\n",
       "4  Post Malone  246dkjvS1zLTtiykXe5h60         6LACK  4IVAbR2w4JJNJDDRFP3E83"
      ]
     },
     "execution_count": 28,
     "metadata": {},
     "output_type": "execute_result"
    }
   ],
   "source": [
    "links.head()"
   ]
  },
  {
   "cell_type": "markdown",
   "id": "1d515f2d",
   "metadata": {},
   "source": [
    "#### Points Dataset"
   ]
  },
  {
   "cell_type": "code",
   "execution_count": 29,
   "id": "d0c943b3",
   "metadata": {},
   "outputs": [],
   "source": [
    "# create \"points\" table             \n",
    "all_artist_ids = list(set(links_dict['source_id'] + links_dict['target_id']))"
   ]
  },
  {
   "cell_type": "code",
   "execution_count": 30,
   "id": "d1944b2f",
   "metadata": {},
   "outputs": [],
   "source": [
    "# dictionary of lists \n",
    "points_dict = {\"id\":[],\"name\":[],\"followers\":[],\"popularity\":[],\"url\":[],\"image\":[]};\n",
    "\n",
    "for id in all_artist_ids:\n",
    "    time.sleep(.5)\n",
    "    a = sp.artist(id)\n",
    "    points_dict['id'].append(id)\n",
    "    points_dict['name'].append(a['name'])\n",
    "    points_dict['followers'].append(a['followers']['total'])\n",
    "    points_dict['popularity'].append(a['popularity'])\n",
    "    points_dict['url'].append(a['external_urls']['spotify'])\n",
    "    points_dict['image'].append(a['images'][0]['url'])\n",
    "\n",
    "# Convert links dict to dataframe\n",
    "points = pd.DataFrame(points_dict) \n",
    "\n",
    "# Export to excel sheet             \n",
    "points.to_excel(\"points.xlsx\", index = False)"
   ]
  },
  {
   "cell_type": "code",
   "execution_count": 31,
   "id": "288b5573",
   "metadata": {},
   "outputs": [
    {
     "data": {
      "text/html": [
       "<div>\n",
       "<style scoped>\n",
       "    .dataframe tbody tr th:only-of-type {\n",
       "        vertical-align: middle;\n",
       "    }\n",
       "\n",
       "    .dataframe tbody tr th {\n",
       "        vertical-align: top;\n",
       "    }\n",
       "\n",
       "    .dataframe thead th {\n",
       "        text-align: right;\n",
       "    }\n",
       "</style>\n",
       "<table border=\"1\" class=\"dataframe\">\n",
       "  <thead>\n",
       "    <tr style=\"text-align: right;\">\n",
       "      <th></th>\n",
       "      <th>id</th>\n",
       "      <th>name</th>\n",
       "      <th>followers</th>\n",
       "      <th>popularity</th>\n",
       "      <th>url</th>\n",
       "      <th>image</th>\n",
       "    </tr>\n",
       "  </thead>\n",
       "  <tbody>\n",
       "    <tr>\n",
       "      <th>0</th>\n",
       "      <td>7mX72Bq2iXNr8fZdu23fQL</td>\n",
       "      <td>Boslen</td>\n",
       "      <td>50072</td>\n",
       "      <td>54</td>\n",
       "      <td>https://open.spotify.com/artist/7mX72Bq2iXNr8f...</td>\n",
       "      <td>https://i.scdn.co/image/ab6761610000e5ebc1e495...</td>\n",
       "    </tr>\n",
       "    <tr>\n",
       "      <th>1</th>\n",
       "      <td>5zctI4wO9XSKS8XwcnqEHk</td>\n",
       "      <td>Lil Mosey</td>\n",
       "      <td>4882787</td>\n",
       "      <td>71</td>\n",
       "      <td>https://open.spotify.com/artist/5zctI4wO9XSKS8...</td>\n",
       "      <td>https://i.scdn.co/image/ab6761610000e5ebe1ca9d...</td>\n",
       "    </tr>\n",
       "    <tr>\n",
       "      <th>2</th>\n",
       "      <td>6oMuImdp5ZcFhWP0ESe6mG</td>\n",
       "      <td>Migos</td>\n",
       "      <td>12799222</td>\n",
       "      <td>78</td>\n",
       "      <td>https://open.spotify.com/artist/6oMuImdp5ZcFhW...</td>\n",
       "      <td>https://i.scdn.co/image/ab6761610000e5ebf4593f...</td>\n",
       "    </tr>\n",
       "    <tr>\n",
       "      <th>3</th>\n",
       "      <td>7pFeBzX627ff0VnN6bxPR4</td>\n",
       "      <td>Desiigner</td>\n",
       "      <td>3416681</td>\n",
       "      <td>64</td>\n",
       "      <td>https://open.spotify.com/artist/7pFeBzX627ff0V...</td>\n",
       "      <td>https://i.scdn.co/image/ab6761610000e5ebc527ef...</td>\n",
       "    </tr>\n",
       "    <tr>\n",
       "      <th>4</th>\n",
       "      <td>2RDOrhPqAM4jzTRCEb19qX</td>\n",
       "      <td>Sheck Wes</td>\n",
       "      <td>1362631</td>\n",
       "      <td>66</td>\n",
       "      <td>https://open.spotify.com/artist/2RDOrhPqAM4jzT...</td>\n",
       "      <td>https://i.scdn.co/image/ab6761610000e5eb170952...</td>\n",
       "    </tr>\n",
       "  </tbody>\n",
       "</table>\n",
       "</div>"
      ],
      "text/plain": [
       "                       id       name  followers  popularity  \\\n",
       "0  7mX72Bq2iXNr8fZdu23fQL     Boslen      50072          54   \n",
       "1  5zctI4wO9XSKS8XwcnqEHk  Lil Mosey    4882787          71   \n",
       "2  6oMuImdp5ZcFhWP0ESe6mG      Migos   12799222          78   \n",
       "3  7pFeBzX627ff0VnN6bxPR4  Desiigner    3416681          64   \n",
       "4  2RDOrhPqAM4jzTRCEb19qX  Sheck Wes    1362631          66   \n",
       "\n",
       "                                                 url  \\\n",
       "0  https://open.spotify.com/artist/7mX72Bq2iXNr8f...   \n",
       "1  https://open.spotify.com/artist/5zctI4wO9XSKS8...   \n",
       "2  https://open.spotify.com/artist/6oMuImdp5ZcFhW...   \n",
       "3  https://open.spotify.com/artist/7pFeBzX627ff0V...   \n",
       "4  https://open.spotify.com/artist/2RDOrhPqAM4jzT...   \n",
       "\n",
       "                                               image  \n",
       "0  https://i.scdn.co/image/ab6761610000e5ebc1e495...  \n",
       "1  https://i.scdn.co/image/ab6761610000e5ebe1ca9d...  \n",
       "2  https://i.scdn.co/image/ab6761610000e5ebf4593f...  \n",
       "3  https://i.scdn.co/image/ab6761610000e5ebc527ef...  \n",
       "4  https://i.scdn.co/image/ab6761610000e5eb170952...  "
      ]
     },
     "execution_count": 31,
     "metadata": {},
     "output_type": "execute_result"
    }
   ],
   "source": [
    "points.head()"
   ]
  },
  {
   "cell_type": "markdown",
   "id": "21184bbd",
   "metadata": {},
   "source": [
    "The following visualization is based on the [Spotify Similiar Artists API](https://unboxed-analytics.com/data-technology/visualizing-rap-communities-wtih-python-spotifys-api/) article and created with flourish studio.\n"
   ]
  },
  {
   "cell_type": "code",
   "execution_count": 34,
   "id": "5450475e",
   "metadata": {},
   "outputs": [
    {
     "data": {
      "text/html": [
       "\n",
       "<div class=\"flourish-embed flourish-network\" data-src=\"visualisation/12232729\"><script src=\"https://public.flourish.studio/resources/embed.js\"></script></div>\n"
      ],
      "text/plain": [
       "<IPython.core.display.HTML object>"
      ]
     },
     "metadata": {},
     "output_type": "display_data"
    }
   ],
   "source": [
    "%%html\n",
    "\n",
    "<div class=\"flourish-embed flourish-network\" data-src=\"visualisation/12232729\"><script src=\"https://public.flourish.studio/resources/embed.js\"></script></div>"
   ]
  },
  {
   "cell_type": "markdown",
   "id": "49db0e51",
   "metadata": {},
   "source": [
    "------------------------------------------"
   ]
  },
  {
   "cell_type": "markdown",
   "id": "8b80e3e4",
   "metadata": {},
   "source": [
    "#### Neo4js Visuals"
   ]
  },
  {
   "cell_type": "code",
   "execution_count": null,
   "id": "16996fd6",
   "metadata": {},
   "outputs": [],
   "source": []
  }
 ],
 "metadata": {
  "kernelspec": {
   "display_name": "Python 3 (ipykernel)",
   "language": "python",
   "name": "python3"
  },
  "language_info": {
   "codemirror_mode": {
    "name": "ipython",
    "version": 3
   },
   "file_extension": ".py",
   "mimetype": "text/x-python",
   "name": "python",
   "nbconvert_exporter": "python",
   "pygments_lexer": "ipython3",
   "version": "3.9.12"
  }
 },
 "nbformat": 4,
 "nbformat_minor": 5
}
