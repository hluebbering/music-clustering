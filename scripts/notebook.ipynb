{
 "cells": [
  {
   "cell_type": "markdown",
   "id": "771bb4b2",
   "metadata": {},
   "source": [
    "\n",
    "<span class = \"myhighlight\">Objective.</span> Using Python, the project goal is to implement a k-means clustering algorithm, a technique often used in machine learning, and use it for data analysis. We write various functions making use of lists, sets, dictionaries, sorting, and graph data structures for computational problem solving and analysis.\n"
   ]
  },
  {
   "cell_type": "code",
   "execution_count": 1,
   "id": "74993905",
   "metadata": {},
   "outputs": [],
   "source": [
    "import csv\n",
    "import time\n",
    "import pandas as pd\n",
    "import numpy as np\n",
    "import matplotlib.pyplot as plt\n",
    "import spotipy\n",
    "from spotipy.oauth2 import SpotifyClientCredentials\n",
    "from operator import index"
   ]
  },
  {
   "cell_type": "markdown",
   "id": "b2c79210",
   "metadata": {},
   "source": [
    "First, we create a Client Credentials Flow Manager used in server-to-server authentication by passing the necessary parameters to the [Spotify OAuth](https://github.com/spotipy-dev/spotipy/blob/master/spotipy/oauth2.py#L261) class. We provide a client id and client secret to the constructor of this authorization flow, which does not require user interaction.\n",
    "    "
   ]
  },
  {
   "cell_type": "code",
   "execution_count": 2,
   "id": "cfecb486",
   "metadata": {},
   "outputs": [],
   "source": [
    "# Set client id and client secret\n",
    "client_id = '4cf3afdca2d74dc48af9999b1b7c9c61'\n",
    "client_secret = 'f6ca08ad37bb41a0afab5ca1dc74b208'\n",
    "\n",
    "# Spotify authentication\n",
    "client_credentials_manager = SpotifyClientCredentials(client_id, client_secret)\n",
    "sp = spotipy.Spotify(client_credentials_manager = client_credentials_manager)"
   ]
  },
  {
   "cell_type": "markdown",
   "id": "7bceee15",
   "metadata": {},
   "source": [
    "Now, we want to get the full details of the tracks of a playlist based on a playlist ID, URI, or URL. The following function takes a playlist and gets information from each individual song.\n"
   ]
  },
  {
   "cell_type": "code",
   "execution_count": 3,
   "id": "658be775",
   "metadata": {},
   "outputs": [],
   "source": [
    "# Get playlist song features and artist info\n",
    "def playlistTracks(id, artist_ids):\n",
    "    meta = sp.track(id)\n",
    "    features = sp.audio_features(id)\n",
    "    artist_info = sp.artist(artist_ids)\n",
    "\n",
    "    # Metadata\n",
    "    name = meta['name']\n",
    "    album = meta['album']['name']\n",
    "    artist = meta['album']['artists'][0]['name']\n",
    "    release_date = meta['album']['release_date']\n",
    "    length = meta['duration_ms']\n",
    "    popularity = meta['popularity']\n",
    "\n",
    "    # Main artist name, popularity, genre\n",
    "    artist_pop = artist_info[\"popularity\"]\n",
    "    artist_genres = artist_info[\"genres\"]\n",
    "\n",
    "    # Track features\n",
    "    acousticness = features[0]['acousticness']\n",
    "    danceability = features[0]['danceability']\n",
    "    energy = features[0]['energy']\n",
    "    instrumentalness = features[0]['instrumentalness']\n",
    "    liveness = features[0]['liveness']\n",
    "    loudness = features[0]['loudness']\n",
    "    speechiness = features[0]['speechiness']\n",
    "    tempo = features[0]['tempo']\n",
    "    valence = features[0]['valence']\n",
    "    key = features[0]['key']\n",
    "    mode = features[0]['mode']\n",
    "    time_signature = features[0]['time_signature']\n",
    "\n",
    "    return [name, album, artist, release_date, length, popularity, \n",
    "            artist_pop, artist_genres, acousticness, danceability, \n",
    "            energy, instrumentalness, liveness, loudness, speechiness, \n",
    "            tempo, valence, key, mode, time_signature]"
   ]
  },
  {
   "cell_type": "markdown",
   "id": "fad8a1a9",
   "metadata": {},
   "source": [
    "Choose a specific playlist to analyze by copying the URL from the Spotify Player interface. Using that link, the following code uses the playlist_tracks method to retrieve a list of IDs and corresponding artists for each track from the playlist. \n",
    "\n"
   ]
  },
  {
   "cell_type": "code",
   "execution_count": 62,
   "id": "2c88157e",
   "metadata": {},
   "outputs": [],
   "source": [
    "# Spotify playlist url\n",
    "playlist_link = \"https://open.spotify.com/playlist/4lSykOrQfnAiCgtHKVudTT\"\n",
    "playlist_link = \"https://open.spotify.com/playlist/45wMUm1iuvHyPyzN9Lm9oL?si=f335973792784554\"\n",
    "playlist_link = \"https://open.spotify.com/playlist/7JJd5q4ZPK0P1Q4atTcpkR?si=4feffccdf23846a7\"\n",
    "playlist_URI = playlist_link.split(\"/\")[-1].split(\"?\")[0]\n",
    "\n",
    "# Extract song ids and artists from playlist\n",
    "track_ids = [x1[\"track\"][\"id\"]\n",
    "             for x1 in sp.playlist_tracks(playlist_URI)[\"items\"]]\n",
    "artist_uris = [x2[\"track\"][\"artists\"][0][\"uri\"]\n",
    "               for x2 in sp.playlist_tracks(playlist_URI)[\"items\"]]"
   ]
  },
  {
   "cell_type": "markdown",
   "id": "0c928e1d",
   "metadata": {},
   "source": [
    "The following code loops through each track ID in the playlist and extracts additional song information by calling the function we created above. From there, we can create a pandas data frame by passing in the extracted information and giving the column header names we want. "
   ]
  },
  {
   "cell_type": "code",
   "execution_count": null,
   "id": "ba2df262",
   "metadata": {},
   "outputs": [],
   "source": [
    "# Loop over track ids\n",
    "tracks = []\n",
    "for i in range(len(track_ids)):\n",
    "    time.sleep(.5)\n",
    "    track = playlistTracks(track_ids[i], artist_uris[i])\n",
    "    tracks.append(track)"
   ]
  },
  {
   "cell_type": "code",
   "execution_count": 52,
   "id": "b5f4af6a",
   "metadata": {},
   "outputs": [],
   "source": [
    "# Create dataframe\n",
    "df = pd.DataFrame(\n",
    "    tracks, columns=['name', 'album', 'artist', 'release_date',\n",
    "                     'length', 'popularity', 'artist_pop', 'artist_genres',\n",
    "                     'acousticness', 'danceability', 'energy',\n",
    "                     'instrumentalness', 'liveness', 'loudness',\n",
    "                     'speechiness', 'tempo', 'valence', 'key', 'mode',\n",
    "                     'time_signature'])\n",
    "\n",
    "# Save to csv file\n",
    "df.to_csv(\"spotify.csv\", sep=',')"
   ]
  },
  {
   "cell_type": "markdown",
   "id": "66c1448f",
   "metadata": {},
   "source": [
    "-------------------------------------------------------"
   ]
  },
  {
   "cell_type": "markdown",
   "id": "24992d1e",
   "metadata": {},
   "source": [
    "### The Data"
   ]
  },
  {
   "cell_type": "code",
   "execution_count": 53,
   "id": "cfd3c1aa",
   "metadata": {},
   "outputs": [
    {
     "data": {
      "text/html": [
       "<div>\n",
       "<style scoped>\n",
       "    .dataframe tbody tr th:only-of-type {\n",
       "        vertical-align: middle;\n",
       "    }\n",
       "\n",
       "    .dataframe tbody tr th {\n",
       "        vertical-align: top;\n",
       "    }\n",
       "\n",
       "    .dataframe thead th {\n",
       "        text-align: right;\n",
       "    }\n",
       "</style>\n",
       "<table border=\"1\" class=\"dataframe\">\n",
       "  <thead>\n",
       "    <tr style=\"text-align: right;\">\n",
       "      <th></th>\n",
       "      <th>name</th>\n",
       "      <th>album</th>\n",
       "      <th>artist</th>\n",
       "      <th>release_date</th>\n",
       "      <th>length</th>\n",
       "      <th>popularity</th>\n",
       "      <th>artist_pop</th>\n",
       "      <th>artist_genres</th>\n",
       "      <th>acousticness</th>\n",
       "      <th>danceability</th>\n",
       "      <th>energy</th>\n",
       "      <th>instrumentalness</th>\n",
       "      <th>liveness</th>\n",
       "      <th>loudness</th>\n",
       "      <th>speechiness</th>\n",
       "      <th>tempo</th>\n",
       "      <th>valence</th>\n",
       "      <th>key</th>\n",
       "      <th>mode</th>\n",
       "      <th>time_signature</th>\n",
       "    </tr>\n",
       "  </thead>\n",
       "  <tbody>\n",
       "    <tr>\n",
       "      <th>0</th>\n",
       "      <td>Sweet Dream</td>\n",
       "      <td>Sweet Dream</td>\n",
       "      <td>Alessia Cara</td>\n",
       "      <td>2021-07-15</td>\n",
       "      <td>181881</td>\n",
       "      <td>49</td>\n",
       "      <td>76</td>\n",
       "      <td>[canadian contemporary r&amp;b, canadian pop, danc...</td>\n",
       "      <td>0.2520</td>\n",
       "      <td>0.760</td>\n",
       "      <td>0.532</td>\n",
       "      <td>0.0</td>\n",
       "      <td>0.252</td>\n",
       "      <td>-9.177</td>\n",
       "      <td>0.1270</td>\n",
       "      <td>123.064</td>\n",
       "      <td>0.500</td>\n",
       "      <td>0</td>\n",
       "      <td>1</td>\n",
       "      <td>4</td>\n",
       "    </tr>\n",
       "    <tr>\n",
       "      <th>1</th>\n",
       "      <td>Worry No More</td>\n",
       "      <td>California</td>\n",
       "      <td>Diplo</td>\n",
       "      <td>2018-03-23</td>\n",
       "      <td>202563</td>\n",
       "      <td>46</td>\n",
       "      <td>79</td>\n",
       "      <td>[edm, electro house, house, moombahton, ninja,...</td>\n",
       "      <td>0.0185</td>\n",
       "      <td>0.592</td>\n",
       "      <td>0.731</td>\n",
       "      <td>0.0</td>\n",
       "      <td>0.726</td>\n",
       "      <td>-5.794</td>\n",
       "      <td>0.0404</td>\n",
       "      <td>166.028</td>\n",
       "      <td>0.392</td>\n",
       "      <td>7</td>\n",
       "      <td>0</td>\n",
       "      <td>4</td>\n",
       "    </tr>\n",
       "  </tbody>\n",
       "</table>\n",
       "</div>"
      ],
      "text/plain": [
       "            name        album        artist release_date  length  popularity  \\\n",
       "0    Sweet Dream  Sweet Dream  Alessia Cara   2021-07-15  181881          49   \n",
       "1  Worry No More   California         Diplo   2018-03-23  202563          46   \n",
       "\n",
       "   artist_pop                                      artist_genres  \\\n",
       "0          76  [canadian contemporary r&b, canadian pop, danc...   \n",
       "1          79  [edm, electro house, house, moombahton, ninja,...   \n",
       "\n",
       "   acousticness  danceability  energy  instrumentalness  liveness  loudness  \\\n",
       "0        0.2520         0.760   0.532               0.0     0.252    -9.177   \n",
       "1        0.0185         0.592   0.731               0.0     0.726    -5.794   \n",
       "\n",
       "   speechiness    tempo  valence  key  mode  time_signature  \n",
       "0       0.1270  123.064    0.500    0     1               4  \n",
       "1       0.0404  166.028    0.392    7     0               4  "
      ]
     },
     "execution_count": 53,
     "metadata": {},
     "output_type": "execute_result"
    }
   ],
   "source": [
    "# df = pd.read_csv('playlists.csv', encoding_errors='ignore', index_col=0, header=0)\n",
    "# df_copy = df.copy(deep = True)\n",
    "# df_copy = df_copy.drop(df2[df2.playlist_name != 'but my feet in bottega'].index)\n",
    "df.head(2)"
   ]
  },
  {
   "cell_type": "markdown",
   "id": "99ca7211",
   "metadata": {},
   "source": [
    "\n",
    "\n",
    "\n",
    "\n",
    "[**Metadata.**](https://developer.spotify.com/documentation/web-api/reference/#/operations/get-track)\n",
    "- `name`: The name of the track.\n",
    "- `album`: The name of the album on which the track appears.\n",
    "- `artist`: The name of the artist who performed the track.\n",
    "- `release_date`: The date the album was first released.\n",
    "- `length`: The track length in milliseconds.\n",
    "- `popularity`: The popularity of the track. Values are between 0 and 100. The popularity is calculated by an algorithm based on the total number of plays the track has had and how recent those plays are.\n",
    "\n",
    "\n",
    "[**Artists.**](https://developer.spotify.com/documentation/web-api/reference/#/operations/get-an-artist)\n",
    "- `artist_pop`: The popularity of the artist. The value will be between 0 and 100, with 100 being the most popular. The artist's popularity is calculated from the popularity of all the artist's tracks.\n",
    "- `artist_genres`: A list of the genres the artist is associated with.\n",
    "\n",
    "\n",
    "[**Audio Features.** ](https://developer.spotify.com/documentation/web-api/reference/#/operations/get-several-audio-features)\n",
    "- `acousticness`: A confidence measure from 0.0 to 1.0 of whether the track is acoustic.\n",
    "- `danceability`: Describes how suitable a track is for dancing based on a combination of musical elements including tempo, rhythm, beat strength, and regularity.\n",
    "- `energy`: A measure from 0.0 to 1.0 that represents a perceptual measure of intensity and activity.\n",
    "- `instrumentalness`: Predicts whether a track contains no vocals. The closer the value is to 1.0, the more likely the track contains no vocal content.\n",
    "- `liveness`: Detects the presence of an audience in the recording. Higher values represent an increased probability that the track was performed live.\n",
    "- `loudness`: The overall loudness of a track in decibels (dB). Values are averaged across entire track, ranging between -60 and 0 db.\n",
    "- `speechiness`: Detects the presence of spoken words in a track. The more speech-like the recording, the closer to 1.0.\n",
    "- `tempo`: The overall estimated speed or pace of a track in beats per minute (BPM).\n",
    "- `valence`: A measure from 0.0 to 1.0 describing the musical positiveness conveyed by a track. High valence sound more positive (e.g. happy, cheerful, euphoric).\n",
    "- `key`: The key the track is in. If no key was detected, the value is -1.\n",
    "- `mode`: The modality (major or minor) of a track. Major is represented by 1 and minor is 0.\n",
    "- `time_signature`: An estimated time signature (how many beats are in each measure), ranging from 3 to 7 indicating time signatures of \"3/4\", to \"7/4\".\n",
    "\n"
   ]
  },
  {
   "cell_type": "markdown",
   "id": "33c7492d",
   "metadata": {},
   "source": [
    "How many songs do we have?"
   ]
  },
  {
   "cell_type": "code",
   "execution_count": 54,
   "id": "17776b04",
   "metadata": {},
   "outputs": [
    {
     "name": "stdout",
     "output_type": "stream",
     "text": [
      "Number of songs: 100\n",
      "Number of attributes per song: 20\n"
     ]
    }
   ],
   "source": [
    "# Number of rows and columns\n",
    "rows, cols = df.shape\n",
    "print(f'Number of songs: {rows}')\n",
    "print(f'Number of attributes per song: {cols}')"
   ]
  },
  {
   "cell_type": "code",
   "execution_count": 55,
   "id": "b3be30fa",
   "metadata": {},
   "outputs": [
    {
     "name": "stdout",
     "output_type": "stream",
     "text": [
      "name: Anna of the North - Dandelion\n"
     ]
    }
   ],
   "source": [
    "# Get a song string search\n",
    "def getMusicName(elem):\n",
    "    return f\"{elem['artist']} - {elem['name']}\"\n",
    "\n",
    "# Select song and get track info\n",
    "anySong = df.loc[15]\n",
    "anySongName = getMusicName(anySong)\n",
    "print('name:', anySongName)"
   ]
  },
  {
   "cell_type": "markdown",
   "id": "d76f34b0",
   "metadata": {},
   "source": [
    "-----------------------"
   ]
  },
  {
   "cell_type": "markdown",
   "id": "6638b65a",
   "metadata": {},
   "source": [
    "### Spotify Songs - Similarity Search\n",
    "\n",
    "\n",
    "\n",
    "\n",
    "Below, we create a query to retrieve similar elements based on Euclidean distance. In mathematics, the Euclidean distance between two points is the length of the line segment between the two points. In this sense, the closer the distance is to 0, the more similar the songs are.\n",
    "\n",
    "\n",
    "\n",
    "#### [KNN Algorithm](https://www.kaggle.com/code/leomauro/spotify-songs-similarity-search/notebook)\n",
    "\n",
    "\n",
    "The k-Nearest Neighbors (KNN) algorithm searches for k similar elements based on a query point at the center within a predefined radius. \n",
    "\n"
   ]
  },
  {
   "cell_type": "code",
   "execution_count": 56,
   "id": "046f0783",
   "metadata": {},
   "outputs": [],
   "source": [
    "# K-query\n",
    "def knnQuery(queryPoint, arrCharactPoints, k):\n",
    "\n",
    "    # Copy of dataframe indices and data\n",
    "    tmp = arrCharactPoints.copy(deep = True)\n",
    "    query_vals = queryPoint.tolist()\n",
    "    dist_vals = []\n",
    "\n",
    "    # Iterate through each row and select\n",
    "    for index, row in tmp.iterrows():\n",
    "        feature_vals = row.values.tolist()\n",
    "        sum_diff_sqr = sum(\n",
    "            abs(feature_vals[i] - query_vals[i]) ** 2 for i in range(len(query_vals)))\n",
    "        \n",
    "        euc_dist = sum_diff_sqr ** 0.5\n",
    "        dist_vals.append(euc_dist)\n",
    "\n",
    "    # tmp['dist'] = tmp.apply(lambda x: np.linalg.norm(x-queryPoint), axis=1)\n",
    "    tmp['distance'] = dist_vals\n",
    "    tmp = tmp.sort_values('distance')\n",
    "\n",
    "    return tmp.head(k).index, tmp.tail(k).index"
   ]
  },
  {
   "cell_type": "code",
   "execution_count": 57,
   "id": "178649a5",
   "metadata": {},
   "outputs": [],
   "source": [
    "# Execute KNN removing the query point\n",
    "def querySimilars(df, columns, idx, func, param):\n",
    "    arr = df[columns].copy(deep = True)\n",
    "    queryPoint = arr.loc[idx]\n",
    "    arr = arr.drop([idx])\n",
    "    return func(queryPoint, arr, param)\n"
   ]
  },
  {
   "cell_type": "markdown",
   "id": "a2445db3",
   "metadata": {},
   "source": [
    "**KNN Query Example.** \n",
    "\n",
    "Our function allows us to create personalized query points and modify the columns to explore other options. For example, the following code selects a specific set of song attributes, including danceability, energy, and valence. The function then searches for the $k$ most high values of these attributes such that danceability = 1, energy = 1, and valence = 1. \n",
    "\n",
    "\n",
    "\n",
    "Thus, question: What are the top 5 active, cheerful songs on our list?\n",
    "\n",
    "Let's search for  $k=3$  similar songs to a query point songIndex = 5. \n",
    "\n",
    "\n"
   ]
  },
  {
   "cell_type": "code",
   "execution_count": 58,
   "id": "e2a0b5cb",
   "metadata": {},
   "outputs": [],
   "source": [
    "# Selecting song and attributes\n",
    "songIndex = 1 # query point, selected song\n",
    "columns = ['acousticness', 'danceability', 'energy',\n",
    "           'instrumentalness', 'liveness', 'speechiness', \n",
    "           'valence','tempo']\n",
    "\n",
    "# Selecting query parameters\n",
    "func, param = knnQuery, 8\n",
    "\n",
    "# Querying\n",
    "response = querySimilars(df, columns, songIndex, func, param)"
   ]
  },
  {
   "cell_type": "code",
   "execution_count": 59,
   "id": "d7df1d41",
   "metadata": {},
   "outputs": [],
   "source": [
    "similar_songs = {}\n",
    "nonsimilar_songs = {}\n",
    "\n",
    "for song_index in df.index:\n",
    "    \n",
    "    # Select query point and get song name \n",
    "    query_song = df.loc[song_index]\n",
    "    query_song_name = getMusicName(query_song)\n",
    "\n",
    "    # Querying\n",
    "    response = querySimilars(df, columns, song_index, func, param)\n",
    "    similar_ids = response[0]\n",
    "    nonsimilar_ids = response[1]\n",
    "\n",
    "    for idx in similar_ids:\n",
    "        song_name = getMusicName(df.loc[idx])\n",
    "        if song_name in similar_songs:\n",
    "            similar_songs[song_name] += 1\n",
    "        else:\n",
    "            similar_songs[song_name] = 1\n",
    "\n",
    "    for idx in nonsimilar_ids:\n",
    "        song_name = getMusicName(df.loc[idx])\n",
    "        if song_name in nonsimilar_songs:\n",
    "            nonsimilar_songs[song_name] += 1\n",
    "        else:\n",
    "            nonsimilar_songs[song_name] = 1"
   ]
  },
  {
   "cell_type": "code",
   "execution_count": 60,
   "id": "41a99e18",
   "metadata": {},
   "outputs": [
    {
     "name": "stdout",
     "output_type": "stream",
     "text": [
      "\n",
      " NON SIMILAR SONG COUNT\n",
      "Hippie Sabotage - Waiting Too Long : 91\n",
      "Landon Cube - Eighties : 58\n",
      "Lana Del Rey - Radio : 57\n",
      "Vanic - Samurai (feat. Katy Tiz) : 57\n",
      "Big Gigantic - You’re The One : 54\n",
      "K.Flay - Giver : 54\n",
      "Julia Michaels - Jump (with Trippie Redd) : 51\n",
      "NITTI - All In (feat. Jimmy Levy) : 51\n",
      "Post Malone - I Cannot Be (A Sadder Song) (with Gunna) : 49\n",
      "Cautious Clay - Cold War : 49\n",
      "Lxst - Talk To Me : 46\n",
      "Arizona Zervas - HOLY TRINITY (feat. Rich The Kid) : 46\n",
      "filous - Already Gone (feat. Emily Warren) : 43\n",
      "Juice WRLD - Rockstar In His Prime : 43\n",
      "Dan Talevski - If I Ain't Got You : 42\n"
     ]
    }
   ],
   "source": [
    "nonsimilar_songs = dict(sorted(nonsimilar_songs.items(), \n",
    "                               key=lambda item: item[1], \n",
    "                               reverse=True))\n",
    "print('\\n', 'NON SIMILAR SONG COUNT')\n",
    "for song, song_count in nonsimilar_songs.items():\n",
    "    if song_count >= 10:\n",
    "        print(song, ':', song_count)\n",
    "\n",
    "\n",
    "    \n",
    "\n",
    "\n",
    "\n"
   ]
  },
  {
   "cell_type": "code",
   "execution_count": 61,
   "id": "c5625ce3",
   "metadata": {},
   "outputs": [
    {
     "name": "stdout",
     "output_type": "stream",
     "text": [
      "\n",
      " SIMILAR SONG COUNT\n",
      "Harley Alaska - Lose You Too : 13\n",
      "Felix Cartal - Stop Being Yourself : 12\n",
      "K.Flay - Good News : 12\n",
      "Louis The Child - Talk (with Royal & the Serpent) : 12\n",
      "Alison Wonderland - Peace : 12\n",
      "Alessia Cara - Sweet Dream : 12\n",
      "Zara Larsson - Ruin My Life - Steve James Remix : 11\n",
      "Julia Wolf - Villain : 11\n",
      "Swedish House Mafia - Heaven Takes You Home (feat. Connie Constance) : 11\n",
      "Marshmello - Silence - Illenium Remix : 11\n",
      "ILLENIUM - Sideways : 11\n",
      "Labrinth - All For Us : 11\n",
      "Jason Derulo - Whatcha Say - Acoustic : 11\n",
      "Felix Jaehn - Do It Better (feat. Zoe Wees) : 10\n",
      "Snakehips - Don't Leave - Gryffin Remix : 10\n",
      "Coldplay - A Sky Full of Stars : 10\n",
      "Daya - Love You When You’re Gone : 10\n",
      "Gabrielle Aplin - Nothing Really Matters : 10\n",
      "SAINt JHN - Wedding Day : 10\n",
      "ODESZA - Wide Awake (feat. Charlie Houston) : 10\n",
      "RILEY - Let You Down : 10\n",
      "Arizona Zervas - OH MY LORD (feat. 24kGoldn) : 10\n",
      "Bryce Vine - Miss You a Little (feat. lovelytheband) : 10\n",
      "ILOVEMAKONNEN - Forever (feat. Santigold & 1st) : 10\n",
      "Arizona Zervas - HOLY TRINITY (feat. Rich The Kid) : 10\n",
      "Lxst - Talk To Me : 10\n",
      "Dan Talevski - If I Ain't Got You : 10\n",
      "bülow - Sweet Little Lies : 10\n",
      "24kGoldn - In My Head (feat. Travis Barker) : 10\n",
      "44phantom - freak : 10\n",
      "Calabasas - Voices : 10\n",
      "Hayley Kiyoko - deep in the woods : 10\n",
      "Anna of the North - Dandelion : 10\n",
      "Jaira Burns - Burn Slow : 10\n"
     ]
    }
   ],
   "source": [
    "similar_songs = dict(sorted(similar_songs.items(), key=lambda item: item[1], reverse=True))\n",
    "print('\\n', 'SIMILAR SONG COUNT')\n",
    "for song, song_count in similar_songs.items():\n",
    "    if song_count >= 10:\n",
    "        print(song, ':', song_count)"
   ]
  },
  {
   "cell_type": "code",
   "execution_count": null,
   "id": "9f2bea24",
   "metadata": {},
   "outputs": [],
   "source": [
    "# # Selecting song and attributes\n",
    "# songIndex = 298  # query point, selected song 123\n",
    "# response = querySimilars(dfSongs, columns, songIndex, func, param)\n",
    "# responseSimilar = response[0]\n",
    "# responseNonSimilar = response[1]\n",
    "\n",
    "# # Select a song and get the song name\n",
    "# anySongName = getMusicName(dfSongs.loc[songIndex])\n",
    "# print('\\n', '# Query Point:', songIndex, anySongName)\n",
    "\n",
    "# print('\\n', '# Similar songs')\n",
    "# for idx in responseSimilar:\n",
    "#     similar_song = getMusicName(dfSongs.loc[idx])\n",
    "#     print(idx, similar_song)\n",
    "\n",
    "# print('\\n', '# Non-Similar songs')\n",
    "# for idx in responseNonSimilar:\n",
    "#     nonsimilar_song = getMusicName(dfSongs.loc[idx])\n",
    "#     print(idx, nonsimilar_song)"
   ]
  }
 ],
 "metadata": {
  "kernelspec": {
   "display_name": "Python 3 (ipykernel)",
   "language": "python",
   "name": "python3"
  },
  "language_info": {
   "codemirror_mode": {
    "name": "ipython",
    "version": 3
   },
   "file_extension": ".py",
   "mimetype": "text/x-python",
   "name": "python",
   "nbconvert_exporter": "python",
   "pygments_lexer": "ipython3",
   "version": "3.9.12"
  }
 },
 "nbformat": 4,
 "nbformat_minor": 5
}
