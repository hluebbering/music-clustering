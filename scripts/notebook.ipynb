{
 "cells": [
  {
   "cell_type": "markdown",
   "id": "f88a1cd9",
   "metadata": {},
   "source": [
    "# Spotify Playlist Analysis\n",
    "\n",
    "\n",
    "<span class = \"myhighlight\">Objective.</span> Using Python, the project goal is to implement a k-means clustering algorithm, a technique often used in machine learning, and use it for data analysis. We write various functions making use of lists, sets, dictionaries, sorting, and graph data structures for computational problem solving and analysis.\n"
   ]
  },
  {
   "cell_type": "code",
   "execution_count": 1,
   "id": "2bb21b41",
   "metadata": {},
   "outputs": [],
   "source": [
    "import csv\n",
    "import time\n",
    "import pandas as pd\n",
    "import numpy as np\n",
    "import matplotlib.pyplot as plt\n",
    "import spotipy\n",
    "from spotipy.oauth2 import SpotifyClientCredentials\n",
    "from operator import index"
   ]
  },
  {
   "cell_type": "markdown",
   "id": "0b80b5b8",
   "metadata": {},
   "source": [
    "First, we create a Client Credentials Flow Manager used in server-to-server authentication by passing the necessary parameters to the [Spotify OAuth](https://github.com/spotipy-dev/spotipy/blob/master/spotipy/oauth2.py#L261) class. We provide a client id and client secret to the constructor of this authorization flow, which does not require user interaction.\n",
    "    "
   ]
  },
  {
   "cell_type": "code",
   "execution_count": 2,
   "id": "12570e30",
   "metadata": {},
   "outputs": [],
   "source": [
    "# Set client id and client secret\n",
    "client_id = '4cf3afdca2d74dc48af9999b1b7c9c61'\n",
    "client_secret = 'f6ca08ad37bb41a0afab5ca1dc74b208'\n",
    "\n",
    "# Spotify authentication token\n",
    "client_credentials_manager = SpotifyClientCredentials(client_id, client_secret)\n",
    "sp = spotipy.Spotify(client_credentials_manager = client_credentials_manager)"
   ]
  },
  {
   "cell_type": "markdown",
   "id": "ee2535bc",
   "metadata": {},
   "source": [
    "Now, we want to get the full details of the tracks of a playlist based on a playlist ID, URI, or URL. The following function takes a playlist and gets information from each individual song.\n"
   ]
  },
  {
   "cell_type": "code",
   "execution_count": 3,
   "id": "e07aad57",
   "metadata": {},
   "outputs": [],
   "source": [
    "# Get playlist song features and artist info\n",
    "def playlist_features(id, artist_id, playlist_id):\n",
    "    \n",
    "    # Create Spotify API client variables\n",
    "    meta = sp.track(id)\n",
    "    audio_features = sp.audio_features(id)\n",
    "    artist_info = sp.artist(artist_id)\n",
    "    playlist_info = sp.playlist(playlist_id)\n",
    "\n",
    "    # Metadata\n",
    "    name = meta['name']\n",
    "    track_id = meta['id']\n",
    "    album = meta['album']['name']\n",
    "    artist = meta['album']['artists'][0]['name']\n",
    "    artist_id = meta['album']['artists'][0]['id']\n",
    "    release_date = meta['album']['release_date']\n",
    "    length = meta['duration_ms']\n",
    "    popularity = meta['popularity']\n",
    "\n",
    "    # Main artist name, popularity, genre\n",
    "    artist_pop = artist_info[\"popularity\"]\n",
    "    artist_genres = artist_info[\"genres\"]\n",
    "\n",
    "    # Track features\n",
    "    acousticness = audio_features[0]['acousticness']\n",
    "    danceability = audio_features[0]['danceability']\n",
    "    energy = audio_features[0]['energy']\n",
    "    instrumentalness = audio_features[0]['instrumentalness']\n",
    "    liveness = audio_features[0]['liveness']\n",
    "    loudness = audio_features[0]['loudness']\n",
    "    speechiness = audio_features[0]['speechiness']\n",
    "    tempo = audio_features[0]['tempo']\n",
    "    valence = audio_features[0]['valence']\n",
    "    key = audio_features[0]['key']\n",
    "    mode = audio_features[0]['mode']\n",
    "    time_signature = audio_features[0]['time_signature']\n",
    "    \n",
    "    # Basic playlist info\n",
    "    playlist_name = playlist_info['name']\n",
    "\n",
    "    return [name, track_id, album, artist, artist_id, release_date, length, popularity, \n",
    "            artist_pop, artist_genres, acousticness, danceability, \n",
    "            energy, instrumentalness, liveness, loudness, speechiness, \n",
    "            tempo, valence, key, mode, time_signature, playlist_name]"
   ]
  },
  {
   "cell_type": "markdown",
   "id": "fed508cc",
   "metadata": {},
   "source": [
    "Choose a specific playlist to analyze by copying the URL from the Spotify Player interface. Using that link, the following code uses the playlist_tracks method to retrieve a list of IDs and corresponding artists for each track from the playlist. \n",
    "\n"
   ]
  },
  {
   "cell_type": "code",
   "execution_count": 4,
   "id": "c948fae9",
   "metadata": {},
   "outputs": [],
   "source": [
    "# Spotify playlist url\n",
    "playlist_links = [\"https://open.spotify.com/playlist/1nvpVNmzL7Vi1pXcQEiaLx?si=a62187de23924f4c\"]\n",
    "\n",
    "track_ids = []\n",
    "artist_uris = []\n",
    "playlist_ids = []\n",
    "\n",
    "for link in playlist_links:\n",
    "    playlist_URI = link.split(\"/\")[-1].split(\"?\")[0]\n",
    "    \n",
    "    # Extract song ids and artists from playlist\n",
    "    for x1 in sp.playlist_tracks(playlist_URI)[\"items\"]:   \n",
    "        song = x1['track']    \n",
    "        \n",
    "        if song == None:\n",
    "            continue          \n",
    "        \n",
    "        track_ids.append(song[\"id\"])\n",
    "        artist_uris.append(song[\"artists\"][0][\"uri\"])\n",
    "        playlist_ids.append(playlist_URI)\n",
    "        "
   ]
  },
  {
   "cell_type": "markdown",
   "id": "6eba4722",
   "metadata": {},
   "source": [
    "--------------------"
   ]
  },
  {
   "cell_type": "markdown",
   "id": "6d2bc235",
   "metadata": {},
   "source": [
    "The following code loops through each track ID in the playlist and extracts additional song information by calling the function we created above. From there, we can create a pandas data frame by passing in the extracted information and giving the column header names we want. "
   ]
  },
  {
   "cell_type": "code",
   "execution_count": 5,
   "id": "4f8bc67b",
   "metadata": {},
   "outputs": [],
   "source": [
    "# Loop over track ids\n",
    "tracks = []\n",
    "for i in range(len(track_ids)):\n",
    "    time.sleep(.5)\n",
    "    feat = playlist_features(track_ids[i], artist_uris[i], playlist_ids[i])\n",
    "    tracks.append(feat)"
   ]
  },
  {
   "cell_type": "code",
   "execution_count": 7,
   "id": "e1bc7804",
   "metadata": {},
   "outputs": [],
   "source": [
    "# Loop over track ids\n",
    "all_tracks = [playlist_features(track_ids[i], artist_uris[i], playlist_ids[i])\n",
    "              for i in range(len(track_ids))]"
   ]
  },
  {
   "cell_type": "code",
   "execution_count": 8,
   "id": "0c5a3331",
   "metadata": {},
   "outputs": [],
   "source": [
    "# Create dataframe\n",
    "df = pd.DataFrame(\n",
    "    tracks, columns=['name', 'track_id', 'album', 'artist', 'artist_id','release_date',\n",
    "                     'length', 'popularity', 'artist_pop', 'artist_genres',\n",
    "                     'acousticness', 'danceability', 'energy',\n",
    "                     'instrumentalness', 'liveness', 'loudness',\n",
    "                     'speechiness', 'tempo', 'valence', 'key', 'mode',\n",
    "                     'time_signature', 'playlist'])\n",
    "# Save to csv file\n",
    "df.to_csv(\"data/my_playlist.csv\", sep=',')"
   ]
  },
  {
   "cell_type": "markdown",
   "id": "fa6ccbb3",
   "metadata": {},
   "source": [
    "--------------------------------------------------------\n",
    "\n",
    "\n",
    "#### Spotify Playlists Data Extraction"
   ]
  },
  {
   "cell_type": "code",
   "execution_count": 9,
   "id": "ed5a9a1c",
   "metadata": {},
   "outputs": [
    {
     "data": {
      "text/plain": [
       "New Music Friday      100\n",
       "New Pop Picks         100\n",
       "just hits             100\n",
       "Hip Hop Controller     99\n",
       "RapCaviar              51\n",
       "Today's Top Hits       50\n",
       "Hot Hits USA           50\n",
       "Name: playlist, dtype: int64"
      ]
     },
     "execution_count": 9,
     "metadata": {},
     "output_type": "execute_result"
    }
   ],
   "source": [
    "spotify_playlists = pd.read_csv('data/spotify_playlists.csv', encoding_errors='ignore', index_col=0, header=0)\n",
    "spotify_playlists['playlist'].value_counts()"
   ]
  },
  {
   "cell_type": "markdown",
   "id": "eef6825a",
   "metadata": {},
   "source": [
    "------------------------------------------------------"
   ]
  },
  {
   "cell_type": "markdown",
   "id": "4cbd9460",
   "metadata": {},
   "source": [
    "### The Data\n"
   ]
  },
  {
   "cell_type": "markdown",
   "id": "b0a03860",
   "metadata": {},
   "source": [
    "\n",
    "\n",
    "\n",
    "\n",
    "[**Metadata.**](https://developer.spotify.com/documentation/web-api/reference/#/operations/get-track)\n",
    "- `name`: The name of the track.\n",
    "- `album`: The name of the album on which the track appears.\n",
    "- `artist`: The name of the artist who performed the track.\n",
    "- `release_date`: The date the album was first released.\n",
    "- `length`: The track length in milliseconds.\n",
    "- `popularity`: The popularity of the track. Values are between 0 and 100. The popularity is calculated by an algorithm based on the total number of plays the track has had and how recent those plays are.\n",
    "\n",
    "\n",
    "[**Artists.**](https://developer.spotify.com/documentation/web-api/reference/#/operations/get-an-artist)\n",
    "- `artist_pop`: The popularity of the artist. The value will be between 0 and 100, with 100 being the most popular. The artist's popularity is calculated from the popularity of all the artist's tracks.\n",
    "- `artist_genres`: A list of the genres the artist is associated with.\n",
    "\n",
    "\n",
    "[**Audio Features.** ](https://developer.spotify.com/documentation/web-api/reference/#/operations/get-several-audio-features)\n",
    "- `acousticness`: A confidence measure from 0.0 to 1.0 of whether the track is acoustic.\n",
    "- `danceability`: Describes how suitable a track is for dancing based on a combination of musical elements including tempo, rhythm, beat strength, and regularity.\n",
    "- `energy`: A measure from 0.0 to 1.0 that represents a perceptual measure of intensity and activity.\n",
    "- `instrumentalness`: Predicts whether a track contains no vocals. The closer the value is to 1.0, the more likely the track contains no vocal content.\n",
    "- `liveness`: Detects the presence of an audience in the recording. Higher values represent an increased probability that the track was performed live.\n",
    "- `loudness`: The overall loudness of a track in decibels (dB). Values are averaged across entire track, ranging between -60 and 0 db.\n",
    "- `speechiness`: Detects the presence of spoken words in a track. The more speech-like the recording, the closer to 1.0.\n",
    "- `tempo`: The overall estimated speed or pace of a track in beats per minute (BPM).\n",
    "- `valence`: A measure from 0.0 to 1.0 describing the musical positiveness conveyed by a track. High valence sound more positive (e.g. happy, cheerful, euphoric).\n",
    "- `key`: The key the track is in. If no key was detected, the value is -1.\n",
    "- `mode`: The modality (major or minor) of a track. Major is represented by 1 and minor is 0.\n",
    "- `time_signature`: An estimated time signature (how many beats are in each measure), ranging from 3 to 7 indicating time signatures of \"3/4\", to \"7/4\".\n",
    "\n"
   ]
  },
  {
   "cell_type": "code",
   "execution_count": 10,
   "id": "87c78664",
   "metadata": {},
   "outputs": [
    {
     "data": {
      "text/html": [
       "<div>\n",
       "<style scoped>\n",
       "    .dataframe tbody tr th:only-of-type {\n",
       "        vertical-align: middle;\n",
       "    }\n",
       "\n",
       "    .dataframe tbody tr th {\n",
       "        vertical-align: top;\n",
       "    }\n",
       "\n",
       "    .dataframe thead th {\n",
       "        text-align: right;\n",
       "    }\n",
       "</style>\n",
       "<table border=\"1\" class=\"dataframe\">\n",
       "  <thead>\n",
       "    <tr style=\"text-align: right;\">\n",
       "      <th></th>\n",
       "      <th>name</th>\n",
       "      <th>track_id</th>\n",
       "      <th>album</th>\n",
       "      <th>artist</th>\n",
       "      <th>artist_id</th>\n",
       "      <th>release_date</th>\n",
       "      <th>length</th>\n",
       "      <th>popularity</th>\n",
       "      <th>artist_pop</th>\n",
       "      <th>artist_genres</th>\n",
       "      <th>...</th>\n",
       "      <th>instrumentalness</th>\n",
       "      <th>liveness</th>\n",
       "      <th>loudness</th>\n",
       "      <th>speechiness</th>\n",
       "      <th>tempo</th>\n",
       "      <th>valence</th>\n",
       "      <th>key</th>\n",
       "      <th>mode</th>\n",
       "      <th>time_signature</th>\n",
       "      <th>playlist</th>\n",
       "    </tr>\n",
       "  </thead>\n",
       "  <tbody>\n",
       "    <tr>\n",
       "      <th>0</th>\n",
       "      <td>2 AM</td>\n",
       "      <td>3g3RCV5ImXwzHpKwM2iunc</td>\n",
       "      <td>Pure Infinity</td>\n",
       "      <td>SwaVay</td>\n",
       "      <td>29gIYsdyccGoUc6qgkZeTK</td>\n",
       "      <td>2019-05-24</td>\n",
       "      <td>198577</td>\n",
       "      <td>55</td>\n",
       "      <td>51</td>\n",
       "      <td>[atl hip hop, indie hip hop, underground hip hop]</td>\n",
       "      <td>...</td>\n",
       "      <td>0.000098</td>\n",
       "      <td>0.362</td>\n",
       "      <td>-12.353</td>\n",
       "      <td>0.0727</td>\n",
       "      <td>126.799</td>\n",
       "      <td>0.184</td>\n",
       "      <td>7</td>\n",
       "      <td>1</td>\n",
       "      <td>4</td>\n",
       "      <td>but my feet in bottega</td>\n",
       "    </tr>\n",
       "    <tr>\n",
       "      <th>1</th>\n",
       "      <td>Golden Child</td>\n",
       "      <td>04QWC97Dvd9g0IEDoyUDBX</td>\n",
       "      <td>Lady Wrangler</td>\n",
       "      <td>Shaboozey</td>\n",
       "      <td>3y2cIKLjiOlp1Np37WiUdH</td>\n",
       "      <td>2018-10-05</td>\n",
       "      <td>177773</td>\n",
       "      <td>46</td>\n",
       "      <td>56</td>\n",
       "      <td>[pop rap]</td>\n",
       "      <td>...</td>\n",
       "      <td>0.000002</td>\n",
       "      <td>0.360</td>\n",
       "      <td>-8.848</td>\n",
       "      <td>0.2900</td>\n",
       "      <td>151.029</td>\n",
       "      <td>0.365</td>\n",
       "      <td>0</td>\n",
       "      <td>1</td>\n",
       "      <td>4</td>\n",
       "      <td>but my feet in bottega</td>\n",
       "    </tr>\n",
       "  </tbody>\n",
       "</table>\n",
       "<p>2 rows × 23 columns</p>\n",
       "</div>"
      ],
      "text/plain": [
       "           name                track_id          album     artist  \\\n",
       "0          2 AM  3g3RCV5ImXwzHpKwM2iunc  Pure Infinity     SwaVay   \n",
       "1  Golden Child  04QWC97Dvd9g0IEDoyUDBX  Lady Wrangler  Shaboozey   \n",
       "\n",
       "                artist_id release_date  length  popularity  artist_pop  \\\n",
       "0  29gIYsdyccGoUc6qgkZeTK   2019-05-24  198577          55          51   \n",
       "1  3y2cIKLjiOlp1Np37WiUdH   2018-10-05  177773          46          56   \n",
       "\n",
       "                                       artist_genres  ...  instrumentalness  \\\n",
       "0  [atl hip hop, indie hip hop, underground hip hop]  ...          0.000098   \n",
       "1                                          [pop rap]  ...          0.000002   \n",
       "\n",
       "   liveness  loudness  speechiness    tempo  valence  key  mode  \\\n",
       "0     0.362   -12.353       0.0727  126.799    0.184    7     1   \n",
       "1     0.360    -8.848       0.2900  151.029    0.365    0     1   \n",
       "\n",
       "   time_signature                playlist  \n",
       "0               4  but my feet in bottega  \n",
       "1               4  but my feet in bottega  \n",
       "\n",
       "[2 rows x 23 columns]"
      ]
     },
     "execution_count": 10,
     "metadata": {},
     "output_type": "execute_result"
    }
   ],
   "source": [
    "# df = pd.read_csv('playlists.csv', encoding_errors='ignore', index_col=0, header=0)\n",
    "df.head(2)"
   ]
  },
  {
   "cell_type": "markdown",
   "id": "f5bc0e00",
   "metadata": {},
   "source": [
    "How many songs do we have?"
   ]
  },
  {
   "cell_type": "code",
   "execution_count": 11,
   "id": "7c2b09d8",
   "metadata": {},
   "outputs": [
    {
     "name": "stdout",
     "output_type": "stream",
     "text": [
      "Number of songs: 100\n",
      "Number of attributes per song: 23\n"
     ]
    }
   ],
   "source": [
    "# Number of rows and columns\n",
    "rows, cols = df.shape\n",
    "print(f'Number of songs: {rows}')\n",
    "print(f'Number of attributes per song: {cols}')"
   ]
  },
  {
   "cell_type": "code",
   "execution_count": 12,
   "id": "f3fbd2db",
   "metadata": {},
   "outputs": [
    {
     "name": "stdout",
     "output_type": "stream",
     "text": [
      "name: Juice WRLD - ON GOD (feat. Young Thug)\n"
     ]
    }
   ],
   "source": [
    "# Get a song string search\n",
    "def getMusicName(elem):\n",
    "    return f\"{elem['artist']} - {elem['name']}\"\n",
    "\n",
    "# Select song and get track info\n",
    "anySong = df.loc[15]\n",
    "anySongName = getMusicName(anySong)\n",
    "print('name:', anySongName)"
   ]
  },
  {
   "cell_type": "markdown",
   "id": "96aeda36",
   "metadata": {},
   "source": [
    "-----------------------"
   ]
  },
  {
   "cell_type": "markdown",
   "id": "f889ab43",
   "metadata": {},
   "source": [
    "## Spotify Songs - Similarity Search\n",
    "\n",
    "\n",
    "\n",
    "\n",
    "Below, we create a query to retrieve similar elements based on Euclidean distance. In mathematics, the Euclidean distance between two points is the length of the line segment between the two points. In this sense, the closer the distance is to 0, the more similar the songs are.\n",
    "\n",
    "\n",
    "\n",
    "#### [KNN Algorithm](https://www.kaggle.com/code/leomauro/spotify-songs-similarity-search/notebook)\n",
    "\n",
    "\n",
    "The k-Nearest Neighbors (KNN) algorithm searches for k similar elements based on a query point at the center within a predefined radius. \n",
    "\n"
   ]
  },
  {
   "cell_type": "code",
   "execution_count": 13,
   "id": "11a2b1d3",
   "metadata": {},
   "outputs": [],
   "source": [
    "def knnQuery(queryPoint, arrCharactPoints, k):\n",
    "    queryVals = queryPoint.tolist()\n",
    "    distVals = []\n",
    "    \n",
    "    # Copy of dataframe indices and data\n",
    "    tmp = arrCharactPoints.copy(deep = True)  \n",
    "    for index, row in tmp.iterrows():\n",
    "        feat = row.values.tolist()\n",
    "        \n",
    "        # Calculate sum of squared differences\n",
    "        ssd = sum(abs(feat[i] - queryVals[i]) ** 2 for i in range(len(queryVals)))\n",
    "        \n",
    "        # Get euclidean distance\n",
    "        distVals.append(ssd ** 0.5)\n",
    "        \n",
    "    tmp['distance'] = distVals\n",
    "    tmp = tmp.sort_values('distance')\n",
    "    \n",
    "    # K closest and furthest points\n",
    "    return tmp.head(k).index, tmp.tail(k).index"
   ]
  },
  {
   "cell_type": "code",
   "execution_count": 14,
   "id": "7477b37b",
   "metadata": {},
   "outputs": [],
   "source": [
    "# Execute KNN removing the query point\n",
    "def querySimilars(df, columns, idx, func, param):\n",
    "    arr = df[columns].copy(deep = True)\n",
    "    queryPoint = arr.loc[idx]\n",
    "    arr = arr.drop([idx])\n",
    "    return func(queryPoint, arr, param)"
   ]
  },
  {
   "cell_type": "markdown",
   "id": "60759fa9",
   "metadata": {},
   "source": [
    "**KNN Query Example.** \n",
    "\n",
    "Our function allows us to create personalized query points and modify the columns to explore other options. For example, the following code selects a specific set of song attributes and then searches for the $k$ highest values of these attributes set equal to one.\n",
    "\n",
    "Let's search for  $k=3$  similar songs to a query point $\\textrm{songIndex} = 6$. "
   ]
  },
  {
   "cell_type": "code",
   "execution_count": 20,
   "id": "a08e5aef",
   "metadata": {},
   "outputs": [
    {
     "name": "stdout",
     "output_type": "stream",
     "text": [
      "---- Query Point ----\n",
      "AG Club - Memphis\n",
      "---- k = 3 similar songs ----\n",
      "Rexx Life Raj - Moonwalk\n",
      "Boslen - DENY (feat. Tyla Yaweh)\n",
      "Justin Stone - Goldmine\n",
      "---- k = 3 nonsimilar songs ----\n",
      "Fresco Trey - Key To My Heart\n",
      "6LACK - Switch\n",
      "PawPaw Rod - HIT EM WHERE IT HURTS\n"
     ]
    }
   ],
   "source": [
    "# Select song and column attributes\n",
    "songIndex = 4 # query point\n",
    "columns = ['acousticness', 'danceability', 'energy', 'speechiness', 'valence','tempo']\n",
    "\n",
    "# Set query parameters\n",
    "func, param = knnQuery, 3\n",
    "\n",
    "# Implement query\n",
    "response = querySimilars(df, columns, songIndex, func, param)\n",
    "\n",
    "print(\"---- Query Point ----\")\n",
    "print(getMusicName(df.loc[songIndex]))\n",
    "print('---- k = 3 similar songs ----')\n",
    "for track_id in response[0]:\n",
    "    track_name = getMusicName(df.loc[track_id])\n",
    "    print(track_name)\n",
    "print('---- k = 3 nonsimilar songs ----')\n",
    "for track_id in response[1]:\n",
    "    track_name = getMusicName(df.loc[track_id])\n",
    "    print(track_name)"
   ]
  },
  {
   "cell_type": "markdown",
   "id": "0b64867b",
   "metadata": {},
   "source": [
    "The code below implements the same idea as above, but queries each track in a given playlist instead of a single defined query point."
   ]
  },
  {
   "cell_type": "code",
   "execution_count": 16,
   "id": "ce084eff",
   "metadata": {},
   "outputs": [],
   "source": [
    "similar_count = {} # Similar songs count\n",
    "nonsimilar_count = {} # Non-similar songs count\n",
    "\n",
    "for track_index in df.index:\n",
    "    response = querySimilars(df, columns, track_index, func, param)\n",
    "    \n",
    "    # Get similar songs\n",
    "    for similar_index in response[0]:\n",
    "        track = getMusicName(df.loc[similar_index])\n",
    "        if track in similar_count:\n",
    "            similar_count[track] += 1\n",
    "        else:\n",
    "            similar_count[track] = 1\n",
    "    \n",
    "    # Get non-similar songs\n",
    "    for nonsimilar_index in response[1]:\n",
    "        track = getMusicName(df.loc[nonsimilar_index])\n",
    "        if track in nonsimilar_count:\n",
    "            nonsimilar_count[track] += 1\n",
    "        else:\n",
    "            nonsimilar_count[track] = 1"
   ]
  },
  {
   "cell_type": "markdown",
   "id": "f65033c0",
   "metadata": {},
   "source": [
    "NON SIMILAR SONG COUNT:"
   ]
  },
  {
   "cell_type": "code",
   "execution_count": 21,
   "id": "d252f7dd",
   "metadata": {},
   "outputs": [
    {
     "name": "stdout",
     "output_type": "stream",
     "text": [
      "---- NON SIMILAR SONG COUNTS ----\n",
      "6LACK - Switch : 51\n",
      "PawPaw Rod - HIT EM WHERE IT HURTS : 51\n",
      "Post Malone - Internet : 50\n",
      "Fresco Trey - Key To My Heart : 50\n",
      "Boslen - DENY (feat. Tyla Yaweh) : 49\n",
      "AG Club - Memphis : 49\n"
     ]
    }
   ],
   "source": [
    "nonsimilar = dict(sorted(nonsimilar_count.items(), key=lambda item: item[1], reverse=True))\n",
    "\n",
    "print('---- NON SIMILAR SONG COUNTS ----')\n",
    "for track_name, track_count in nonsimilar.items():\n",
    "    if track_count >= 8:\n",
    "        print(track_name, ':', track_count)"
   ]
  },
  {
   "cell_type": "markdown",
   "id": "b55cf1c3",
   "metadata": {},
   "source": [
    "SIMILAR SONG COUNT:"
   ]
  },
  {
   "cell_type": "code",
   "execution_count": 22,
   "id": "7883d8d4",
   "metadata": {},
   "outputs": [
    {
     "name": "stdout",
     "output_type": "stream",
     "text": [
      "---- SIMILAR SONG COUNTS ----\n",
      "Post Malone - Paranoid : 7\n",
      "iann dior - I might : 6\n",
      "whiterosemoxie - west side boys : 6\n",
      "Jaden - Chateau : 6\n",
      "Juice WRLD - Rich And Blind : 6\n",
      "Juice WRLD - ON GOD (feat. Young Thug) : 5\n",
      "Kevin Abstract - Empty : 5\n",
      "Toosii - be cautious : 5\n",
      "Kodak Black - MoshPit (feat. Juice WRLD) : 5\n",
      "Kendrick Lamar - Silent Hill : 5\n",
      "iann dior - Pretty Girls : 5\n",
      "PARTYNEXTDOOR - Break from Toronto : 5\n"
     ]
    }
   ],
   "source": [
    "similar = dict(sorted(similar_count.items(), key=lambda item: item[1], reverse=True))\n",
    "\n",
    "print('---- SIMILAR SONG COUNTS ----')\n",
    "for track_name, track_count in similar.items():\n",
    "    if track_count >= 5:\n",
    "        print(track_name, ':', track_count)"
   ]
  },
  {
   "cell_type": "markdown",
   "id": "2b11374b",
   "metadata": {},
   "source": [
    "-------------------------------------"
   ]
  },
  {
   "cell_type": "markdown",
   "id": "8e020582",
   "metadata": {},
   "source": [
    "---------------------------------------------------------------\n",
    "\n",
    "\n",
    "### Similar Artists Web Visual\n",
    "\n",
    "\n",
    "First, we want to find the most frequently occurring artist in a given playlist. We use the value_counts function to get a sequence containing counts of unique values sorted in descending order. \n"
   ]
  },
  {
   "cell_type": "code",
   "execution_count": 23,
   "id": "d027a055",
   "metadata": {
    "scrolled": true
   },
   "outputs": [
    {
     "data": {
      "text/html": [
       "<div>\n",
       "<style scoped>\n",
       "    .dataframe tbody tr th:only-of-type {\n",
       "        vertical-align: middle;\n",
       "    }\n",
       "\n",
       "    .dataframe tbody tr th {\n",
       "        vertical-align: top;\n",
       "    }\n",
       "\n",
       "    .dataframe thead th {\n",
       "        text-align: right;\n",
       "    }\n",
       "</style>\n",
       "<table border=\"1\" class=\"dataframe\">\n",
       "  <thead>\n",
       "    <tr style=\"text-align: right;\">\n",
       "      <th></th>\n",
       "      <th>artist</th>\n",
       "      <th>artist_id</th>\n",
       "      <th>counts</th>\n",
       "    </tr>\n",
       "  </thead>\n",
       "  <tbody>\n",
       "    <tr>\n",
       "      <th>0</th>\n",
       "      <td>Juice WRLD</td>\n",
       "      <td>4MCBfE4596Uoi2O4DtmEMz</td>\n",
       "      <td>11</td>\n",
       "    </tr>\n",
       "    <tr>\n",
       "      <th>1</th>\n",
       "      <td>Post Malone</td>\n",
       "      <td>246dkjvS1zLTtiykXe5h60</td>\n",
       "      <td>8</td>\n",
       "    </tr>\n",
       "    <tr>\n",
       "      <th>2</th>\n",
       "      <td>SAINt JHN</td>\n",
       "      <td>0H39MdGGX6dbnnQPt6NQkZ</td>\n",
       "      <td>3</td>\n",
       "    </tr>\n",
       "    <tr>\n",
       "      <th>3</th>\n",
       "      <td>Polo G</td>\n",
       "      <td>6AgTAQt8XS6jRWi4sX7w49</td>\n",
       "      <td>2</td>\n",
       "    </tr>\n",
       "  </tbody>\n",
       "</table>\n",
       "</div>"
      ],
      "text/plain": [
       "        artist               artist_id  counts\n",
       "0   Juice WRLD  4MCBfE4596Uoi2O4DtmEMz      11\n",
       "1  Post Malone  246dkjvS1zLTtiykXe5h60       8\n",
       "2    SAINt JHN  0H39MdGGX6dbnnQPt6NQkZ       3\n",
       "3       Polo G  6AgTAQt8XS6jRWi4sX7w49       2"
      ]
     },
     "execution_count": 23,
     "metadata": {},
     "output_type": "execute_result"
    }
   ],
   "source": [
    "# pandas count distinct values in column\n",
    "tallyArtists = df.value_counts([\"artist\", \"artist_id\"]).reset_index(name='counts')\n",
    "topArtist = tallyArtists['artist_id'][1]\n",
    "tallyArtists.head(4)"
   ]
  },
  {
   "cell_type": "markdown",
   "id": "d9293125",
   "metadata": {},
   "source": [
    "#### Links Dataset\n",
    "\n",
    "I can retrieve artist and artist-related data using the following code, passing the artist ID to the artist and artist-related artist functions under the spotipy package. The returned list of similar artists is sorted by similarity score based on the listener data."
   ]
  },
  {
   "cell_type": "code",
   "execution_count": 24,
   "id": "7e30d786",
   "metadata": {},
   "outputs": [],
   "source": [
    "# create links table\n",
    "a = sp.artist(topArtist)\n",
    "ra = sp.artist_related_artists(topArtist)\n",
    "\n",
    "# dictionary of lists \n",
    "links_dict = {\"source_name\":[],\"source_id\":[],\"target_name\":[],\"target_id\":[]};\n",
    "for artist in ra['artists']:\n",
    "    links_dict[\"source_name\"].append(a['name'])\n",
    "    links_dict[\"source_id\"].append(a['id'])\n",
    "    links_dict[\"target_name\"].append(artist['name'])\n",
    "    links_dict[\"target_id\"].append(artist['id'])"
   ]
  },
  {
   "cell_type": "markdown",
   "id": "4bb55c18",
   "metadata": {},
   "source": [
    "Let’s take it a step further and query the API for similar artists for those similar to the most frequent artist in the given playlist. In other words, we generate two generations of the most similar artists."
   ]
  },
  {
   "cell_type": "code",
   "execution_count": 25,
   "id": "1bed0d42",
   "metadata": {},
   "outputs": [],
   "source": [
    "for i in range(0, 4):\n",
    "    a = sp.artist(links_dict['target_id'][i])\n",
    "    ra = sp.artist_related_artists(links_dict['target_id'][i])\n",
    "    time.sleep(.5)\n",
    "    for artist in ra['artists']:\n",
    "        links_dict[\"source_name\"].append(a['name'])\n",
    "        links_dict[\"source_id\"].append(a['id'])\n",
    "        links_dict[\"target_name\"].append(artist['name'])\n",
    "        links_dict[\"target_id\"].append(artist['id'])\n",
    "\n",
    "# Convert links dict to dataframe\n",
    "links = pd.DataFrame(links_dict) \n",
    "\n",
    "# Export to excel sheet             \n",
    "links.to_excel(\"links.xlsx\", index = False)"
   ]
  },
  {
   "cell_type": "code",
   "execution_count": 26,
   "id": "cb013878",
   "metadata": {},
   "outputs": [
    {
     "data": {
      "text/html": [
       "<div>\n",
       "<style scoped>\n",
       "    .dataframe tbody tr th:only-of-type {\n",
       "        vertical-align: middle;\n",
       "    }\n",
       "\n",
       "    .dataframe tbody tr th {\n",
       "        vertical-align: top;\n",
       "    }\n",
       "\n",
       "    .dataframe thead th {\n",
       "        text-align: right;\n",
       "    }\n",
       "</style>\n",
       "<table border=\"1\" class=\"dataframe\">\n",
       "  <thead>\n",
       "    <tr style=\"text-align: right;\">\n",
       "      <th></th>\n",
       "      <th>source_name</th>\n",
       "      <th>source_id</th>\n",
       "      <th>target_name</th>\n",
       "      <th>target_id</th>\n",
       "    </tr>\n",
       "  </thead>\n",
       "  <tbody>\n",
       "    <tr>\n",
       "      <th>0</th>\n",
       "      <td>Post Malone</td>\n",
       "      <td>246dkjvS1zLTtiykXe5h60</td>\n",
       "      <td>Rae Sremmurd</td>\n",
       "      <td>7iZtZyCzp3LItcw1wtPI3D</td>\n",
       "    </tr>\n",
       "    <tr>\n",
       "      <th>1</th>\n",
       "      <td>Post Malone</td>\n",
       "      <td>246dkjvS1zLTtiykXe5h60</td>\n",
       "      <td>Huncho Jack</td>\n",
       "      <td>6extd4B6hl8VTmnlhpl2bY</td>\n",
       "    </tr>\n",
       "    <tr>\n",
       "      <th>2</th>\n",
       "      <td>Post Malone</td>\n",
       "      <td>246dkjvS1zLTtiykXe5h60</td>\n",
       "      <td>Tyla Yaweh</td>\n",
       "      <td>1MXZ0hsGic96dWRDKwAwdr</td>\n",
       "    </tr>\n",
       "  </tbody>\n",
       "</table>\n",
       "</div>"
      ],
      "text/plain": [
       "   source_name               source_id   target_name               target_id\n",
       "0  Post Malone  246dkjvS1zLTtiykXe5h60  Rae Sremmurd  7iZtZyCzp3LItcw1wtPI3D\n",
       "1  Post Malone  246dkjvS1zLTtiykXe5h60   Huncho Jack  6extd4B6hl8VTmnlhpl2bY\n",
       "2  Post Malone  246dkjvS1zLTtiykXe5h60    Tyla Yaweh  1MXZ0hsGic96dWRDKwAwdr"
      ]
     },
     "execution_count": 26,
     "metadata": {},
     "output_type": "execute_result"
    }
   ],
   "source": [
    "links.head(3)"
   ]
  },
  {
   "cell_type": "markdown",
   "id": "b9c8fbdf",
   "metadata": {},
   "source": [
    "#### Points Dataset"
   ]
  },
  {
   "cell_type": "code",
   "execution_count": 47,
   "id": "878dc958",
   "metadata": {},
   "outputs": [],
   "source": [
    "# create \"points\" table             \n",
    "all_artist_ids = list(set(links_dict['source_id'] + links_dict['target_id']))\n"
   ]
  },
  {
   "cell_type": "code",
   "execution_count": 49,
   "id": "82694d7a",
   "metadata": {},
   "outputs": [],
   "source": [
    "name_count = {}\n",
    "all_artist_names = list(links_dict['source_name'] + links_dict['target_name'])\n",
    "for name in all_artist_names:\n",
    "    if name in name_count:\n",
    "        name_count[name] += 1\n",
    "        \n",
    "    else:\n",
    "        name_count[name] = 1"
   ]
  },
  {
   "cell_type": "code",
   "execution_count": 53,
   "id": "1e108ff8",
   "metadata": {},
   "outputs": [],
   "source": [
    "# dictionary of lists \n",
    "points_dict = {\"id\":[],\"name\":[],\"connections\":[],\"followers\":[],\"popularity\":[],\"url\":[],\"image\":[]};\n",
    "\n",
    "for id in all_artist_ids:\n",
    "    time.sleep(.5)\n",
    "    a = sp.artist(id)\n",
    "    points_dict['id'].append(id)\n",
    "    points_dict['name'].append(a['name'])\n",
    "    points_dict['connections'].append(name_count[a['name']])\n",
    "    points_dict['followers'].append(a['followers']['total'])\n",
    "    points_dict['popularity'].append(a['popularity'])\n",
    "    points_dict['url'].append(a['external_urls']['spotify'])\n",
    "    points_dict['image'].append(a['images'][0]['url'])\n",
    "\n",
    "# Convert links dict to dataframe\n",
    "points = pd.DataFrame(points_dict) \n",
    "\n",
    "# Export to excel sheet             \n",
    "points.to_excel(\"points.xlsx\", index = False)"
   ]
  },
  {
   "cell_type": "code",
   "execution_count": 56,
   "id": "9eb61ee3",
   "metadata": {},
   "outputs": [
    {
     "data": {
      "text/html": [
       "<div>\n",
       "<style scoped>\n",
       "    .dataframe tbody tr th:only-of-type {\n",
       "        vertical-align: middle;\n",
       "    }\n",
       "\n",
       "    .dataframe tbody tr th {\n",
       "        vertical-align: top;\n",
       "    }\n",
       "\n",
       "    .dataframe thead th {\n",
       "        text-align: right;\n",
       "    }\n",
       "</style>\n",
       "<table border=\"1\" class=\"dataframe\">\n",
       "  <thead>\n",
       "    <tr style=\"text-align: right;\">\n",
       "      <th></th>\n",
       "      <th>id</th>\n",
       "      <th>name</th>\n",
       "      <th>connections</th>\n",
       "      <th>followers</th>\n",
       "      <th>popularity</th>\n",
       "      <th>url</th>\n",
       "      <th>image</th>\n",
       "    </tr>\n",
       "  </thead>\n",
       "  <tbody>\n",
       "    <tr>\n",
       "      <th>0</th>\n",
       "      <td>0VRj0yCOv2FXJNP47XQnx5</td>\n",
       "      <td>Quavo</td>\n",
       "      <td>2</td>\n",
       "      <td>6170520</td>\n",
       "      <td>82</td>\n",
       "      <td>https://open.spotify.com/artist/0VRj0yCOv2FXJN...</td>\n",
       "      <td>https://i.scdn.co/image/ab6761610000e5eb1454de...</td>\n",
       "    </tr>\n",
       "    <tr>\n",
       "      <th>1</th>\n",
       "      <td>7meyrw7Or5DwteYxDJrkCM</td>\n",
       "      <td>YK Osiris</td>\n",
       "      <td>1</td>\n",
       "      <td>1499763</td>\n",
       "      <td>57</td>\n",
       "      <td>https://open.spotify.com/artist/7meyrw7Or5Dwte...</td>\n",
       "      <td>https://i.scdn.co/image/ab6761610000e5eb30997f...</td>\n",
       "    </tr>\n",
       "    <tr>\n",
       "      <th>2</th>\n",
       "      <td>392I9I5QMSyoA0FmI5pVfx</td>\n",
       "      <td>Yung Tory</td>\n",
       "      <td>1</td>\n",
       "      <td>259214</td>\n",
       "      <td>47</td>\n",
       "      <td>https://open.spotify.com/artist/392I9I5QMSyoA0...</td>\n",
       "      <td>https://i.scdn.co/image/ab6761610000e5eba83e79...</td>\n",
       "    </tr>\n",
       "  </tbody>\n",
       "</table>\n",
       "</div>"
      ],
      "text/plain": [
       "                       id       name  connections  followers  popularity  \\\n",
       "0  0VRj0yCOv2FXJNP47XQnx5      Quavo            2    6170520          82   \n",
       "1  7meyrw7Or5DwteYxDJrkCM  YK Osiris            1    1499763          57   \n",
       "2  392I9I5QMSyoA0FmI5pVfx  Yung Tory            1     259214          47   \n",
       "\n",
       "                                                 url  \\\n",
       "0  https://open.spotify.com/artist/0VRj0yCOv2FXJN...   \n",
       "1  https://open.spotify.com/artist/7meyrw7Or5Dwte...   \n",
       "2  https://open.spotify.com/artist/392I9I5QMSyoA0...   \n",
       "\n",
       "                                               image  \n",
       "0  https://i.scdn.co/image/ab6761610000e5eb1454de...  \n",
       "1  https://i.scdn.co/image/ab6761610000e5eb30997f...  \n",
       "2  https://i.scdn.co/image/ab6761610000e5eba83e79...  "
      ]
     },
     "execution_count": 56,
     "metadata": {},
     "output_type": "execute_result"
    }
   ],
   "source": [
    "points.head(3)"
   ]
  },
  {
   "cell_type": "markdown",
   "id": "d7735c5e",
   "metadata": {},
   "source": [
    "#### Flourish Network Graph\n",
    "\n",
    "The following visualization is based on the [Spotify Similiar Artists API](https://unboxed-analytics.com/data-technology/visualizing-rap-communities-wtih-python-spotifys-api/) article and created with flourish studio.\n"
   ]
  },
  {
   "cell_type": "code",
   "execution_count": null,
   "id": "b1f9619d",
   "metadata": {},
   "outputs": [],
   "source": [
    "%%html\n",
    "\n",
    "<iframe src='https://flo.uri.sh/visualisation/12232729/embed' title='Interactive or visual content' class='flourish-embed-iframe' frameborder='0' scrolling='no' style='width:100%;height:600px;' sandbox='allow-same-origin allow-forms allow-scripts allow-downloads allow-popups allow-popups-to-escape-sandbox allow-top-navigation-by-user-activation'></iframe><div style='width:100%!;margin-top:4px!important;text-align:right!important;'><a class='flourish-credit' href='https://public.flourish.studio/visualisation/12232729/?utm_source=embed&utm_campaign=visualisation/12232729' target='_top' style='text-decoration:none!important'><img alt='Made with Flourish' src='https://public.flourish.studio/resources/made_with_flourish.svg' style='width:105px!important;height:16px!important;border:none!important;margin:0!important;'> </a></div>"
   ]
  },
  {
   "cell_type": "markdown",
   "id": "49db0e51",
   "metadata": {},
   "source": [
    "------------------------------------------"
   ]
  },
  {
   "cell_type": "markdown",
   "id": "b8548177",
   "metadata": {},
   "source": [
    "----------------------------------------------------"
   ]
  },
  {
   "cell_type": "markdown",
   "id": "7c4add3d",
   "metadata": {},
   "source": [
    "## Organized Songs in a Playlist"
   ]
  },
  {
   "cell_type": "code",
   "execution_count": 58,
   "id": "eda736bb",
   "metadata": {},
   "outputs": [],
   "source": [
    "import datetime\n",
    "import numpy as np\n",
    "import pandas as pd\n",
    "import matplotlib.pyplot as plt\n",
    "from sklearn import cluster, decomposition"
   ]
  },
  {
   "cell_type": "code",
   "execution_count": 89,
   "id": "be09c1ff",
   "metadata": {},
   "outputs": [],
   "source": [
    "songs = pd.read_csv('data/my_playlist.csv', encoding_errors='ignore', index_col=0, header=0)\n"
   ]
  },
  {
   "cell_type": "code",
   "execution_count": 84,
   "id": "77ffdb34",
   "metadata": {},
   "outputs": [],
   "source": [
    "labels = df.values[:,0]\n",
    "X = df.values[:,10:22]"
   ]
  },
  {
   "cell_type": "code",
   "execution_count": 86,
   "id": "d33f8024",
   "metadata": {},
   "outputs": [
    {
     "data": {
      "text/plain": [
       "AffinityPropagation(preference=-200)"
      ]
     },
     "execution_count": 86,
     "metadata": {},
     "output_type": "execute_result"
    }
   ],
   "source": [
    "kmeans = cluster.AffinityPropagation(preference=-200)\n",
    "kmeans.fit(X)\n"
   ]
  },
  {
   "cell_type": "code",
   "execution_count": 88,
   "id": "1204f9f3",
   "metadata": {},
   "outputs": [
    {
     "name": "stdout",
     "output_type": "stream",
     "text": [
      "Category 11\n",
      "-----\n",
      "2 AM\n",
      "Rain\n",
      "Lemme Talk\n",
      "Planez\n",
      "\n",
      "Category 0\n",
      "-----\n",
      "Golden Child\n",
      "Yungen (feat. Jack Harlow)\n",
      "Blastoff (feat. Juice Wrld & Trippie Redd)\n",
      "ON GOD (feat. Young Thug)\n",
      "Waiting For Never\n",
      "Rich & Sad\n",
      "Hide (feat. Seezyn)\n",
      "I might\n",
      "Ring Ring (feat. Vory)\n",
      "Wishing Well\n",
      "Go Again\n",
      "DOLLAZ ON MY HEAD (feat. Young Thug)\n",
      "\n",
      "Category 9\n",
      "-----\n",
      "Eazy\n",
      "WAIT FOR U (feat. Drake & Tems)\n",
      "The Best Part of Life\n",
      "For The Squadron\n",
      "Home Ain't Home (feat. Rod Wave)\n",
      "Fast\n",
      "The Way Life Goes (feat. Oh Wonder)\n",
      "Doom\n",
      "Already Dead\n",
      "life got crazy\n",
      "west side boys\n",
      "\n",
      "Category 1\n",
      "-----\n",
      "MoshPit (feat. Juice WRLD)\n",
      "Yacht Club (feat. Juice WRLD)\n",
      "In My Room\n",
      "be cautious\n",
      "Rich And Blind\n",
      "2009\n",
      "A Thousand Bad Times\n",
      "GOTTI\n",
      "Taking Over\n",
      "Distraction\n",
      "So Sad\n",
      "\n",
      "Category 8\n",
      "-----\n",
      "Memphis\n",
      "Webbie (feat. Duke)\n",
      "In My Head\n",
      "Moonwalk\n",
      "Internet\n",
      "Don't Forget Me\n",
      "I Cannot Be (A Sadder Song) (with Gunna)\n",
      "DnF (feat. Drake & Future)\n",
      "Voices\n",
      "\n",
      "Category 4\n",
      "-----\n",
      "Sober (feat. Roddy Ricch & Post Malone)\n",
      "I Pray For You (feat. Labrinth & MALICE)\n",
      "DENY (feat. Tyla Yaweh)\n",
      "Goldmine\n",
      "Empty\n",
      "Stay High\n",
      "Go Flex\n",
      "Noticed\n",
      "Thousand Miles\n",
      "RAPSTAR\n",
      "Cutlass (ft. ScHoolboy Q)\n",
      "Die Young (feat. 347aidan)\n",
      "Nikes On\n",
      "\n",
      "Category 6\n",
      "-----\n",
      "Big Lie\n",
      "Switch\n",
      "HIT EM WHERE IT HURTS\n",
      "Key To My Heart\n",
      "\n",
      "Category 3\n",
      "-----\n",
      "Savior\n",
      "Break from Toronto\n",
      "Weekend (feat. Miguel)\n",
      "The Plan (feat. Juicy J)\n",
      "Sandman\n",
      "\n",
      "Category 2\n",
      "-----\n",
      "Silent Hill\n",
      "Litty (feat. DaBaby)\n",
      "Antisocial (feat. Juice WRLD)\n",
      "Life's A Mess (feat. Halsey)\n",
      "Love You More (with Nate Ruess, Gunna & Jeff Bhasker)\n",
      "Chateau\n",
      "Out Of Love (feat. Internet Money)\n",
      "Lies (feat. Lil Skies)\n",
      "Erase Your Social\n",
      "\n",
      "Category 5\n",
      "-----\n",
      "In My Head\n",
      "Crew Love\n",
      "Cigarettes\n",
      "You Wouldn't Understand\n",
      "Wedding Day\n",
      "Paranoid\n",
      "High Right Now (feat. Wiz Khalifa) - Remix\n",
      "FEEL SOMETHING (feat. Marshmello)\n",
      "Stop Breathing\n",
      "\n",
      "Category 7\n",
      "-----\n",
      "Toxic\n",
      "commas\n",
      "Waves\n",
      "Denial\n",
      "Pretty Girls\n",
      "16\n",
      "Think About It\n",
      "Understand Me\n",
      "Creepin' (with The Weeknd & 21 Savage)\n",
      "Hurt\n",
      "\n",
      "Category 10\n",
      "-----\n",
      "Violent Crimes\n",
      "All The Time (feat. Lil Wayne & Natasha Mosley)\n",
      "No Love Song\n",
      "\n"
     ]
    }
   ],
   "source": [
    "\n",
    "predictions = {}\n",
    "for p,n in zip(kmeans.predict(X),labels):\n",
    "    if not predictions.get(p):\n",
    "        predictions[p] = []\n",
    "        \n",
    "    predictions[p] += [n]\n",
    "\n",
    "for p in predictions:\n",
    "    print(\"Category\",p)\n",
    "    print(\"-----\")\n",
    "    for n in predictions[p]:\n",
    "        print(n)\n",
    "    print(\"\")"
   ]
  },
  {
   "cell_type": "code",
   "execution_count": null,
   "id": "74c4232c",
   "metadata": {},
   "outputs": [],
   "source": []
  }
 ],
 "metadata": {
  "kernelspec": {
   "display_name": "Python 3 (ipykernel)",
   "language": "python",
   "name": "python3"
  },
  "language_info": {
   "codemirror_mode": {
    "name": "ipython",
    "version": 3
   },
   "file_extension": ".py",
   "mimetype": "text/x-python",
   "name": "python",
   "nbconvert_exporter": "python",
   "pygments_lexer": "ipython3",
   "version": "3.9.12"
  }
 },
 "nbformat": 4,
 "nbformat_minor": 5
}
