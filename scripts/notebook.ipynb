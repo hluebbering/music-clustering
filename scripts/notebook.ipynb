{
 "cells": [
  {
   "cell_type": "markdown",
   "id": "f88a1cd9",
   "metadata": {},
   "source": [
    "# Spotify Playlist Analysis\n",
    "\n",
    "\n",
    "<span class = \"myhighlight\">Objective.</span> Using Python, the project goal is to implement a k-means clustering algorithm, a technique often used in machine learning, and use it for data analysis. We write various functions making use of lists, sets, dictionaries, sorting, and graph data structures for computational problem solving and analysis.\n"
   ]
  },
  {
   "cell_type": "code",
   "execution_count": 42,
   "id": "2bb21b41",
   "metadata": {},
   "outputs": [],
   "source": [
    "import csv\n",
    "import time\n",
    "import pandas as pd\n",
    "import numpy as np\n",
    "import matplotlib.pyplot as plt\n",
    "import spotipy\n",
    "from spotipy.oauth2 import SpotifyClientCredentials\n",
    "from operator import index"
   ]
  },
  {
   "cell_type": "markdown",
   "id": "0b80b5b8",
   "metadata": {},
   "source": [
    "First, we create a Client Credentials Flow Manager used in server-to-server authentication by passing the necessary parameters to the [Spotify OAuth](https://github.com/spotipy-dev/spotipy/blob/master/spotipy/oauth2.py#L261) class. We provide a client id and client secret to the constructor of this authorization flow, which does not require user interaction.\n",
    "    "
   ]
  },
  {
   "cell_type": "code",
   "execution_count": 43,
   "id": "12570e30",
   "metadata": {},
   "outputs": [],
   "source": [
    "# Set client id and client secret\n",
    "client_id = '4cf3afdca2d74dc48af9999b1b7c9c61'\n",
    "client_secret = 'f6ca08ad37bb41a0afab5ca1dc74b208'\n",
    "\n",
    "# Spotify authentication token\n",
    "client_credentials_manager = SpotifyClientCredentials(client_id, client_secret)\n",
    "sp = spotipy.Spotify(client_credentials_manager = client_credentials_manager)"
   ]
  },
  {
   "cell_type": "markdown",
   "id": "ee2535bc",
   "metadata": {},
   "source": [
    "Now, we want to get the full details of the tracks of a playlist based on a playlist ID, URI, or URL. The following function takes a playlist and gets information from each individual song.\n"
   ]
  },
  {
   "cell_type": "code",
   "execution_count": 44,
   "id": "e07aad57",
   "metadata": {},
   "outputs": [],
   "source": [
    "# Get playlist song features and artist info\n",
    "def playlist_features(id, artist_id, playlist_id):\n",
    "    \n",
    "    # Create Spotify API client variables\n",
    "    meta = sp.track(id)\n",
    "    audio_features = sp.audio_features(id)\n",
    "    artist_info = sp.artist(artist_id)\n",
    "    playlist_info = sp.playlist(playlist_id)\n",
    "\n",
    "    # Metadata\n",
    "    name = meta['name']\n",
    "    track_id = meta['id']\n",
    "    album = meta['album']['name']\n",
    "    artist = meta['album']['artists'][0]['name']\n",
    "    artist_id = meta['album']['artists'][0]['id']\n",
    "    release_date = meta['album']['release_date']\n",
    "    length = meta['duration_ms']\n",
    "    popularity = meta['popularity']\n",
    "\n",
    "    # Main artist name, popularity, genre\n",
    "    artist_pop = artist_info[\"popularity\"]\n",
    "    artist_genres = artist_info[\"genres\"]\n",
    "\n",
    "    # Track features\n",
    "    acousticness = audio_features[0]['acousticness']\n",
    "    danceability = audio_features[0]['danceability']\n",
    "    energy = audio_features[0]['energy']\n",
    "    instrumentalness = audio_features[0]['instrumentalness']\n",
    "    liveness = audio_features[0]['liveness']\n",
    "    loudness = audio_features[0]['loudness']\n",
    "    speechiness = audio_features[0]['speechiness']\n",
    "    tempo = audio_features[0]['tempo']\n",
    "    valence = audio_features[0]['valence']\n",
    "    key = audio_features[0]['key']\n",
    "    mode = audio_features[0]['mode']\n",
    "    time_signature = audio_features[0]['time_signature']\n",
    "    \n",
    "    # Basic playlist info\n",
    "    playlist_name = playlist_info['name']\n",
    "\n",
    "    return [name, track_id, album, artist, artist_id, release_date, length, popularity, \n",
    "            artist_pop, artist_genres, acousticness, danceability, \n",
    "            energy, instrumentalness, liveness, loudness, speechiness, \n",
    "            tempo, valence, key, mode, time_signature, playlist_name]"
   ]
  },
  {
   "cell_type": "markdown",
   "id": "fed508cc",
   "metadata": {},
   "source": [
    "Choose a specific playlist to analyze by copying the URL from the Spotify Player interface. Using that link, the following code uses the playlist_tracks method to retrieve a list of IDs and corresponding artists for each track from the playlist. \n",
    "\n"
   ]
  },
  {
   "cell_type": "code",
   "execution_count": 45,
   "id": "3f642037",
   "metadata": {},
   "outputs": [],
   "source": [
    "def get_playlist_tracks(playlist_URI):\n",
    "    tracks = []\n",
    "    results = sp.playlist_tracks(playlist_URI)\n",
    "    tracks = results['items']\n",
    "    while results['next']:\n",
    "        results = sp.next(results)\n",
    "        tracks.extend(results['items'])     \n",
    "    return tracks"
   ]
  },
  {
   "cell_type": "code",
   "execution_count": 46,
   "id": "c948fae9",
   "metadata": {},
   "outputs": [],
   "source": [
    "# Spotify playlist url\n",
    "playlist_links = [\"https://open.spotify.com/playlist/1nvpVNmzL7Vi1pXcQEiaLx?si=6842f41a58284be3\"]\n",
    "\n",
    "playlist_ids = []\n",
    "track_ids = []\n",
    "artist_uris = []\n",
    "\n",
    "for link in playlist_links:\n",
    "    playlist_URI = link.split(\"/\")[-1].split(\"?\")[0]\n",
    "    \n",
    "    # Extract song ids and artists from playlist\n",
    "    for i in get_playlist_tracks(playlist_URI):\n",
    "        track_ids.append(i['track'][\"id\"])\n",
    "        artist_uris.append(i['track'][\"artists\"][0][\"uri\"])\n",
    "        playlist_ids.append(playlist_URI)\n",
    "  "
   ]
  },
  {
   "cell_type": "code",
   "execution_count": 47,
   "id": "0f4fdb6f",
   "metadata": {},
   "outputs": [
    {
     "data": {
      "text/plain": [
       "106"
      ]
     },
     "execution_count": 47,
     "metadata": {},
     "output_type": "execute_result"
    }
   ],
   "source": [
    "len(playlist_ids)"
   ]
  },
  {
   "cell_type": "markdown",
   "id": "6eba4722",
   "metadata": {},
   "source": [
    "--------------------"
   ]
  },
  {
   "cell_type": "markdown",
   "id": "6d2bc235",
   "metadata": {},
   "source": [
    "The following code loops through each track ID in the playlist and extracts additional song information by calling the function we created above. From there, we can create a pandas data frame by passing in the extracted information and giving the column header names we want. "
   ]
  },
  {
   "cell_type": "code",
   "execution_count": 48,
   "id": "e1bc7804",
   "metadata": {},
   "outputs": [],
   "source": [
    "# Loop over track ids\n",
    "all_tracks = [playlist_features(track_ids[i], artist_uris[i], playlist_ids[i])\n",
    "              for i in range(len(track_ids))]"
   ]
  },
  {
   "cell_type": "code",
   "execution_count": 49,
   "id": "0c5a3331",
   "metadata": {},
   "outputs": [],
   "source": [
    "# Create dataframe\n",
    "df = pd.DataFrame(\n",
    "    all_tracks, columns=['name', 'track_id', 'album', 'artist', 'artist_id','release_date',\n",
    "                     'length', 'popularity', 'artist_pop', 'artist_genres',\n",
    "                     'acousticness', 'danceability', 'energy',\n",
    "                     'instrumentalness', 'liveness', 'loudness',\n",
    "                     'speechiness', 'tempo', 'valence', 'key', 'mode',\n",
    "                     'time_signature', 'playlist'])\n",
    "# Save to csv file\n",
    "df.to_csv(\"data/my_playlist.csv\", sep=',')"
   ]
  },
  {
   "cell_type": "markdown",
   "id": "fa6ccbb3",
   "metadata": {},
   "source": [
    "--------------------------------------------------------\n",
    "\n",
    "\n",
    "#### Spotify Playlists Data Extraction"
   ]
  },
  {
   "cell_type": "code",
   "execution_count": 50,
   "id": "ed5a9a1c",
   "metadata": {},
   "outputs": [
    {
     "data": {
      "text/plain": [
       "New Music Friday      100\n",
       "New Pop Picks         100\n",
       "just hits             100\n",
       "Hip Hop Controller     99\n",
       "RapCaviar              51\n",
       "Today's Top Hits       50\n",
       "Hot Hits USA           50\n",
       "Name: playlist, dtype: int64"
      ]
     },
     "execution_count": 50,
     "metadata": {},
     "output_type": "execute_result"
    }
   ],
   "source": [
    "spotify_playlists = pd.read_csv('data/spotify_playlists.csv', encoding_errors='ignore', index_col=0, header=0)\n",
    "spotify_playlists['playlist'].value_counts()"
   ]
  },
  {
   "cell_type": "markdown",
   "id": "eef6825a",
   "metadata": {},
   "source": [
    "------------------------------------------------------"
   ]
  },
  {
   "cell_type": "markdown",
   "id": "4cbd9460",
   "metadata": {},
   "source": [
    "### The Data\n"
   ]
  },
  {
   "cell_type": "markdown",
   "id": "f5bc0e00",
   "metadata": {},
   "source": [
    "How many songs do we have?"
   ]
  },
  {
   "cell_type": "code",
   "execution_count": 51,
   "id": "7c2b09d8",
   "metadata": {},
   "outputs": [
    {
     "name": "stdout",
     "output_type": "stream",
     "text": [
      "Number of songs: 106\n",
      "Number of attributes per song: 23\n"
     ]
    }
   ],
   "source": [
    "# Number of rows and columns\n",
    "rows, cols = df.shape\n",
    "print(f'Number of songs: {rows}')\n",
    "print(f'Number of attributes per song: {cols}')"
   ]
  },
  {
   "cell_type": "code",
   "execution_count": 52,
   "id": "f3fbd2db",
   "metadata": {},
   "outputs": [
    {
     "name": "stdout",
     "output_type": "stream",
     "text": [
      "name: ODIE - In My Head\n"
     ]
    }
   ],
   "source": [
    "# Get a song string search\n",
    "def getMusicName(elem):\n",
    "    return f\"{elem['artist']} - {elem['name']}\"\n",
    "\n",
    "# Select song and get track info\n",
    "anySong = df.loc[15]\n",
    "anySongName = getMusicName(anySong)\n",
    "print('name:', anySongName)"
   ]
  },
  {
   "cell_type": "markdown",
   "id": "96aeda36",
   "metadata": {},
   "source": [
    "-----------------------"
   ]
  },
  {
   "cell_type": "markdown",
   "id": "f889ab43",
   "metadata": {},
   "source": [
    "## Spotify Songs - Similarity Search\n",
    "\n",
    "\n",
    "\n",
    "\n",
    "Below, we create a query to retrieve similar elements based on Euclidean distance. In mathematics, the Euclidean distance between two points is the length of the line segment between the two points. In this sense, the closer the distance is to 0, the more similar the songs are.\n",
    "\n",
    "\n",
    "\n",
    "#### [KNN Algorithm](https://www.kaggle.com/code/leomauro/spotify-songs-similarity-search/notebook)\n",
    "\n",
    "\n",
    "The k-Nearest Neighbors (KNN) algorithm searches for k similar elements based on a query point at the center within a predefined radius. \n",
    "\n"
   ]
  },
  {
   "cell_type": "code",
   "execution_count": 53,
   "id": "11a2b1d3",
   "metadata": {},
   "outputs": [],
   "source": [
    "def knnQuery(queryPoint, arrCharactPoints, k):\n",
    "    queryVals = queryPoint.tolist()\n",
    "    distVals = []\n",
    "    \n",
    "    # Copy of dataframe indices and data\n",
    "    tmp = arrCharactPoints.copy(deep = True)  \n",
    "    for index, row in tmp.iterrows():\n",
    "        feat = row.values.tolist()\n",
    "        \n",
    "        # Calculate sum of squared differences\n",
    "        ssd = sum(abs(feat[i] - queryVals[i]) ** 2 for i in range(len(queryVals)))\n",
    "        \n",
    "        # Get euclidean distance\n",
    "        distVals.append(ssd ** 0.5)\n",
    "        \n",
    "    tmp['distance'] = distVals\n",
    "    tmp = tmp.sort_values('distance')\n",
    "    \n",
    "    # K closest and furthest points\n",
    "    return tmp.head(k).index, tmp.tail(k).index"
   ]
  },
  {
   "cell_type": "code",
   "execution_count": 54,
   "id": "7477b37b",
   "metadata": {},
   "outputs": [],
   "source": [
    "# Execute KNN removing the query point\n",
    "def querySimilars(df, columns, idx, func, param):\n",
    "    arr = df[columns].copy(deep = True)\n",
    "    queryPoint = arr.loc[idx]\n",
    "    arr = arr.drop([idx])\n",
    "    return func(queryPoint, arr, param)"
   ]
  },
  {
   "cell_type": "markdown",
   "id": "60759fa9",
   "metadata": {},
   "source": [
    "**KNN Query Example.** \n",
    "\n",
    "Our function allows us to create personalized query points and modify the columns to explore other options. For example, the following code selects a specific set of song attributes and then searches for the $k$ highest values of these attributes set equal to one.\n",
    "\n",
    "Let's search for  $k=3$  similar songs to a query point $\\textrm{songIndex} = 6$. "
   ]
  },
  {
   "cell_type": "code",
   "execution_count": 55,
   "id": "563f9cdb",
   "metadata": {},
   "outputs": [],
   "source": [
    "from sklearn import preprocessing \n",
    "scaler=preprocessing.MinMaxScaler() #instantiate a scaler\n",
    "#all the feature values are in the range [0,1] ,except of loudnes\n",
    "#so let's scale it to fit the exact same range\n",
    "loudness2 = df[\"loudness\"].values\n",
    "loudness_scaled=scaler.fit_transform(loudness2.reshape(-1, 1))\n",
    "df['loudness_scaled'] = loudness_scaled"
   ]
  },
  {
   "cell_type": "code",
   "execution_count": 56,
   "id": "a08e5aef",
   "metadata": {},
   "outputs": [
    {
     "name": "stdout",
     "output_type": "stream",
     "text": [
      "---- Query Point ----\n",
      "AG Club - Memphis\n",
      "---- k = 3 similar songs ----\n",
      "Roddy Ricch - Stop Breathing\n",
      "The Game - Eazy\n",
      "Lil Yachty - Yacht Club (feat. Juice WRLD)\n",
      "---- k = 3 nonsimilar songs ----\n",
      "Post Malone - Internet\n",
      "ODIE - In My Head\n",
      "Frank Ocean - In My Room\n"
     ]
    }
   ],
   "source": [
    "# Select song and column attributes\n",
    "songIndex = 4 # query point\n",
    "columns = ['acousticness', 'danceability', 'energy', 'instrumentalness', 'liveness', \n",
    "           #'loudness_scaled', 'tempo', \n",
    "           'speechiness', 'valence']\n",
    "\n",
    "# Set query parameters\n",
    "func, param = knnQuery,3\n",
    "\n",
    "# Implement query\n",
    "response = querySimilars(df, columns, songIndex, func, param)\n",
    "\n",
    "print(\"---- Query Point ----\")\n",
    "print(getMusicName(df.loc[songIndex]))\n",
    "print('---- k = 3 similar songs ----')\n",
    "for track_id in response[0]:\n",
    "    track_name = getMusicName(df.loc[track_id])\n",
    "    print(track_name)\n",
    "print('---- k = 3 nonsimilar songs ----')\n",
    "for track_id in response[1]:\n",
    "    track_name = getMusicName(df.loc[track_id])\n",
    "    print(track_name)"
   ]
  },
  {
   "cell_type": "markdown",
   "id": "0b64867b",
   "metadata": {},
   "source": [
    "The code below implements the same idea as above, but queries each track in a given playlist instead of a single defined query point."
   ]
  },
  {
   "cell_type": "code",
   "execution_count": 57,
   "id": "ce084eff",
   "metadata": {},
   "outputs": [],
   "source": [
    "similar_count = {} # Similar songs count\n",
    "nonsimilar_count = {} # Non-similar songs count\n",
    "\n",
    "for track_index in df.index:\n",
    "    response = querySimilars(df, columns, track_index, func, param)\n",
    "    \n",
    "    # Get similar songs\n",
    "    for similar_index in response[0]:\n",
    "        track = getMusicName(df.loc[similar_index])\n",
    "        if track in similar_count:\n",
    "            similar_count[track] += 1\n",
    "        else:\n",
    "            similar_count[track] = 1\n",
    "    \n",
    "    # Get non-similar songs\n",
    "    for nonsimilar_index in response[1]:\n",
    "        track = getMusicName(df.loc[nonsimilar_index])\n",
    "        if track in nonsimilar_count:\n",
    "            nonsimilar_count[track] += 1\n",
    "        else:\n",
    "            nonsimilar_count[track] = 1"
   ]
  },
  {
   "cell_type": "markdown",
   "id": "f65033c0",
   "metadata": {},
   "source": [
    "NON SIMILAR SONG COUNT:"
   ]
  },
  {
   "cell_type": "code",
   "execution_count": 60,
   "id": "d252f7dd",
   "metadata": {},
   "outputs": [
    {
     "name": "stdout",
     "output_type": "stream",
     "text": [
      "---- NON SIMILAR SONG COUNTS ----\n",
      "Frank Ocean - In My Room : 83\n",
      "ODIE - In My Head : 46\n",
      "Post Malone - Internet : 42\n",
      "Blxst - Hurt : 25\n",
      "Lil Uzi Vert - The Way Life Goes (feat. Nicki Minaj & Oh Wonder) - Remix : 19\n",
      "Kanye West - Waves : 12\n",
      "Tyla Yaweh - Understand Me : 11\n",
      "Mark Battles - Lemme Talk : 9\n",
      "Kanye West - Violent Crimes : 9\n",
      "SAINt JHN - The Best Part of Life : 8\n"
     ]
    }
   ],
   "source": [
    "nonsimilar = dict(sorted(nonsimilar_count.items(), key=lambda item: item[1], reverse=True))\n",
    "\n",
    "print('---- NON SIMILAR SONG COUNTS ----')\n",
    "for track_name, track_count in nonsimilar.items():\n",
    "    if track_count >= 8:\n",
    "        print(track_name, ':', track_count)"
   ]
  },
  {
   "cell_type": "markdown",
   "id": "b55cf1c3",
   "metadata": {},
   "source": [
    "SIMILAR SONG COUNT:"
   ]
  },
  {
   "cell_type": "code",
   "execution_count": 61,
   "id": "7883d8d4",
   "metadata": {},
   "outputs": [
    {
     "name": "stdout",
     "output_type": "stream",
     "text": [
      "---- SIMILAR SONG COUNTS ----\n",
      "YoungBoy Never Broke Again - Home Ain't Home (feat. Rod Wave) : 9\n",
      "Kodak Black - MoshPit (feat. Juice WRLD) : 8\n",
      "Lil Xan - Lies (feat. Lil Skies) : 8\n",
      "Tyla Yaweh - High Right Now (feat. Wiz Khalifa) - Remix : 7\n",
      "iann dior - I might : 7\n",
      "mike. - commas : 7\n",
      "Juice WRLD - Life's A Mess (feat. Halsey) : 6\n",
      "Fresco Trey - Key To My Heart : 6\n",
      "Azizi Gibson - Rain : 6\n",
      "Mac Miller - Weekend (feat. Miguel) : 5\n",
      "Polo G - RAPSTAR : 5\n",
      "Rae Sremmurd - Denial : 5\n",
      "Juice WRLD - Stay High : 5\n",
      "Lil Uzi Vert - The Way Life Goes (feat. Nicki Minaj & Oh Wonder) - Remix : 5\n",
      "Sheff G - Weight On Me : 5\n",
      "whiterosemoxie - west side boys : 5\n",
      "Post Malone - Waiting For Never : 5\n",
      "Post Malone - Big Lie : 5\n",
      "Juice WRLD - In My Head : 5\n",
      "Justin Stone - Goldmine : 5\n",
      "Juice WRLD - Rich And Blind : 5\n",
      "Baby Keem - 16 : 5\n",
      "KILJ - No Remedy : 5\n"
     ]
    }
   ],
   "source": [
    "similar = dict(sorted(similar_count.items(), key=lambda item: item[1], reverse=True))\n",
    "\n",
    "print('---- SIMILAR SONG COUNTS ----')\n",
    "for track_name, track_count in similar.items():\n",
    "    if track_count >= 5:\n",
    "        print(track_name, ':', track_count)"
   ]
  },
  {
   "cell_type": "markdown",
   "id": "8e020582",
   "metadata": {},
   "source": [
    "---------------------------------------------------------------\n",
    "\n",
    "\n",
    "### Similar Artists Web Visual\n",
    "\n",
    "\n",
    "First, we want to find the most frequently occurring artist in a given playlist. We use the value_counts function to get a sequence containing counts of unique values sorted in descending order. \n"
   ]
  },
  {
   "cell_type": "code",
   "execution_count": 62,
   "id": "d027a055",
   "metadata": {
    "scrolled": true
   },
   "outputs": [
    {
     "data": {
      "text/html": [
       "<div>\n",
       "<style scoped>\n",
       "    .dataframe tbody tr th:only-of-type {\n",
       "        vertical-align: middle;\n",
       "    }\n",
       "\n",
       "    .dataframe tbody tr th {\n",
       "        vertical-align: top;\n",
       "    }\n",
       "\n",
       "    .dataframe thead th {\n",
       "        text-align: right;\n",
       "    }\n",
       "</style>\n",
       "<table border=\"1\" class=\"dataframe\">\n",
       "  <thead>\n",
       "    <tr style=\"text-align: right;\">\n",
       "      <th></th>\n",
       "      <th>artist</th>\n",
       "      <th>artist_id</th>\n",
       "      <th>counts</th>\n",
       "    </tr>\n",
       "  </thead>\n",
       "  <tbody>\n",
       "    <tr>\n",
       "      <th>0</th>\n",
       "      <td>Juice WRLD</td>\n",
       "      <td>4MCBfE4596Uoi2O4DtmEMz</td>\n",
       "      <td>10</td>\n",
       "    </tr>\n",
       "    <tr>\n",
       "      <th>1</th>\n",
       "      <td>Post Malone</td>\n",
       "      <td>246dkjvS1zLTtiykXe5h60</td>\n",
       "      <td>8</td>\n",
       "    </tr>\n",
       "    <tr>\n",
       "      <th>2</th>\n",
       "      <td>SAINt JHN</td>\n",
       "      <td>0H39MdGGX6dbnnQPt6NQkZ</td>\n",
       "      <td>3</td>\n",
       "    </tr>\n",
       "    <tr>\n",
       "      <th>3</th>\n",
       "      <td>Lil Uzi Vert</td>\n",
       "      <td>4O15NlyKLIASxsJ0PrXPfz</td>\n",
       "      <td>3</td>\n",
       "    </tr>\n",
       "  </tbody>\n",
       "</table>\n",
       "</div>"
      ],
      "text/plain": [
       "         artist               artist_id  counts\n",
       "0    Juice WRLD  4MCBfE4596Uoi2O4DtmEMz      10\n",
       "1   Post Malone  246dkjvS1zLTtiykXe5h60       8\n",
       "2     SAINt JHN  0H39MdGGX6dbnnQPt6NQkZ       3\n",
       "3  Lil Uzi Vert  4O15NlyKLIASxsJ0PrXPfz       3"
      ]
     },
     "execution_count": 62,
     "metadata": {},
     "output_type": "execute_result"
    }
   ],
   "source": [
    "# pandas count distinct values in column\n",
    "tallyArtists = df.value_counts([\"artist\", \"artist_id\"]).reset_index(name='counts')\n",
    "topArtist = tallyArtists['artist_id'][1]\n",
    "tallyArtists.head(4)"
   ]
  },
  {
   "cell_type": "markdown",
   "id": "d9293125",
   "metadata": {},
   "source": [
    "#### Links Dataset\n",
    "\n",
    "I can retrieve artist and artist-related data using the following code, passing the artist ID to the artist and artist-related artist functions under the spotipy package. The returned list of similar artists is sorted by similarity score based on the listener data."
   ]
  },
  {
   "cell_type": "code",
   "execution_count": 63,
   "id": "7e30d786",
   "metadata": {},
   "outputs": [],
   "source": [
    "# create links table\n",
    "a = sp.artist(topArtist)\n",
    "ra = sp.artist_related_artists(topArtist)\n",
    "\n",
    "# dictionary of lists \n",
    "links_dict = {\"source_name\":[],\"source_id\":[],\"target_name\":[],\"target_id\":[]};\n",
    "for artist in ra['artists']:\n",
    "    links_dict[\"source_name\"].append(a['name'])\n",
    "    links_dict[\"source_id\"].append(a['id'])\n",
    "    links_dict[\"target_name\"].append(artist['name'])\n",
    "    links_dict[\"target_id\"].append(artist['id'])"
   ]
  },
  {
   "cell_type": "markdown",
   "id": "4bb55c18",
   "metadata": {},
   "source": [
    "Let’s take it a step further and query the API for similar artists for those similar to the most frequent artist in the given playlist. In other words, we generate two generations of the most similar artists."
   ]
  },
  {
   "cell_type": "code",
   "execution_count": 65,
   "id": "1bed0d42",
   "metadata": {},
   "outputs": [],
   "source": [
    "for i in range(0, 4):\n",
    "    a = sp.artist(links_dict['target_id'][i])\n",
    "    ra = sp.artist_related_artists(links_dict['target_id'][i])\n",
    "    time.sleep(.5)\n",
    "    for artist in ra['artists']:\n",
    "        links_dict[\"source_name\"].append(a['name'])\n",
    "        links_dict[\"source_id\"].append(a['id'])\n",
    "        links_dict[\"target_name\"].append(artist['name'])\n",
    "        links_dict[\"target_id\"].append(artist['id'])\n",
    "\n",
    "# Convert links dict to dataframe\n",
    "links = pd.DataFrame(links_dict) \n",
    "\n",
    "# Export to excel sheet             \n",
    "links.to_excel(\"data/links.xlsx\", index = False)"
   ]
  },
  {
   "cell_type": "code",
   "execution_count": 66,
   "id": "cb013878",
   "metadata": {},
   "outputs": [
    {
     "data": {
      "text/html": [
       "<div>\n",
       "<style scoped>\n",
       "    .dataframe tbody tr th:only-of-type {\n",
       "        vertical-align: middle;\n",
       "    }\n",
       "\n",
       "    .dataframe tbody tr th {\n",
       "        vertical-align: top;\n",
       "    }\n",
       "\n",
       "    .dataframe thead th {\n",
       "        text-align: right;\n",
       "    }\n",
       "</style>\n",
       "<table border=\"1\" class=\"dataframe\">\n",
       "  <thead>\n",
       "    <tr style=\"text-align: right;\">\n",
       "      <th></th>\n",
       "      <th>source_name</th>\n",
       "      <th>source_id</th>\n",
       "      <th>target_name</th>\n",
       "      <th>target_id</th>\n",
       "    </tr>\n",
       "  </thead>\n",
       "  <tbody>\n",
       "    <tr>\n",
       "      <th>0</th>\n",
       "      <td>Post Malone</td>\n",
       "      <td>246dkjvS1zLTtiykXe5h60</td>\n",
       "      <td>Rae Sremmurd</td>\n",
       "      <td>7iZtZyCzp3LItcw1wtPI3D</td>\n",
       "    </tr>\n",
       "    <tr>\n",
       "      <th>1</th>\n",
       "      <td>Post Malone</td>\n",
       "      <td>246dkjvS1zLTtiykXe5h60</td>\n",
       "      <td>Huncho Jack</td>\n",
       "      <td>6extd4B6hl8VTmnlhpl2bY</td>\n",
       "    </tr>\n",
       "    <tr>\n",
       "      <th>2</th>\n",
       "      <td>Post Malone</td>\n",
       "      <td>246dkjvS1zLTtiykXe5h60</td>\n",
       "      <td>Tyla Yaweh</td>\n",
       "      <td>1MXZ0hsGic96dWRDKwAwdr</td>\n",
       "    </tr>\n",
       "  </tbody>\n",
       "</table>\n",
       "</div>"
      ],
      "text/plain": [
       "   source_name               source_id   target_name               target_id\n",
       "0  Post Malone  246dkjvS1zLTtiykXe5h60  Rae Sremmurd  7iZtZyCzp3LItcw1wtPI3D\n",
       "1  Post Malone  246dkjvS1zLTtiykXe5h60   Huncho Jack  6extd4B6hl8VTmnlhpl2bY\n",
       "2  Post Malone  246dkjvS1zLTtiykXe5h60    Tyla Yaweh  1MXZ0hsGic96dWRDKwAwdr"
      ]
     },
     "execution_count": 66,
     "metadata": {},
     "output_type": "execute_result"
    }
   ],
   "source": [
    "links.head(3)"
   ]
  },
  {
   "cell_type": "markdown",
   "id": "b9c8fbdf",
   "metadata": {},
   "source": [
    "#### Points Dataset"
   ]
  },
  {
   "cell_type": "code",
   "execution_count": 67,
   "id": "878dc958",
   "metadata": {},
   "outputs": [],
   "source": [
    "# create \"points\" table             \n",
    "all_artist_ids = list(set(links_dict['source_id'] + links_dict['target_id']))\n"
   ]
  },
  {
   "cell_type": "code",
   "execution_count": 68,
   "id": "82694d7a",
   "metadata": {},
   "outputs": [],
   "source": [
    "name_count = {}\n",
    "all_artist_names = list(links_dict['source_name'] + links_dict['target_name'])\n",
    "for name in all_artist_names:\n",
    "    if name in name_count:\n",
    "        name_count[name] += 1\n",
    "        \n",
    "    else:\n",
    "        name_count[name] = 1"
   ]
  },
  {
   "cell_type": "code",
   "execution_count": 69,
   "id": "1e108ff8",
   "metadata": {},
   "outputs": [],
   "source": [
    "# dictionary of lists \n",
    "points_dict = {\"id\":[],\"name\":[],\"connections\":[],\"followers\":[],\"popularity\":[],\"url\":[],\"image\":[]};\n",
    "\n",
    "for id in all_artist_ids:\n",
    "    time.sleep(.5)\n",
    "    a = sp.artist(id)\n",
    "    points_dict['id'].append(id)\n",
    "    points_dict['name'].append(a['name'])\n",
    "    points_dict['connections'].append(name_count[a['name']])\n",
    "    points_dict['followers'].append(a['followers']['total'])\n",
    "    points_dict['popularity'].append(a['popularity'])\n",
    "    points_dict['url'].append(a['external_urls']['spotify'])\n",
    "    points_dict['image'].append(a['images'][0]['url'])\n",
    "\n",
    "# Convert links dict to dataframe\n",
    "points = pd.DataFrame(points_dict) \n",
    "\n",
    "# Export to excel sheet             \n",
    "points.to_excel(\"data/points.xlsx\", index = False)"
   ]
  },
  {
   "cell_type": "code",
   "execution_count": 70,
   "id": "9eb61ee3",
   "metadata": {},
   "outputs": [
    {
     "data": {
      "text/html": [
       "<div>\n",
       "<style scoped>\n",
       "    .dataframe tbody tr th:only-of-type {\n",
       "        vertical-align: middle;\n",
       "    }\n",
       "\n",
       "    .dataframe tbody tr th {\n",
       "        vertical-align: top;\n",
       "    }\n",
       "\n",
       "    .dataframe thead th {\n",
       "        text-align: right;\n",
       "    }\n",
       "</style>\n",
       "<table border=\"1\" class=\"dataframe\">\n",
       "  <thead>\n",
       "    <tr style=\"text-align: right;\">\n",
       "      <th></th>\n",
       "      <th>id</th>\n",
       "      <th>name</th>\n",
       "      <th>connections</th>\n",
       "      <th>followers</th>\n",
       "      <th>popularity</th>\n",
       "      <th>url</th>\n",
       "      <th>image</th>\n",
       "    </tr>\n",
       "  </thead>\n",
       "  <tbody>\n",
       "    <tr>\n",
       "      <th>0</th>\n",
       "      <td>0VRj0yCOv2FXJNP47XQnx5</td>\n",
       "      <td>Quavo</td>\n",
       "      <td>3</td>\n",
       "      <td>6179310</td>\n",
       "      <td>82</td>\n",
       "      <td>https://open.spotify.com/artist/0VRj0yCOv2FXJN...</td>\n",
       "      <td>https://i.scdn.co/image/ab6761610000e5eb1454de...</td>\n",
       "    </tr>\n",
       "    <tr>\n",
       "      <th>1</th>\n",
       "      <td>7iZtZyCzp3LItcw1wtPI3D</td>\n",
       "      <td>Rae Sremmurd</td>\n",
       "      <td>45</td>\n",
       "      <td>7008543</td>\n",
       "      <td>73</td>\n",
       "      <td>https://open.spotify.com/artist/7iZtZyCzp3LItc...</td>\n",
       "      <td>https://i.scdn.co/image/ab6761610000e5eb209b54...</td>\n",
       "    </tr>\n",
       "    <tr>\n",
       "      <th>2</th>\n",
       "      <td>34Y0ldeyUv7jBvukWOGASO</td>\n",
       "      <td>Bobby Shmurda</td>\n",
       "      <td>2</td>\n",
       "      <td>1390475</td>\n",
       "      <td>60</td>\n",
       "      <td>https://open.spotify.com/artist/34Y0ldeyUv7jBv...</td>\n",
       "      <td>https://i.scdn.co/image/ab6761610000e5ebee12e6...</td>\n",
       "    </tr>\n",
       "  </tbody>\n",
       "</table>\n",
       "</div>"
      ],
      "text/plain": [
       "                       id           name  connections  followers  popularity  \\\n",
       "0  0VRj0yCOv2FXJNP47XQnx5          Quavo            3    6179310          82   \n",
       "1  7iZtZyCzp3LItcw1wtPI3D   Rae Sremmurd           45    7008543          73   \n",
       "2  34Y0ldeyUv7jBvukWOGASO  Bobby Shmurda            2    1390475          60   \n",
       "\n",
       "                                                 url  \\\n",
       "0  https://open.spotify.com/artist/0VRj0yCOv2FXJN...   \n",
       "1  https://open.spotify.com/artist/7iZtZyCzp3LItc...   \n",
       "2  https://open.spotify.com/artist/34Y0ldeyUv7jBv...   \n",
       "\n",
       "                                               image  \n",
       "0  https://i.scdn.co/image/ab6761610000e5eb1454de...  \n",
       "1  https://i.scdn.co/image/ab6761610000e5eb209b54...  \n",
       "2  https://i.scdn.co/image/ab6761610000e5ebee12e6...  "
      ]
     },
     "execution_count": 70,
     "metadata": {},
     "output_type": "execute_result"
    }
   ],
   "source": [
    "points.head(3)"
   ]
  },
  {
   "cell_type": "markdown",
   "id": "d7735c5e",
   "metadata": {},
   "source": [
    "#### Flourish Network Graph\n",
    "\n",
    "The following visualization is based on the [Spotify Similiar Artists API](https://unboxed-analytics.com/data-technology/visualizing-rap-communities-wtih-python-spotifys-api/) article and created with flourish studio.\n"
   ]
  },
  {
   "cell_type": "code",
   "execution_count": 162,
   "id": "b1f9619d",
   "metadata": {},
   "outputs": [
    {
     "data": {
      "text/html": [
       "\n",
       "<iframe src='https://flo.uri.sh/visualisation/12232729/embed' title='Interactive or visual content' class='flourish-embed-iframe' frameborder='0' scrolling='no' style='width:100%;height:600px;' sandbox='allow-same-origin allow-forms allow-scripts allow-downloads allow-popups allow-popups-to-escape-sandbox allow-top-navigation-by-user-activation'></iframe><div style='width:100%!;margin-top:4px!important;text-align:right!important;'><a class='flourish-credit' href='https://public.flourish.studio/visualisation/12232729/?utm_source=embed&utm_campaign=visualisation/12232729' target='_top' style='text-decoration:none!important'><img alt='Made with Flourish' src='https://public.flourish.studio/resources/made_with_flourish.svg' style='width:105px!important;height:16px!important;border:none!important;margin:0!important;'> </a></div>\n"
      ],
      "text/plain": [
       "<IPython.core.display.HTML object>"
      ]
     },
     "metadata": {},
     "output_type": "display_data"
    }
   ],
   "source": [
    "%%html\n",
    "\n",
    "<iframe src='https://flo.uri.sh/visualisation/12232729/embed' title='Interactive or visual content' class='flourish-embed-iframe' frameborder='0' scrolling='no' style='width:100%;height:600px;' sandbox='allow-same-origin allow-forms allow-scripts allow-downloads allow-popups allow-popups-to-escape-sandbox allow-top-navigation-by-user-activation'></iframe><div style='width:100%!;margin-top:4px!important;text-align:right!important;'><a class='flourish-credit' href='https://public.flourish.studio/visualisation/12232729/?utm_source=embed&utm_campaign=visualisation/12232729' target='_top' style='text-decoration:none!important'><img alt='Made with Flourish' src='https://public.flourish.studio/resources/made_with_flourish.svg' style='width:105px!important;height:16px!important;border:none!important;margin:0!important;'> </a></div>"
   ]
  },
  {
   "cell_type": "markdown",
   "id": "4e616ad5",
   "metadata": {},
   "source": [
    "---------------------------------------------"
   ]
  },
  {
   "cell_type": "markdown",
   "id": "7c4add3d",
   "metadata": {},
   "source": [
    "## Organized Songs in a Playlist"
   ]
  },
  {
   "cell_type": "code",
   "execution_count": 158,
   "id": "eda736bb",
   "metadata": {},
   "outputs": [],
   "source": [
    "import datetime\n",
    "import numpy as np\n",
    "import pandas as pd\n",
    "import matplotlib.pyplot as plt\n",
    "from sklearn import cluster, decomposition"
   ]
  },
  {
   "cell_type": "code",
   "execution_count": 400,
   "id": "be09c1ff",
   "metadata": {},
   "outputs": [
    {
     "data": {
      "text/html": [
       "<div>\n",
       "<style scoped>\n",
       "    .dataframe tbody tr th:only-of-type {\n",
       "        vertical-align: middle;\n",
       "    }\n",
       "\n",
       "    .dataframe tbody tr th {\n",
       "        vertical-align: top;\n",
       "    }\n",
       "\n",
       "    .dataframe thead th {\n",
       "        text-align: right;\n",
       "    }\n",
       "</style>\n",
       "<table border=\"1\" class=\"dataframe\">\n",
       "  <thead>\n",
       "    <tr style=\"text-align: right;\">\n",
       "      <th></th>\n",
       "      <th>acousticness</th>\n",
       "      <th>danceability</th>\n",
       "      <th>energy</th>\n",
       "      <th>instrumentalness</th>\n",
       "      <th>liveness</th>\n",
       "      <th>speechiness</th>\n",
       "      <th>tempo</th>\n",
       "      <th>valence</th>\n",
       "      <th>loudness_scaled</th>\n",
       "    </tr>\n",
       "  </thead>\n",
       "  <tbody>\n",
       "    <tr>\n",
       "      <th>count</th>\n",
       "      <td>106.000000</td>\n",
       "      <td>106.000000</td>\n",
       "      <td>106.000000</td>\n",
       "      <td>106.000000</td>\n",
       "      <td>106.000000</td>\n",
       "      <td>106.000000</td>\n",
       "      <td>106.000000</td>\n",
       "      <td>106.000000</td>\n",
       "      <td>106.000000</td>\n",
       "    </tr>\n",
       "    <tr>\n",
       "      <th>mean</th>\n",
       "      <td>0.255301</td>\n",
       "      <td>0.679500</td>\n",
       "      <td>0.586915</td>\n",
       "      <td>0.006967</td>\n",
       "      <td>0.158788</td>\n",
       "      <td>0.148254</td>\n",
       "      <td>119.174302</td>\n",
       "      <td>0.398518</td>\n",
       "      <td>0.667653</td>\n",
       "    </tr>\n",
       "    <tr>\n",
       "      <th>std</th>\n",
       "      <td>0.223641</td>\n",
       "      <td>0.115911</td>\n",
       "      <td>0.122452</td>\n",
       "      <td>0.064370</td>\n",
       "      <td>0.085350</td>\n",
       "      <td>0.120728</td>\n",
       "      <td>33.817415</td>\n",
       "      <td>0.208096</td>\n",
       "      <td>0.198418</td>\n",
       "    </tr>\n",
       "    <tr>\n",
       "      <th>min</th>\n",
       "      <td>0.001200</td>\n",
       "      <td>0.375000</td>\n",
       "      <td>0.214000</td>\n",
       "      <td>0.000000</td>\n",
       "      <td>0.059800</td>\n",
       "      <td>0.029500</td>\n",
       "      <td>74.013000</td>\n",
       "      <td>0.035700</td>\n",
       "      <td>0.000000</td>\n",
       "    </tr>\n",
       "    <tr>\n",
       "      <th>25%</th>\n",
       "      <td>0.067600</td>\n",
       "      <td>0.620750</td>\n",
       "      <td>0.502750</td>\n",
       "      <td>0.000000</td>\n",
       "      <td>0.103250</td>\n",
       "      <td>0.056225</td>\n",
       "      <td>83.601750</td>\n",
       "      <td>0.247500</td>\n",
       "      <td>0.562824</td>\n",
       "    </tr>\n",
       "    <tr>\n",
       "      <th>50%</th>\n",
       "      <td>0.194500</td>\n",
       "      <td>0.700500</td>\n",
       "      <td>0.598500</td>\n",
       "      <td>0.000000</td>\n",
       "      <td>0.125000</td>\n",
       "      <td>0.091950</td>\n",
       "      <td>120.108500</td>\n",
       "      <td>0.373000</td>\n",
       "      <td>0.699416</td>\n",
       "    </tr>\n",
       "    <tr>\n",
       "      <th>75%</th>\n",
       "      <td>0.406000</td>\n",
       "      <td>0.760500</td>\n",
       "      <td>0.670250</td>\n",
       "      <td>0.000002</td>\n",
       "      <td>0.182750</td>\n",
       "      <td>0.217250</td>\n",
       "      <td>150.784500</td>\n",
       "      <td>0.554500</td>\n",
       "      <td>0.803714</td>\n",
       "    </tr>\n",
       "    <tr>\n",
       "      <th>max</th>\n",
       "      <td>0.877000</td>\n",
       "      <td>0.935000</td>\n",
       "      <td>0.881000</td>\n",
       "      <td>0.661000</td>\n",
       "      <td>0.419000</td>\n",
       "      <td>0.525000</td>\n",
       "      <td>178.046000</td>\n",
       "      <td>0.835000</td>\n",
       "      <td>1.000000</td>\n",
       "    </tr>\n",
       "  </tbody>\n",
       "</table>\n",
       "</div>"
      ],
      "text/plain": [
       "       acousticness  danceability      energy  instrumentalness    liveness  \\\n",
       "count    106.000000    106.000000  106.000000        106.000000  106.000000   \n",
       "mean       0.255301      0.679500    0.586915          0.006967    0.158788   \n",
       "std        0.223641      0.115911    0.122452          0.064370    0.085350   \n",
       "min        0.001200      0.375000    0.214000          0.000000    0.059800   \n",
       "25%        0.067600      0.620750    0.502750          0.000000    0.103250   \n",
       "50%        0.194500      0.700500    0.598500          0.000000    0.125000   \n",
       "75%        0.406000      0.760500    0.670250          0.000002    0.182750   \n",
       "max        0.877000      0.935000    0.881000          0.661000    0.419000   \n",
       "\n",
       "       speechiness       tempo     valence  loudness_scaled  \n",
       "count   106.000000  106.000000  106.000000       106.000000  \n",
       "mean      0.148254  119.174302    0.398518         0.667653  \n",
       "std       0.120728   33.817415    0.208096         0.198418  \n",
       "min       0.029500   74.013000    0.035700         0.000000  \n",
       "25%       0.056225   83.601750    0.247500         0.562824  \n",
       "50%       0.091950  120.108500    0.373000         0.699416  \n",
       "75%       0.217250  150.784500    0.554500         0.803714  \n",
       "max       0.525000  178.046000    0.835000         1.000000  "
      ]
     },
     "execution_count": 400,
     "metadata": {},
     "output_type": "execute_result"
    }
   ],
   "source": [
    "songs = pd.read_csv('data/my_playlist.csv', encoding_errors='ignore', index_col=0, header=0)\n",
    "songs = df[['name','acousticness', 'danceability', 'energy', 'instrumentalness', \n",
    "            'liveness', 'speechiness', 'tempo', 'valence',  'loudness_scaled']]\n",
    "songs.describe()"
   ]
  },
  {
   "cell_type": "code",
   "execution_count": 401,
   "id": "77ffdb34",
   "metadata": {},
   "outputs": [
    {
     "data": {
      "text/plain": [
       "AffinityPropagation(affinity='euclidean', convergence_iter=15, copy=True,\n",
       "                    damping=0.5, max_iter=200, preference=-200,\n",
       "                    random_state=None, verbose=False)"
      ]
     },
     "execution_count": 401,
     "metadata": {},
     "output_type": "execute_result"
    }
   ],
   "source": [
    "labels = songs.values[:,0]\n",
    "X = songs.values[:,1:10]"
   ]
  },
  {
   "cell_type": "code",
   "execution_count": null,
   "id": "0b7e481a",
   "metadata": {},
   "outputs": [],
   "source": [
    "kmeans = cluster.AffinityPropagation(preference=-200)\n",
    "kmeans.fit(X)"
   ]
  },
  {
   "cell_type": "code",
   "execution_count": 402,
   "id": "1204f9f3",
   "metadata": {},
   "outputs": [
    {
     "name": "stdout",
     "output_type": "stream",
     "text": [
      "Category 2\n",
      "-----\n",
      "2 AM\n",
      "Rain\n",
      "Savior\n",
      "Break from Toronto\n",
      "Weekend (feat. Miguel)\n",
      "Lemme Talk\n",
      "The Plan (feat. Juicy J)\n",
      "Sandman\n",
      "Weight On Me\n",
      "\n",
      "Category 0\n",
      "-----\n",
      "Golden Child\n",
      "Blastoff (feat. Juice Wrld & Trippie Redd)\n",
      "Waiting For Never\n",
      "Rich & Sad\n",
      "Hide (feat. Seezyn)\n",
      "FEEL SOMETHING (feat. Marshmello)\n",
      "I might\n",
      "Wishing Well\n",
      "Go Again\n",
      "Everyday\n",
      "\n",
      "Category 1\n",
      "-----\n",
      "Eazy\n",
      "Sober (feat. Roddy Ricch & Post Malone)\n",
      "I Pray For You (feat. Labrinth & MALICE)\n",
      "In My Head\n",
      "WAIT FOR U (feat. Drake & Tems)\n",
      "For The Squadron\n",
      "Empty\n",
      "Home Ain't Home (feat. Rod Wave)\n",
      "Don't Forget Me\n",
      "Go Flex\n",
      "I Cannot Be (A Sadder Song) (with Gunna)\n",
      "Fast\n",
      "The Way Life Goes (feat. Oh Wonder)\n",
      "Noticed\n",
      "Thousand Miles\n",
      "RAPSTAR\n",
      "Cutlass (ft. ScHoolboy Q)\n",
      "Doom\n",
      "Already Dead\n",
      "Nikes On\n",
      "life got crazy\n",
      "west side boys\n",
      "HOLY TRINITY (feat. Rich The Kid)\n",
      "Tommy Lee (feat. Post Malone)\n",
      "The Way Life Goes (feat. Nicki Minaj & Oh Wonder) - Remix\n",
      "\n",
      "Category 6\n",
      "-----\n",
      "MoshPit (feat. Juice WRLD)\n",
      "Yacht Club (feat. Juice WRLD)\n",
      "Paranoid\n",
      "In My Room\n",
      "In My Head\n",
      "be cautious\n",
      "Crew Love\n",
      "You Wouldn't Understand\n",
      "Wedding Day\n",
      "High Right Now (feat. Wiz Khalifa) - Remix\n",
      "Rich And Blind\n",
      "A Thousand Bad Times\n",
      "GOTTI\n",
      "Taking Over\n",
      "Distraction\n",
      "Stop Breathing\n",
      "So Sad\n",
      "Live Your Life\n",
      "Wolves (feat. Post Malone)\n",
      "\n",
      "Category 3\n",
      "-----\n",
      "Memphis\n",
      "Goldmine\n",
      "Webbie (feat. Duke)\n",
      "DENY (feat. Tyla Yaweh)\n",
      "Moonwalk\n",
      "Internet\n",
      "Stay High\n",
      "DnF (feat. Drake & Future)\n",
      "Voices\n",
      "\n",
      "Category 5\n",
      "-----\n",
      "Erase Your Social\n",
      "Yungen (feat. Jack Harlow)\n",
      "ON GOD (feat. Young Thug)\n",
      "Silent Hill\n",
      "Litty (feat. DaBaby)\n",
      "Antisocial (feat. Juice WRLD)\n",
      "Life's A Mess (feat. Halsey)\n",
      "Love You More (with Nate Ruess, Gunna & Jeff Bhasker)\n",
      "Ring Ring (feat. Vory)\n",
      "Out Of Love (feat. Internet Money)\n",
      "Lies (feat. Lil Skies)\n",
      "DOLLAZ ON MY HEAD (feat. Young Thug)\n",
      "Whatcha Say\n",
      "No Remedy\n",
      "\n",
      "Category 4\n",
      "-----\n",
      "Creepin' (with The Weeknd & 21 Savage)\n",
      "The Best Part of Life\n",
      "16\n",
      "commas\n",
      "Waves\n",
      "Denial\n",
      "Pretty Girls\n",
      "Think About It\n",
      "Understand Me\n",
      "Beware\n",
      "Just A Dream\n",
      "Crash\n",
      "\n",
      "Category 8\n",
      "-----\n",
      "Big Lie\n",
      "Switch\n",
      "HIT EM WHERE IT HURTS\n",
      "Key To My Heart\n",
      "\n",
      "Category 7\n",
      "-----\n",
      "Violent Crimes\n",
      "All The Time (feat. Lil Wayne & Natasha Mosley)\n",
      "No Love Song\n",
      "Hurt\n",
      "\n"
     ]
    }
   ],
   "source": [
    "predictions = {}\n",
    "for p,n in zip(kmeans.predict(X),labels):\n",
    "    if not predictions.get(p):\n",
    "        predictions[p] = []\n",
    "        \n",
    "    predictions[p] += [n]\n",
    "\n",
    "for p in predictions:\n",
    "    print(\"Category\",p)\n",
    "    print(\"-----\")\n",
    "    for n in predictions[p]:\n",
    "        print(n)\n",
    "    print(\"\")"
   ]
  },
  {
   "cell_type": "markdown",
   "id": "403c37d1",
   "metadata": {},
   "source": [
    "------------------------------\n",
    "\n",
    "### K Means Clustering\n",
    "\n",
    "\n",
    "Using K Means clustering, I will be choosing to [break my playlist into 3 smaller playlists](https://github.com/ankushbharadwaj/reorganize-my-spotify-playlist/blob/master/reorder%20my%20spotify%20playlist.ipynb).\n",
    "\n"
   ]
  },
  {
   "cell_type": "code",
   "execution_count": 397,
   "id": "13685291",
   "metadata": {},
   "outputs": [
    {
     "data": {
      "text/plain": [
       "KMeans(algorithm='auto', copy_x=True, init='k-means++', max_iter=300,\n",
       "       n_clusters=3, n_init=10, random_state=None, tol=0.0001, verbose=0)"
      ]
     },
     "execution_count": 397,
     "metadata": {},
     "output_type": "execute_result"
    }
   ],
   "source": [
    "from sklearn.cluster import KMeans\n",
    "import seaborn as sns\n",
    "%matplotlib inline\n",
    "playlist_tracks = df[['artist','name','acousticness','danceability','energy',\n",
    "                      'liveness', 'instrumentalness','speechiness','valence']]\n",
    "\n",
    "kmeans = KMeans(n_clusters = 3)\n",
    "kmeans.fit(playlist_tracks.drop(['artist', 'name'], axis = 1))"
   ]
  },
  {
   "cell_type": "code",
   "execution_count": 398,
   "id": "a14f6a48",
   "metadata": {},
   "outputs": [
    {
     "data": {
      "text/plain": [
       "<AxesSubplot:ylabel='count'>"
      ]
     },
     "execution_count": 398,
     "metadata": {},
     "output_type": "execute_result"
    },
    {
     "data": {
      "image/png": "[encoded data removed]",
      "text/plain": [
       "<Figure size 432x288 with 1 Axes>"
      ]
     },
     "metadata": {
      "needs_background": "light"
     },
     "output_type": "display_data"
    }
   ],
   "source": [
    "sns.countplot([str(group) for group in kmeans.labels_], color = 'lightblue')"
   ]
  },
  {
   "cell_type": "markdown",
   "id": "db9253fc",
   "metadata": {},
   "source": [
    "#### Visualizing the Clusters\n",
    "\n",
    "\n",
    "Moving forward, let's look at differences in the audio features of each group.\n",
    "\n"
   ]
  },
  {
   "cell_type": "code",
   "execution_count": 399,
   "id": "8e0ad169",
   "metadata": {},
   "outputs": [],
   "source": [
    "from sklearn.preprocessing import StandardScaler\n",
    "scaler = StandardScaler()\n",
    "scaler.fit(playlist_tracks.drop(['artist', 'name'], axis = 1))\n",
    "scaled_data = scaler.transform(playlist_tracks.drop(['artist', 'name'], axis = 1))"
   ]
  },
  {
   "cell_type": "code",
   "execution_count": 385,
   "id": "45bba8b5",
   "metadata": {},
   "outputs": [
    {
     "data": {
      "text/plain": [
       "Text(0, 0.5, 'PC2: 0.194')"
      ]
     },
     "execution_count": 385,
     "metadata": {},
     "output_type": "execute_result"
    },
    {
     "data": {
      "image/png": "[encoded data removed]",
      "text/plain": [
       "<Figure size 432x288 with 1 Axes>"
      ]
     },
     "metadata": {
      "needs_background": "light"
     },
     "output_type": "display_data"
    }
   ],
   "source": [
    "from sklearn.decomposition import PCA\n",
    "pca = PCA(n_components =2)\n",
    "pca.fit(scaled_data)\n",
    "data_pca = pca.transform(scaled_data)\n",
    "\n",
    "plt.scatter(data_pca[:,0], data_pca[:,1], c = list(kmeans.labels_), cmap = 'Paired')\n",
    "plt.xlabel('PC1: {:.3f}'.format(pca.explained_variance_ratio_[0]), size = 15)\n",
    "plt.ylabel('PC2: {:.3f}'.format(pca.explained_variance_ratio_[1]), size = 15)"
   ]
  },
  {
   "cell_type": "code",
   "execution_count": 386,
   "id": "f31c35c4",
   "metadata": {},
   "outputs": [],
   "source": [
    "playlist_tracks['group'] = list(kmeans.labels_)\n",
    "playlist_tracks = playlist_tracks.astype({'group': str})"
   ]
  },
  {
   "cell_type": "code",
   "execution_count": 387,
   "id": "7fdb3f85",
   "metadata": {},
   "outputs": [
    {
     "data": {
      "text/html": [
       "<div>\n",
       "<style scoped>\n",
       "    .dataframe tbody tr th:only-of-type {\n",
       "        vertical-align: middle;\n",
       "    }\n",
       "\n",
       "    .dataframe tbody tr th {\n",
       "        vertical-align: top;\n",
       "    }\n",
       "\n",
       "    .dataframe thead th {\n",
       "        text-align: right;\n",
       "    }\n",
       "</style>\n",
       "<table border=\"1\" class=\"dataframe\">\n",
       "  <thead>\n",
       "    <tr style=\"text-align: right;\">\n",
       "      <th></th>\n",
       "      <th>acousticness</th>\n",
       "      <th>danceability</th>\n",
       "      <th>energy</th>\n",
       "      <th>liveness</th>\n",
       "      <th>instrumentalness</th>\n",
       "      <th>speechiness</th>\n",
       "      <th>valence</th>\n",
       "    </tr>\n",
       "  </thead>\n",
       "  <tbody>\n",
       "    <tr>\n",
       "      <th>0</th>\n",
       "      <td>0.539687</td>\n",
       "      <td>0.737625</td>\n",
       "      <td>0.537219</td>\n",
       "      <td>0.151313</td>\n",
       "      <td>0.022516</td>\n",
       "      <td>0.158881</td>\n",
       "      <td>0.457741</td>\n",
       "    </tr>\n",
       "    <tr>\n",
       "      <th>1</th>\n",
       "      <td>0.141199</td>\n",
       "      <td>0.640227</td>\n",
       "      <td>0.581545</td>\n",
       "      <td>0.165268</td>\n",
       "      <td>0.000242</td>\n",
       "      <td>0.136611</td>\n",
       "      <td>0.230323</td>\n",
       "    </tr>\n",
       "    <tr>\n",
       "      <th>2</th>\n",
       "      <td>0.119303</td>\n",
       "      <td>0.6751</td>\n",
       "      <td>0.6478</td>\n",
       "      <td>0.157257</td>\n",
       "      <td>0.000247</td>\n",
       "      <td>0.153993</td>\n",
       "      <td>0.582033</td>\n",
       "    </tr>\n",
       "  </tbody>\n",
       "</table>\n",
       "</div>"
      ],
      "text/plain": [
       "  acousticness danceability    energy  liveness instrumentalness speechiness  \\\n",
       "0     0.539687     0.737625  0.537219  0.151313         0.022516    0.158881   \n",
       "1     0.141199     0.640227  0.581545  0.165268         0.000242    0.136611   \n",
       "2     0.119303       0.6751    0.6478  0.157257         0.000247    0.153993   \n",
       "\n",
       "    valence  \n",
       "0  0.457741  \n",
       "1  0.230323  \n",
       "2  0.582033  "
      ]
     },
     "execution_count": 387,
     "metadata": {},
     "output_type": "execute_result"
    }
   ],
   "source": [
    "means = pd.DataFrame(index = range(0,3), \n",
    "                    columns = list(playlist_tracks[playlist_tracks['group'] == '0'].describe().loc['mean'].index))\n",
    "means.iloc[0] = playlist_tracks[playlist_tracks['group'] == '0'].describe().loc['mean']\n",
    "means.iloc[1] = playlist_tracks[playlist_tracks['group'] == '1'].describe().loc['mean']\n",
    "means.iloc[2] = playlist_tracks[playlist_tracks['group'] == '2'].describe().loc['mean']\n",
    "means"
   ]
  },
  {
   "cell_type": "code",
   "execution_count": 388,
   "id": "fccbc600",
   "metadata": {},
   "outputs": [
    {
     "data": {
      "text/html": [
       "<div>\n",
       "<style scoped>\n",
       "    .dataframe tbody tr th:only-of-type {\n",
       "        vertical-align: middle;\n",
       "    }\n",
       "\n",
       "    .dataframe tbody tr th {\n",
       "        vertical-align: top;\n",
       "    }\n",
       "\n",
       "    .dataframe thead th {\n",
       "        text-align: right;\n",
       "    }\n",
       "</style>\n",
       "<table border=\"1\" class=\"dataframe\">\n",
       "  <thead>\n",
       "    <tr style=\"text-align: right;\">\n",
       "      <th></th>\n",
       "      <th>artist</th>\n",
       "      <th>name</th>\n",
       "      <th>acousticness</th>\n",
       "      <th>danceability</th>\n",
       "      <th>energy</th>\n",
       "      <th>liveness</th>\n",
       "      <th>instrumentalness</th>\n",
       "      <th>speechiness</th>\n",
       "      <th>valence</th>\n",
       "      <th>group</th>\n",
       "    </tr>\n",
       "  </thead>\n",
       "  <tbody>\n",
       "    <tr>\n",
       "      <th>0</th>\n",
       "      <td>SwaVay</td>\n",
       "      <td>2 AM</td>\n",
       "      <td>0.434</td>\n",
       "      <td>0.783</td>\n",
       "      <td>0.341</td>\n",
       "      <td>0.362</td>\n",
       "      <td>0.000098</td>\n",
       "      <td>0.0727</td>\n",
       "      <td>0.184</td>\n",
       "      <td>0</td>\n",
       "    </tr>\n",
       "    <tr>\n",
       "      <th>32</th>\n",
       "      <td>Mac Miller</td>\n",
       "      <td>Weekend (feat. Miguel)</td>\n",
       "      <td>0.470</td>\n",
       "      <td>0.843</td>\n",
       "      <td>0.435</td>\n",
       "      <td>0.147</td>\n",
       "      <td>0.000000</td>\n",
       "      <td>0.1780</td>\n",
       "      <td>0.190</td>\n",
       "      <td>0</td>\n",
       "    </tr>\n",
       "    <tr>\n",
       "      <th>35</th>\n",
       "      <td>Migos</td>\n",
       "      <td>Antisocial (feat. Juice WRLD)</td>\n",
       "      <td>0.784</td>\n",
       "      <td>0.667</td>\n",
       "      <td>0.390</td>\n",
       "      <td>0.121</td>\n",
       "      <td>0.000000</td>\n",
       "      <td>0.0491</td>\n",
       "      <td>0.528</td>\n",
       "      <td>0</td>\n",
       "    </tr>\n",
       "    <tr>\n",
       "      <th>36</th>\n",
       "      <td>Post Malone</td>\n",
       "      <td>Internet</td>\n",
       "      <td>0.841</td>\n",
       "      <td>0.469</td>\n",
       "      <td>0.489</td>\n",
       "      <td>0.103</td>\n",
       "      <td>0.000000</td>\n",
       "      <td>0.0314</td>\n",
       "      <td>0.201</td>\n",
       "      <td>0</td>\n",
       "    </tr>\n",
       "    <tr>\n",
       "      <th>45</th>\n",
       "      <td>YoungBoy Never Broke Again</td>\n",
       "      <td>Home Ain't Home (feat. Rod Wave)</td>\n",
       "      <td>0.424</td>\n",
       "      <td>0.773</td>\n",
       "      <td>0.602</td>\n",
       "      <td>0.125</td>\n",
       "      <td>0.000000</td>\n",
       "      <td>0.1730</td>\n",
       "      <td>0.553</td>\n",
       "      <td>0</td>\n",
       "    </tr>\n",
       "  </tbody>\n",
       "</table>\n",
       "</div>"
      ],
      "text/plain": [
       "                        artist                              name  \\\n",
       "0                       SwaVay                              2 AM   \n",
       "32                  Mac Miller            Weekend (feat. Miguel)   \n",
       "35                       Migos     Antisocial (feat. Juice WRLD)   \n",
       "36                 Post Malone                          Internet   \n",
       "45  YoungBoy Never Broke Again  Home Ain't Home (feat. Rod Wave)   \n",
       "\n",
       "    acousticness  danceability  energy  liveness  instrumentalness  \\\n",
       "0          0.434         0.783   0.341     0.362          0.000098   \n",
       "32         0.470         0.843   0.435     0.147          0.000000   \n",
       "35         0.784         0.667   0.390     0.121          0.000000   \n",
       "36         0.841         0.469   0.489     0.103          0.000000   \n",
       "45         0.424         0.773   0.602     0.125          0.000000   \n",
       "\n",
       "    speechiness  valence group  \n",
       "0        0.0727    0.184     0  \n",
       "32       0.1780    0.190     0  \n",
       "35       0.0491    0.528     0  \n",
       "36       0.0314    0.201     0  \n",
       "45       0.1730    0.553     0  "
      ]
     },
     "execution_count": 388,
     "metadata": {},
     "output_type": "execute_result"
    }
   ],
   "source": [
    "playlist_tracks = playlist_tracks.sort_values(by = ['group'])\n",
    "playlist_tracks.head()"
   ]
  },
  {
   "cell_type": "code",
   "execution_count": null,
   "id": "d38863f0",
   "metadata": {},
   "outputs": [],
   "source": []
  }
 ],
 "metadata": {
  "kernelspec": {
   "display_name": "Python 3 (ipykernel)",
   "language": "python",
   "name": "python3"
  },
  "language_info": {
   "codemirror_mode": {
    "name": "ipython",
    "version": 3
   },
   "file_extension": ".py",
   "mimetype": "text/x-python",
   "name": "python",
   "nbconvert_exporter": "python",
   "pygments_lexer": "ipython3",
   "version": "3.9.12"
  }
 },
 "nbformat": 4,
 "nbformat_minor": 5
}
