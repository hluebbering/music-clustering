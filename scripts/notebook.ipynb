{
 "cells": [
  {
   "cell_type": "markdown",
   "id": "845fab69",
   "metadata": {},
   "source": [
    "\n",
    "<span class = \"myhighlight\">Objective.</span> Using Python, the project goal is to implement a k-means clustering algorithm, a technique often used in machine learning, and use it for data analysis. We write various functions making use of lists, sets, dictionaries, sorting, and graph data structures for computational problem solving and analysis.\n"
   ]
  },
  {
   "cell_type": "code",
   "execution_count": 1,
   "id": "234fecd3",
   "metadata": {},
   "outputs": [],
   "source": [
    "import csv\n",
    "import time\n",
    "import pandas as pd\n",
    "import numpy as np\n",
    "import matplotlib.pyplot as plt\n",
    "import spotipy\n",
    "from spotipy.oauth2 import SpotifyClientCredentials\n",
    "from operator import index"
   ]
  },
  {
   "cell_type": "markdown",
   "id": "14cef57f",
   "metadata": {},
   "source": [
    "First, we create a Client Credentials Flow Manager used in server-to-server authentication by passing the necessary parameters to the [Spotify OAuth](https://github.com/spotipy-dev/spotipy/blob/master/spotipy/oauth2.py#L261) class. We provide a client id and client secret to the constructor of this authorization flow, which does not require user interaction.\n",
    "    "
   ]
  },
  {
   "cell_type": "code",
   "execution_count": 2,
   "id": "f67abbf8",
   "metadata": {},
   "outputs": [],
   "source": [
    "# Set client id and client secret\n",
    "client_id = '4cf3afdca2d74dc48af9999b1b7c9c61'\n",
    "client_secret = 'f6ca08ad37bb41a0afab5ca1dc74b208'\n",
    "\n",
    "# Spotify authentication\n",
    "client_credentials_manager = SpotifyClientCredentials(client_id, client_secret)\n",
    "sp = spotipy.Spotify(client_credentials_manager = client_credentials_manager)"
   ]
  },
  {
   "cell_type": "markdown",
   "id": "7432996a",
   "metadata": {},
   "source": [
    "Now, we want to get the full details of the tracks of a playlist based on a playlist ID, URI, or URL. The following function takes a playlist and gets information from each individual song.\n"
   ]
  },
  {
   "cell_type": "code",
   "execution_count": 3,
   "id": "48a56113",
   "metadata": {},
   "outputs": [],
   "source": [
    "# Get playlist song features and artist info\n",
    "def playlistTracks(id, artist_ids):\n",
    "    meta = sp.track(id)\n",
    "    features = sp.audio_features(id)\n",
    "    artist_info = sp.artist(artist_ids)\n",
    "\n",
    "    # Metadata\n",
    "    name = meta['name']\n",
    "    album = meta['album']['name']\n",
    "    artist = meta['album']['artists'][0]['name']\n",
    "    release_date = meta['album']['release_date']\n",
    "    length = meta['duration_ms']\n",
    "    popularity = meta['popularity']\n",
    "\n",
    "    # Main artist name, popularity, genre\n",
    "    artist_pop = artist_info[\"popularity\"]\n",
    "    artist_genres = artist_info[\"genres\"]\n",
    "\n",
    "    # Track features\n",
    "    acousticness = features[0]['acousticness']\n",
    "    danceability = features[0]['danceability']\n",
    "    energy = features[0]['energy']\n",
    "    instrumentalness = features[0]['instrumentalness']\n",
    "    liveness = features[0]['liveness']\n",
    "    loudness = features[0]['loudness']\n",
    "    speechiness = features[0]['speechiness']\n",
    "    tempo = features[0]['tempo']\n",
    "    valence = features[0]['valence']\n",
    "    key = features[0]['key']\n",
    "    mode = features[0]['mode']\n",
    "    time_signature = features[0]['time_signature']\n",
    "\n",
    "    return [name, album, artist, release_date, length, popularity, \n",
    "            artist_pop, artist_genres, acousticness, danceability, \n",
    "            energy, instrumentalness, liveness, loudness, speechiness, \n",
    "            tempo, valence, key, mode, time_signature]"
   ]
  },
  {
   "cell_type": "markdown",
   "id": "837fd772",
   "metadata": {},
   "source": [
    "Choose a specific playlist to analyze by copying the URL from the Spotify Player interface. Using that link, the following code uses the playlist_tracks method to retrieve a list of IDs and corresponding artists for each track from the playlist. \n",
    "\n"
   ]
  },
  {
   "cell_type": "code",
   "execution_count": 107,
   "id": "cdf0a0e7",
   "metadata": {},
   "outputs": [],
   "source": [
    "# Spotify playlist url\n",
    "playlist_link = \"https://open.spotify.com/playlist/4lSykOrQfnAiCgtHKVudTT\"\n",
    "playlist_link = \"https://open.spotify.com/playlist/45wMUm1iuvHyPyzN9Lm9oL?si=f335973792784554\"\n",
    "playlist_link = \"https://open.spotify.com/playlist/7JJd5q4ZPK0P1Q4atTcpkR?si=4feffccdf23846a7\"\n",
    "playlist_URI = playlist_link.split(\"/\")[-1].split(\"?\")[0]\n",
    "\n",
    "# Extract song ids and artists from playlist\n",
    "track_ids = [x1[\"track\"][\"id\"]\n",
    "             for x1 in sp.playlist_tracks(playlist_URI)[\"items\"]]\n",
    "artist_uris = [x2[\"track\"][\"artists\"][0][\"uri\"]\n",
    "               for x2 in sp.playlist_tracks(playlist_URI)[\"items\"]]"
   ]
  },
  {
   "cell_type": "markdown",
   "id": "123bdc5d",
   "metadata": {},
   "source": [
    "The following code loops through each track ID in the playlist and extracts additional song information by calling the function we created above. From there, we can create a pandas data frame by passing in the extracted information and giving the column header names we want. "
   ]
  },
  {
   "cell_type": "code",
   "execution_count": 108,
   "id": "3bbd0e65",
   "metadata": {},
   "outputs": [],
   "source": [
    "# Loop over track ids\n",
    "tracks = []\n",
    "for i in range(len(track_ids)):\n",
    "    time.sleep(.5)\n",
    "    track = playlistTracks(track_ids[i], artist_uris[i])\n",
    "    tracks.append(track)"
   ]
  },
  {
   "cell_type": "code",
   "execution_count": 109,
   "id": "e2c50e01",
   "metadata": {},
   "outputs": [],
   "source": [
    "# Create dataframe\n",
    "df = pd.DataFrame(\n",
    "    tracks, columns=['name', 'album', 'artist', 'release_date',\n",
    "                     'length', 'popularity', 'artist_pop', 'artist_genres',\n",
    "                     'acousticness', 'danceability', 'energy',\n",
    "                     'instrumentalness', 'liveness', 'loudness',\n",
    "                     'speechiness', 'tempo', 'valence', 'key', 'mode',\n",
    "                     'time_signature'])\n",
    "\n",
    "# Save to csv file\n",
    "df.to_csv(\"spotify.csv\", sep=',')"
   ]
  },
  {
   "cell_type": "markdown",
   "id": "d36e92ed",
   "metadata": {},
   "source": [
    "------------------------------------------------------"
   ]
  },
  {
   "cell_type": "markdown",
   "id": "0284e0e0",
   "metadata": {},
   "source": [
    "### The Data"
   ]
  },
  {
   "cell_type": "code",
   "execution_count": 65,
   "id": "ab6c790f",
   "metadata": {},
   "outputs": [
    {
     "data": {
      "text/html": [
       "<div>\n",
       "<style scoped>\n",
       "    .dataframe tbody tr th:only-of-type {\n",
       "        vertical-align: middle;\n",
       "    }\n",
       "\n",
       "    .dataframe tbody tr th {\n",
       "        vertical-align: top;\n",
       "    }\n",
       "\n",
       "    .dataframe thead th {\n",
       "        text-align: right;\n",
       "    }\n",
       "</style>\n",
       "<table border=\"1\" class=\"dataframe\">\n",
       "  <thead>\n",
       "    <tr style=\"text-align: right;\">\n",
       "      <th></th>\n",
       "      <th>name</th>\n",
       "      <th>album</th>\n",
       "      <th>artist</th>\n",
       "      <th>release_date</th>\n",
       "      <th>length</th>\n",
       "      <th>popularity</th>\n",
       "      <th>artist_pop</th>\n",
       "      <th>artist_genres</th>\n",
       "      <th>acousticness</th>\n",
       "      <th>danceability</th>\n",
       "      <th>energy</th>\n",
       "      <th>instrumentalness</th>\n",
       "      <th>liveness</th>\n",
       "      <th>loudness</th>\n",
       "      <th>speechiness</th>\n",
       "      <th>tempo</th>\n",
       "      <th>valence</th>\n",
       "      <th>key</th>\n",
       "      <th>mode</th>\n",
       "      <th>time_signature</th>\n",
       "    </tr>\n",
       "  </thead>\n",
       "  <tbody>\n",
       "    <tr>\n",
       "      <th>0</th>\n",
       "      <td>Sweet Dream</td>\n",
       "      <td>Sweet Dream</td>\n",
       "      <td>Alessia Cara</td>\n",
       "      <td>2021-07-15</td>\n",
       "      <td>181881</td>\n",
       "      <td>49</td>\n",
       "      <td>76</td>\n",
       "      <td>[canadian contemporary r&amp;b, canadian pop, danc...</td>\n",
       "      <td>0.2520</td>\n",
       "      <td>0.760</td>\n",
       "      <td>0.532</td>\n",
       "      <td>0.0</td>\n",
       "      <td>0.252</td>\n",
       "      <td>-9.177</td>\n",
       "      <td>0.1270</td>\n",
       "      <td>123.064</td>\n",
       "      <td>0.500</td>\n",
       "      <td>0</td>\n",
       "      <td>1</td>\n",
       "      <td>4</td>\n",
       "    </tr>\n",
       "    <tr>\n",
       "      <th>1</th>\n",
       "      <td>Worry No More</td>\n",
       "      <td>California</td>\n",
       "      <td>Diplo</td>\n",
       "      <td>2018-03-23</td>\n",
       "      <td>202563</td>\n",
       "      <td>46</td>\n",
       "      <td>79</td>\n",
       "      <td>[edm, electro house, house, moombahton, ninja,...</td>\n",
       "      <td>0.0185</td>\n",
       "      <td>0.592</td>\n",
       "      <td>0.731</td>\n",
       "      <td>0.0</td>\n",
       "      <td>0.726</td>\n",
       "      <td>-5.794</td>\n",
       "      <td>0.0404</td>\n",
       "      <td>166.028</td>\n",
       "      <td>0.392</td>\n",
       "      <td>7</td>\n",
       "      <td>0</td>\n",
       "      <td>4</td>\n",
       "    </tr>\n",
       "  </tbody>\n",
       "</table>\n",
       "</div>"
      ],
      "text/plain": [
       "            name        album        artist release_date  length  popularity  \\\n",
       "0    Sweet Dream  Sweet Dream  Alessia Cara   2021-07-15  181881          49   \n",
       "1  Worry No More   California         Diplo   2018-03-23  202563          46   \n",
       "\n",
       "   artist_pop                                      artist_genres  \\\n",
       "0          76  [canadian contemporary r&b, canadian pop, danc...   \n",
       "1          79  [edm, electro house, house, moombahton, ninja,...   \n",
       "\n",
       "   acousticness  danceability  energy  instrumentalness  liveness  loudness  \\\n",
       "0        0.2520         0.760   0.532               0.0     0.252    -9.177   \n",
       "1        0.0185         0.592   0.731               0.0     0.726    -5.794   \n",
       "\n",
       "   speechiness    tempo  valence  key  mode  time_signature  \n",
       "0       0.1270  123.064    0.500    0     1               4  \n",
       "1       0.0404  166.028    0.392    7     0               4  "
      ]
     },
     "execution_count": 65,
     "metadata": {},
     "output_type": "execute_result"
    }
   ],
   "source": [
    "# df = pd.read_csv('playlists.csv', encoding_errors='ignore', index_col=0, header=0)\n",
    "# df_copy = df.copy(deep = True)\n",
    "# df_copy = df_copy.drop(df2[df2.playlist_name != 'but my feet in bottega'].index)\n",
    "df.head(2)"
   ]
  },
  {
   "cell_type": "markdown",
   "id": "c88e882b",
   "metadata": {},
   "source": [
    "\n",
    "\n",
    "\n",
    "\n",
    "[**Metadata.**](https://developer.spotify.com/documentation/web-api/reference/#/operations/get-track)\n",
    "- `name`: The name of the track.\n",
    "- `album`: The name of the album on which the track appears.\n",
    "- `artist`: The name of the artist who performed the track.\n",
    "- `release_date`: The date the album was first released.\n",
    "- `length`: The track length in milliseconds.\n",
    "- `popularity`: The popularity of the track. Values are between 0 and 100. The popularity is calculated by an algorithm based on the total number of plays the track has had and how recent those plays are.\n",
    "\n",
    "\n",
    "[**Artists.**](https://developer.spotify.com/documentation/web-api/reference/#/operations/get-an-artist)\n",
    "- `artist_pop`: The popularity of the artist. The value will be between 0 and 100, with 100 being the most popular. The artist's popularity is calculated from the popularity of all the artist's tracks.\n",
    "- `artist_genres`: A list of the genres the artist is associated with.\n",
    "\n",
    "\n",
    "[**Audio Features.** ](https://developer.spotify.com/documentation/web-api/reference/#/operations/get-several-audio-features)\n",
    "- `acousticness`: A confidence measure from 0.0 to 1.0 of whether the track is acoustic.\n",
    "- `danceability`: Describes how suitable a track is for dancing based on a combination of musical elements including tempo, rhythm, beat strength, and regularity.\n",
    "- `energy`: A measure from 0.0 to 1.0 that represents a perceptual measure of intensity and activity.\n",
    "- `instrumentalness`: Predicts whether a track contains no vocals. The closer the value is to 1.0, the more likely the track contains no vocal content.\n",
    "- `liveness`: Detects the presence of an audience in the recording. Higher values represent an increased probability that the track was performed live.\n",
    "- `loudness`: The overall loudness of a track in decibels (dB). Values are averaged across entire track, ranging between -60 and 0 db.\n",
    "- `speechiness`: Detects the presence of spoken words in a track. The more speech-like the recording, the closer to 1.0.\n",
    "- `tempo`: The overall estimated speed or pace of a track in beats per minute (BPM).\n",
    "- `valence`: A measure from 0.0 to 1.0 describing the musical positiveness conveyed by a track. High valence sound more positive (e.g. happy, cheerful, euphoric).\n",
    "- `key`: The key the track is in. If no key was detected, the value is -1.\n",
    "- `mode`: The modality (major or minor) of a track. Major is represented by 1 and minor is 0.\n",
    "- `time_signature`: An estimated time signature (how many beats are in each measure), ranging from 3 to 7 indicating time signatures of \"3/4\", to \"7/4\".\n",
    "\n"
   ]
  },
  {
   "cell_type": "markdown",
   "id": "2597faed",
   "metadata": {},
   "source": [
    "How many songs do we have?"
   ]
  },
  {
   "cell_type": "code",
   "execution_count": 66,
   "id": "f991c0c5",
   "metadata": {},
   "outputs": [
    {
     "name": "stdout",
     "output_type": "stream",
     "text": [
      "Number of songs: 100\n",
      "Number of attributes per song: 20\n"
     ]
    }
   ],
   "source": [
    "# Number of rows and columns\n",
    "rows, cols = df.shape\n",
    "print(f'Number of songs: {rows}')\n",
    "print(f'Number of attributes per song: {cols}')"
   ]
  },
  {
   "cell_type": "code",
   "execution_count": 67,
   "id": "d48f3ca1",
   "metadata": {},
   "outputs": [
    {
     "name": "stdout",
     "output_type": "stream",
     "text": [
      "name: filous - Already Gone (feat. Emily Warren)\n"
     ]
    }
   ],
   "source": [
    "# Get a song string search\n",
    "def getMusicName(elem):\n",
    "    return f\"{elem['artist']} - {elem['name']}\"\n",
    "\n",
    "# Select song and get track info\n",
    "anySong = df.loc[15]\n",
    "anySongName = getMusicName(anySong)\n",
    "print('name:', anySongName)"
   ]
  },
  {
   "cell_type": "markdown",
   "id": "c596eeb8",
   "metadata": {},
   "source": [
    "-----------------------"
   ]
  },
  {
   "cell_type": "markdown",
   "id": "357d6555",
   "metadata": {},
   "source": [
    "### Spotify Songs - Similarity Search\n",
    "\n",
    "\n",
    "\n",
    "\n",
    "Below, we create a query to retrieve similar elements based on Euclidean distance. In mathematics, the Euclidean distance between two points is the length of the line segment between the two points. In this sense, the closer the distance is to 0, the more similar the songs are.\n",
    "\n",
    "\n",
    "\n",
    "#### [KNN Algorithm](https://www.kaggle.com/code/leomauro/spotify-songs-similarity-search/notebook)\n",
    "\n",
    "\n",
    "The k-Nearest Neighbors (KNN) algorithm searches for k similar elements based on a query point at the center within a predefined radius. \n",
    "\n"
   ]
  },
  {
   "cell_type": "code",
   "execution_count": 68,
   "id": "b074dab3",
   "metadata": {},
   "outputs": [],
   "source": [
    "# K-query\n",
    "def knnQuery(queryPoint, arrCharactPoints, k):\n",
    "\n",
    "    # Copy of dataframe indices and data\n",
    "    tmp = arrCharactPoints.copy(deep = True)\n",
    "    query_vals = queryPoint.tolist()\n",
    "    dist_vals = []\n",
    "\n",
    "    # Iterate through each row and select\n",
    "    for index, row in tmp.iterrows():\n",
    "        feature_vals = row.values.tolist()\n",
    "        sum_diff_sqr = sum(\n",
    "            abs(feature_vals[i] - query_vals[i]) ** 2 for i in range(len(query_vals)))\n",
    "        \n",
    "        euc_dist = sum_diff_sqr ** 0.5\n",
    "        dist_vals.append(euc_dist)\n",
    "\n",
    "    tmp['distance'] = dist_vals\n",
    "    tmp = tmp.sort_values('distance')\n",
    "\n",
    "    return tmp.head(k).index, tmp.tail(k).index"
   ]
  },
  {
   "cell_type": "code",
   "execution_count": 69,
   "id": "9138dc2e",
   "metadata": {},
   "outputs": [],
   "source": [
    "# Execute KNN removing the query point\n",
    "def querySimilars(df, columns, idx, func, param):\n",
    "    arr = df[columns].copy(deep = True)\n",
    "    queryPoint = arr.loc[idx]\n",
    "    arr = arr.drop([idx])\n",
    "    return func(queryPoint, arr, param)"
   ]
  },
  {
   "cell_type": "markdown",
   "id": "84ec9039",
   "metadata": {},
   "source": [
    "**KNN Query Example.** \n",
    "\n",
    "Our function allows us to create personalized query points and modify the columns to explore other options. For example, the following code selects a specific set of song attributes, including danceability, energy, and valence. The function then searches for the $k$ most high values of these attributes such that danceability = 1, energy = 1, and valence = 1. \n",
    "\n",
    "Let's search for  $k=3$  similar songs to a query point songIndex = 5. \n"
   ]
  },
  {
   "cell_type": "code",
   "execution_count": 210,
   "id": "5dcaf6e7",
   "metadata": {},
   "outputs": [],
   "source": [
    "# Selecting song and attributes\n",
    "songIndex = 1 # query point, selected song\n",
    "columns = ['acousticness', 'danceability', 'energy', 'speechiness', 'valence','tempo']\n",
    "\n",
    "# Selecting query parameters\n",
    "func, param = knnQuery, 5\n",
    "\n",
    "# Querying\n",
    "response = querySimilars(df, columns, songIndex, func, param)"
   ]
  },
  {
   "cell_type": "code",
   "execution_count": 211,
   "id": "8539a5cf",
   "metadata": {},
   "outputs": [],
   "source": [
    "similar_songs = {}\n",
    "nonsimilar_songs = {}\n",
    "\n",
    "for song_index in df.index:\n",
    "    \n",
    "    # Select query point and get song name \n",
    "    query_song = df.loc[song_index]\n",
    "    query_song_name = getMusicName(query_song)\n",
    "\n",
    "    # Querying\n",
    "    response = querySimilars(df, columns, song_index, func, param)\n",
    "    similar_ids = response[0]\n",
    "    nonsimilar_ids = response[1]\n",
    "\n",
    "    for idx in similar_ids:\n",
    "        song_name = getMusicName(df.loc[idx])\n",
    "        if song_name in similar_songs:\n",
    "            similar_songs[song_name] += 1\n",
    "        else:\n",
    "            similar_songs[song_name] = 1\n",
    "\n",
    "    for idx in nonsimilar_ids:\n",
    "        song_name = getMusicName(df.loc[idx])\n",
    "        if song_name in nonsimilar_songs:\n",
    "            nonsimilar_songs[song_name] += 1\n",
    "        else:\n",
    "            nonsimilar_songs[song_name] = 1"
   ]
  },
  {
   "cell_type": "markdown",
   "id": "7074118e",
   "metadata": {},
   "source": [
    "NON SIMILAR SONG COUNT:"
   ]
  },
  {
   "cell_type": "code",
   "execution_count": 215,
   "id": "894fc666",
   "metadata": {},
   "outputs": [
    {
     "name": "stdout",
     "output_type": "stream",
     "text": [
      "NON SIMILAR SONG COUNT:\n",
      "Landon Cube - Eighties : 57\n",
      "K.Flay - Giver : 53\n",
      "Lana Del Rey - Radio : 53\n",
      "Big Gigantic - You’re The One : 51\n",
      "NITTI - All In (feat. Jimmy Levy) : 50\n",
      "Cautious Clay - Cold War : 50\n",
      "Post Malone - I Cannot Be (A Sadder Song) (with Gunna) : 49\n",
      "Julia Michaels - Jump (with Trippie Redd) : 47\n",
      "Arizona Zervas - HOLY TRINITY (feat. Rich The Kid) : 47\n",
      "Lxst - Talk To Me : 43\n"
     ]
    }
   ],
   "source": [
    "nonsimilar_songs = dict(\n",
    "    sorted(nonsimilar_songs.items(), key=lambda item: item[1], reverse=True))\n",
    "print('NON SIMILAR SONG COUNT:')\n",
    "for song, song_count in nonsimilar_songs.items():\n",
    "    if song_count >= 8:\n",
    "        print(song, ':', song_count)"
   ]
  },
  {
   "cell_type": "markdown",
   "id": "f110297c",
   "metadata": {},
   "source": [
    "SIMILAR SONG COUNT:"
   ]
  },
  {
   "cell_type": "code",
   "execution_count": 216,
   "id": "2e1674f3",
   "metadata": {},
   "outputs": [
    {
     "name": "stdout",
     "output_type": "stream",
     "text": [
      "SIMILAR SONG COUNT\n",
      "Felix Cartal - Stop Being Yourself : 9\n",
      "K.Flay - Good News : 9\n",
      "filous - Already Gone (feat. Emily Warren) : 8\n",
      "Juice WRLD - Rockstar In His Prime : 8\n",
      "Dan Talevski - If I Ain't Got You : 8\n",
      "24kGoldn - In My Head (feat. Travis Barker) : 8\n",
      "44phantom - freak : 8\n"
     ]
    }
   ],
   "source": [
    "similar_songs = dict(sorted(similar_songs.items(), key=lambda item: item[1], reverse=True))\n",
    "print('SIMILAR SONG COUNT')\n",
    "for song, song_count in similar_songs.items():\n",
    "    if song_count >= 8:\n",
    "        print(song, ':', song_count)"
   ]
  },
  {
   "cell_type": "markdown",
   "id": "fb8aa91a",
   "metadata": {},
   "source": [
    "-------------------------------------"
   ]
  },
  {
   "cell_type": "code",
   "execution_count": 126,
   "id": "5c3198df",
   "metadata": {},
   "outputs": [],
   "source": [
    "from sklearn.metrics.pairwise import cosine_similarity\n",
    "from sklearn.preprocessing import MinMaxScaler\n",
    "from sklearn.feature_extraction.text import TfidfVectorizer\n",
    "from textblob import TextBlob\n",
    "import re"
   ]
  },
  {
   "cell_type": "code",
   "execution_count": 127,
   "id": "43c40f4e",
   "metadata": {},
   "outputs": [],
   "source": [
    "#for i in df['artist_genres']:\n",
    "\n",
    "def ohe_prep(df, column, new_name): \n",
    "    ''' \n",
    "    Create One Hot Encoded features of a specific column\n",
    "    ---\n",
    "    Input: \n",
    "    df (pandas dataframe): Spotify Dataframe\n",
    "    column (str): Column to be processed\n",
    "    new_name (str): new column name to be used\n",
    "        \n",
    "    Output: \n",
    "    tf_df: One-hot encoded features \n",
    "    '''\n",
    "    \n",
    "    tf_df = pd.get_dummies(df[column])\n",
    "    feature_names = tf_df.columns\n",
    "    tf_df.columns = [new_name + \"|\" + str(i) for i in feature_names]\n",
    "    tf_df.reset_index(drop = True, inplace = True)    \n",
    "    return tf_df"
   ]
  },
  {
   "cell_type": "code",
   "execution_count": 136,
   "id": "61145e4e",
   "metadata": {},
   "outputs": [
    {
     "name": "stderr",
     "output_type": "stream",
     "text": [
      "C:\\ProgramData\\Anaconda3\\lib\\site-packages\\sklearn\\utils\\deprecation.py:87: FutureWarning: Function get_feature_names is deprecated; get_feature_names is deprecated in 1.0 and will be removed in 1.2. Please use get_feature_names_out instead.\n",
      "  warnings.warn(msg, category=FutureWarning)\n"
     ]
    },
    {
     "data": {
      "text/plain": [
       "genre|acoustic       0.0\n",
       "genre|alt            0.0\n",
       "genre|alternative    0.0\n",
       "genre|art            0.0\n",
       "genre|atl            0.0\n",
       "                    ... \n",
       "genre|uk             0.0\n",
       "genre|underground    0.0\n",
       "genre|vapor          0.0\n",
       "genre|viral          0.0\n",
       "genre|wave           0.0\n",
       "Name: 0, Length: 93, dtype: float64"
      ]
     },
     "execution_count": 136,
     "metadata": {},
     "output_type": "execute_result"
    }
   ],
   "source": [
    "# TF-IDF implementation\n",
    "tfidf = TfidfVectorizer()\n",
    "tfidf_matrix =  tfidf.fit_transform(df['artist_genres'].apply(lambda x: \" \".join(x)))\n",
    "genre_df = pd.DataFrame(tfidf_matrix.toarray())\n",
    "genre_df.columns = ['genre' + \"|\" + i for i in tfidf.get_feature_names()]\n",
    "#genre_df.drop(columns='genre|unknown') # Drop unknown genre\n",
    "genre_df.reset_index(drop = True, inplace=True)\n",
    "genre_df.iloc[0]"
   ]
  },
  {
   "cell_type": "code",
   "execution_count": 137,
   "id": "7437f4fa",
   "metadata": {},
   "outputs": [
    {
     "data": {
      "text/html": [
       "<div>\n",
       "<style scoped>\n",
       "    .dataframe tbody tr th:only-of-type {\n",
       "        vertical-align: middle;\n",
       "    }\n",
       "\n",
       "    .dataframe tbody tr th {\n",
       "        vertical-align: top;\n",
       "    }\n",
       "\n",
       "    .dataframe thead th {\n",
       "        text-align: right;\n",
       "    }\n",
       "</style>\n",
       "<table border=\"1\" class=\"dataframe\">\n",
       "  <thead>\n",
       "    <tr style=\"text-align: right;\">\n",
       "      <th></th>\n",
       "      <th>artist_pop</th>\n",
       "    </tr>\n",
       "  </thead>\n",
       "  <tbody>\n",
       "    <tr>\n",
       "      <th>0</th>\n",
       "      <td>0.758065</td>\n",
       "    </tr>\n",
       "    <tr>\n",
       "      <th>1</th>\n",
       "      <td>0.806452</td>\n",
       "    </tr>\n",
       "    <tr>\n",
       "      <th>2</th>\n",
       "      <td>0.080645</td>\n",
       "    </tr>\n",
       "    <tr>\n",
       "      <th>3</th>\n",
       "      <td>0.419355</td>\n",
       "    </tr>\n",
       "    <tr>\n",
       "      <th>4</th>\n",
       "      <td>0.806452</td>\n",
       "    </tr>\n",
       "  </tbody>\n",
       "</table>\n",
       "</div>"
      ],
      "text/plain": [
       "   artist_pop\n",
       "0    0.758065\n",
       "1    0.806452\n",
       "2    0.080645\n",
       "3    0.419355\n",
       "4    0.806452"
      ]
     },
     "execution_count": 137,
     "metadata": {},
     "output_type": "execute_result"
    }
   ],
   "source": [
    "# Normalization\n",
    "pop = df[[\"artist_pop\"]].reset_index(drop = True)\n",
    "scaler = MinMaxScaler()\n",
    "pop_scaled = pd.DataFrame(scaler.fit_transform(pop), columns = pop.columns)\n",
    "pop_scaled.head()"
   ]
  },
  {
   "cell_type": "markdown",
   "id": "2b698d3e",
   "metadata": {},
   "source": [
    "------------------------------------------"
   ]
  },
  {
   "cell_type": "markdown",
   "id": "ec065ef1",
   "metadata": {},
   "source": [
    "#### Neo4js Visuals"
   ]
  },
  {
   "cell_type": "code",
   "execution_count": 217,
   "id": "5c3e79c8",
   "metadata": {},
   "outputs": [],
   "source": [
    "# %%cmd\n",
    "# python example.py"
   ]
  },
  {
   "cell_type": "code",
   "execution_count": null,
   "id": "6ecca83e",
   "metadata": {},
   "outputs": [],
   "source": []
  }
 ],
 "metadata": {
  "kernelspec": {
   "display_name": "Python 3 (ipykernel)",
   "language": "python",
   "name": "python3"
  },
  "language_info": {
   "codemirror_mode": {
    "name": "ipython",
    "version": 3
   },
   "file_extension": ".py",
   "mimetype": "text/x-python",
   "name": "python",
   "nbconvert_exporter": "python",
   "pygments_lexer": "ipython3",
   "version": "3.9.12"
  }
 },
 "nbformat": 4,
 "nbformat_minor": 5
}
