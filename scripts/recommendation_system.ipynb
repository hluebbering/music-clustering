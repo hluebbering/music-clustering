{
 "cells": [
  {
   "cell_type": "markdown",
   "id": "3a3c5dca",
   "metadata": {},
   "source": [
    "##  Spotify Song Recommendation System\n",
    "\n",
    "We implement a content-based filtering approach for Spotify Song recommendation based on a [medium article](https://towardsdatascience.com/part-iii-building-a-song-recommendation-system-with-spotify-cf76b52705e7) for building a Spotify song recommendation system series."
   ]
  },
  {
   "cell_type": "code",
   "execution_count": 2,
   "id": "a1dfa603",
   "metadata": {},
   "outputs": [],
   "source": [
    "import csv\n",
    "import time\n",
    "import pandas as pd\n",
    "import numpy as np\n",
    "import matplotlib.pyplot as plt\n",
    "import spotipy\n",
    "from spotipy.oauth2 import SpotifyClientCredentials\n",
    "from operator import index\n",
    "from sklearn.metrics.pairwise import cosine_similarity\n",
    "from sklearn.preprocessing import MinMaxScaler\n",
    "from sklearn.feature_extraction.text import TfidfVectorizer\n",
    "from textblob import TextBlob\n",
    "import re"
   ]
  },
  {
   "cell_type": "code",
   "execution_count": 3,
   "id": "5e361012",
   "metadata": {},
   "outputs": [
    {
     "data": {
      "text/plain": [
       "New Music Friday      100\n",
       "New Pop Picks         100\n",
       "just hits             100\n",
       "Hip Hop Controller     99\n",
       "RapCaviar              51\n",
       "Today's Top Hits       50\n",
       "Hot Hits USA           50\n",
       "Name: playlist, dtype: int64"
      ]
     },
     "execution_count": 3,
     "metadata": {},
     "output_type": "execute_result"
    }
   ],
   "source": [
    "# playlist_data = pd.read_csv(\"data/spotify.csv\")\n",
    "\n",
    "spotify_playlists = pd.read_csv('data/spotify_playlists.csv', encoding_errors='ignore', index_col=0, header=0)\n",
    "spotify_playlists['playlist'].value_counts()"
   ]
  },
  {
   "cell_type": "markdown",
   "id": "ed78885c",
   "metadata": {},
   "source": [
    "First, we want to check for song duplicates in the playlist. The following code uses the `drop_duplicates` function in **pandas** to drop duplicate songs while building an underlying dataframe with all unique content."
   ]
  },
  {
   "cell_type": "code",
   "execution_count": null,
   "id": "9a729c76",
   "metadata": {},
   "outputs": [],
   "source": [
    "# Duplicates of songs accross playlists\n",
    "playlistDF = df.copy(deep = True)\n",
    "playlistDF[['artist','name','playlist']].head(3)"
   ]
  },
  {
   "cell_type": "code",
   "execution_count": null,
   "id": "e34c46cb",
   "metadata": {},
   "outputs": [],
   "source": [
    "# Drop song duplicates\n",
    "def drop_duplicates(df):\n",
    "    df['artists_song']=df.apply(lambda row: row['artist']+' - '+row['name'],axis=1)\n",
    "    return df.drop_duplicates('artists_song')\n",
    "\n",
    "songDF = drop_duplicates(playlistDF)\n",
    "print(len(pd.unique(songDF.artists_song)) == len(songDF))"
   ]
  },
  {
   "cell_type": "markdown",
   "id": "285d2d84",
   "metadata": {},
   "source": [
    "For the audio features, we can categorize each attribute into four general categories as follows.\n",
    "\n",
    "- **Mood**: Danceability, Energy, Tempo, Valence\n",
    "- **Properties**: Instrumentalness, Loudness, Speechiness\n",
    "- **Context**: Acousticness, Liveness\n",
    "- **Metadata**: key, mode, time_signature\n"
   ]
  },
  {
   "cell_type": "code",
   "execution_count": null,
   "id": "3b13401a",
   "metadata": {},
   "outputs": [],
   "source": [
    "songDF = songDF[[\n",
    "    'name', 'track_id', 'release_date', 'popularity', # Track Metadata\n",
    "    'artist', 'artist_id', 'artist_pop', 'artist_genres', # Artist Info\n",
    "    'danceability', 'energy', 'valence', 'tempo', # Audio Features - Mood\n",
    "    'instrumentalness', 'loudness', 'speechiness', # Audio Features - Properties\n",
    "    'acousticness', 'liveness', # Audio Features - Context\n",
    "    'key', 'mode', 'time_signature' # Audio Features - Metadata\n",
    "]]"
   ]
  },
  {
   "cell_type": "markdown",
   "id": "47be82e7",
   "metadata": {},
   "source": [
    "### Feature Generation\n",
    "\n",
    "\n",
    "Data feature engineering methods are an integral part of recommender systems. We implement the following process into the feature generation pipeline. \n",
    "\n",
    "#### 1. Sentiment Analysis\n",
    "\n",
    "The following code performs a simple sentiment analysis using the subjectivity and polarity forms from the TextBlob package. Subjectivity, on a scale from 0 to 1, is the amount of personal opinion and factual information in the text. Polarity, on a scale from -1 to 1, is the degree of sentimentality that leads to negation."
   ]
  },
  {
   "cell_type": "code",
   "execution_count": null,
   "id": "d92f4280",
   "metadata": {},
   "outputs": [],
   "source": [
    "# Get subjectivity & polarity using textblob\n",
    "def getSubjectivity(text):\n",
    "    return TextBlob(text).sentiment.subjectivity\n",
    "def getPolarity(text):\n",
    "    return TextBlob(text).sentiment.polarity\n",
    "\n",
    "# Categorize polarity & subjectivity score\n",
    "def getAnalysis(score, task=\"polarity\"):\n",
    "    if task == \"subjectivity\":\n",
    "        if score < 1/3:\n",
    "            return \"low\"\n",
    "        elif score > 1/3:\n",
    "            return \"high\"\n",
    "        else:\n",
    "            return \"medium\"\n",
    "    else:\n",
    "        if score < 0:\n",
    "            return 'Negative'\n",
    "        elif score == 0:\n",
    "            return 'Neutral'\n",
    "        else:\n",
    "            return 'Positive'\n",
    "\n",
    "# Perform sentiment analysis on text\n",
    "def sentiment_analysis(df, text_col):\n",
    "    df['subjectivity'] = df[text_col].apply(getSubjectivity).apply(lambda x: getAnalysis(x,\"subjectivity\"))\n",
    "    df['polarity'] = df[text_col].apply(getPolarity).apply(getAnalysis)\n",
    "    return df"
   ]
  },
  {
   "cell_type": "code",
   "execution_count": null,
   "id": "3a264b2f",
   "metadata": {},
   "outputs": [],
   "source": [
    "sentimentDF = sentiment_analysis(songDF, \"name\")\n",
    "sentimentDF[['name', 'artist', 'subjectivity', 'polarity']].head(3)"
   ]
  },
  {
   "cell_type": "markdown",
   "id": "9a45e4e3",
   "metadata": {},
   "source": [
    "#### 2. One-Hot Encoding\n",
    "\n",
    "We now use one-hot encoding to include the sentiment of a song as input. One-hot encoding converts categorical variables into a syntactic form that machines can understand. The first step involves converting each category into a column representing either True or False. \n",
    "\n",
    "\n",
    "![](https://iq.opengenus.org/content/images/2022/01/TW5m0aJ.png)"
   ]
  },
  {
   "cell_type": "code",
   "execution_count": null,
   "id": "ad75fff3",
   "metadata": {},
   "outputs": [],
   "source": [
    "# Create One Hot Encoded features of a specific column\n",
    "def ohe_prep(df, column, new_name):\n",
    "    tf_df = pd.get_dummies(df[column])\n",
    "    feature_names = tf_df.columns\n",
    "    tf_df.columns = [new_name + \"|\" + str(i) for i in feature_names]\n",
    "    tf_df.reset_index(drop = True, inplace = True)    \n",
    "    \n",
    "    return tf_df # One-hot encoded features "
   ]
  },
  {
   "cell_type": "code",
   "execution_count": null,
   "id": "2f71560c",
   "metadata": {},
   "outputs": [],
   "source": [
    "# One-hot encoding for the subjectivity \n",
    "subject_ohe = ohe_prep(sentimentDF, 'subjectivity','subject')\n",
    "subject_ohe.iloc[0]"
   ]
  },
  {
   "cell_type": "markdown",
   "id": "7e2787a5",
   "metadata": {},
   "source": [
    "#### 3. TF-IDF\n",
    "\n",
    "\n",
    "\n",
    "Spotify's genres are imbalanced, with some more prevalent than others. Therefore, we weigh the importance of each genre to prevent overemphasizing some types and underestimating others. \n",
    "\n",
    "The Term Frequency-Inverse Document Frequency (TF-IDF) quantifies words in a set of documents, showing the importance of a word in the corpus: $ \\text{Term Frequency}\\times\\text{Inverse Document Frequency}$.\n",
    "\n",
    "\n",
    "The term frequency (TF) is the number of times a term appears in each document divided by the total word count, and the inverse document frequency (IDF) is the log value of the document frequency.\n"
   ]
  },
  {
   "cell_type": "code",
   "execution_count": null,
   "id": "88a90361",
   "metadata": {},
   "outputs": [],
   "source": [
    "# TF-IDF implementation\n",
    "tfidf = TfidfVectorizer()\n",
    "tfidf_matrix =  tfidf.fit_transform(songDF['artist_genres'].apply(lambda x: \" \".join(x)))\n",
    "\n",
    "# Genres dataframe\n",
    "genre_df = pd.DataFrame(tfidf_matrix.toarray())\n",
    "genre_df.columns = ['genre' + \"|\" + i for i in tfidf.get_feature_names()]\n",
    "genre_df.reset_index(drop = True, inplace=True)\n",
    "genre_df.iloc[0]"
   ]
  },
  {
   "cell_type": "markdown",
   "id": "ff271506",
   "metadata": {},
   "source": [
    "#### 4. Normalization\n",
    "\n",
    "\n",
    "We need to normalize the popularity variable and audio features from 0 to 1. We use the MinMaxScaler function from scikit-learn, which automatically scales all values in min and max to the range 0 to 1.\n"
   ]
  },
  {
   "cell_type": "code",
   "execution_count": null,
   "id": "640458e3",
   "metadata": {},
   "outputs": [],
   "source": [
    "# artist_pop distribution descriptive stats\n",
    "print(songDF['artist_pop'].describe())"
   ]
  },
  {
   "cell_type": "markdown",
   "id": "598e0769",
   "metadata": {},
   "source": [
    "Next, we apply hyperparameter tuning to the audio features of a song to improve the prediction. Specifically, the normalization of this data stems from the maximum and minimum values of each attribute.\n"
   ]
  },
  {
   "cell_type": "code",
   "execution_count": null,
   "id": "02f79243",
   "metadata": {},
   "outputs": [],
   "source": [
    "# Normalization\n",
    "pop = songDF[[\"artist_pop\"]].reset_index(drop = True)\n",
    "scaler = MinMaxScaler()\n",
    "pop_scaled = pd.DataFrame(scaler.fit_transform(pop), columns = pop.columns)\n",
    "pop_scaled.head()"
   ]
  },
  {
   "cell_type": "markdown",
   "id": "19cc6c59",
   "metadata": {},
   "source": [
    "#### Feature Generation\n",
    "\n",
    "Finally, we use the following code to generate all the above features and concatenate all the variables into a new data frame. We define the following function to process and create a final set of features to generate recommendations.\n"
   ]
  },
  {
   "cell_type": "code",
   "execution_count": null,
   "id": "c29ebd0e",
   "metadata": {},
   "outputs": [],
   "source": [
    "def create_feature_set(df, float_cols):\n",
    "    \n",
    "    # Tfidf genre lists\n",
    "    tfidf = TfidfVectorizer()\n",
    "    tfidf_matrix =  tfidf.fit_transform(df['artist_genres'].apply(lambda x: \" \".join(x)))\n",
    "    genre_df = pd.DataFrame(tfidf_matrix.toarray())\n",
    "    genre_df.columns = ['genre' + \"|\" + i for i in tfidf.get_feature_names()]\n",
    "    genre_df.reset_index(drop = True, inplace=True)\n",
    "    \n",
    "    # Sentiment analysis\n",
    "    df = sentiment_analysis(df, \"name\")\n",
    "\n",
    "    # One-hot encoding\n",
    "    subject_ohe = ohe_prep(df, 'subjectivity','subject') * 0.3\n",
    "    polar_ohe = ohe_prep(df, 'polarity','polar') * 0.5\n",
    "    key_ohe = ohe_prep(df, 'key','key') * 0.5\n",
    "    mode_ohe = ohe_prep(df, 'mode','mode') * 0.5\n",
    "\n",
    "    # Normalization - scale popularity columns\n",
    "    pop = df[[\"artist_pop\",\"popularity\"]].reset_index(drop = True)\n",
    "    scaler = MinMaxScaler()\n",
    "    pop_scaled = pd.DataFrame(scaler.fit_transform(pop), columns = pop.columns) * 0.2 \n",
    "\n",
    "    # Scale audio feature columns\n",
    "    floats = df[float_cols].reset_index(drop = True)\n",
    "    scaler = MinMaxScaler()\n",
    "    floats_scaled = pd.DataFrame(scaler.fit_transform(floats), columns = floats.columns) * 0.2\n",
    "\n",
    "    # Concanenate all features\n",
    "    final = pd.concat([genre_df, floats_scaled, pop_scaled, subject_ohe, polar_ohe, key_ohe, mode_ohe], axis = 1)\n",
    "    final.insert(loc=0, column='track_id', value=df['track_id'].values) # Add song name\n",
    "    \n",
    "    return final # Final set of features "
   ]
  },
  {
   "cell_type": "code",
   "execution_count": null,
   "id": "12cb97b3",
   "metadata": {},
   "outputs": [],
   "source": [
    "# Save data and generate features\n",
    "float_cols = songDF.dtypes[songDF.dtypes == 'float64'].index.values\n",
    "complete_feature_set = create_feature_set(songDF, float_cols=float_cols)\n",
    "\n",
    "# songDF.to_csv(\"../data/allsong_data.csv\", index = False)\n",
    "#complete_feature_set.to_csv(\"../data/complete_feature.csv\", index = False)\n",
    "complete_feature_set.head(3)"
   ]
  },
  {
   "cell_type": "markdown",
   "id": "5de6c963",
   "metadata": {},
   "source": [
    "### Content-based Filtering Recommendation\n",
    "\n",
    "\n",
    "The next step is to perform content-based filtering based on the song features. To do so, we concatenate all songs in a playlist into one summarization vector. Then, we find the similarity between the summarized playlist vector with all songs (not including the songs in the playlist) in the database. Then, we use the similarity measure retrieved the most relevant song that is not in the playlist to recommend it.\n",
    "\n",
    "\n",
    "\n",
    "#### Choose Playlist\n",
    "\n",
    "\n",
    "In this part, we test the data with *Mom's playlist* in the dataset.\n"
   ]
  },
  {
   "cell_type": "code",
   "execution_count": null,
   "id": "d0c55468",
   "metadata": {},
   "outputs": [],
   "source": [
    "testDF = playlistDF[playlistDF['playlist'] == \"but my feet in bottega\"]"
   ]
  },
  {
   "cell_type": "markdown",
   "id": "78d5a825",
   "metadata": {},
   "source": [
    "#### Extract features\n",
    "\n",
    "The next step is to generate the features. We need to first use the `id` to differentiate songs that are in the playlist and those that are not. Then, we simply add the features for all songs in the playlist together as a summary vector.\n",
    "\n",
    "\n"
   ]
  },
  {
   "cell_type": "code",
   "execution_count": null,
   "id": "20ba4428",
   "metadata": {},
   "outputs": [],
   "source": [
    "# Summarize playlist into a single vector\n",
    "def generate_playlist_feature(feat_set, playlist_df):\n",
    "    \n",
    "    # Find song features in the playlist\n",
    "    feat_set_playlist = feat_set[feat_set['track_id'].isin(playlist_df['track_id'].values)]    \n",
    "    \n",
    "    # Find all non-playlist song features\n",
    "    feat_set_nonplaylist = feat_set[~feat_set['track_id'].isin(playlist_df['track_id'].values)]\n",
    "    feat_set_playlist_final = feat_set_playlist.drop(columns = \"track_id\")\n",
    "    \n",
    "    # Single vector feature summarizing playlist\n",
    "    return feat_set_playlist_final.sum(axis = 0), feat_set_nonplaylist"
   ]
  },
  {
   "cell_type": "markdown",
   "id": "bd6b2586",
   "metadata": {},
   "source": [
    "> In other words, this vector describes the whole playlist as if it is one song.\n"
   ]
  },
  {
   "cell_type": "code",
   "execution_count": null,
   "id": "f9149199",
   "metadata": {},
   "outputs": [],
   "source": [
    "# Generate the features\n",
    "feat_set_pl, feat_set_nonpl = generate_playlist_feature(complete_feature_set, testDF)\n",
    "# Non-playlist features feat_set_nonpl.head()"
   ]
  },
  {
   "cell_type": "code",
   "execution_count": null,
   "id": "1317263e",
   "metadata": {},
   "outputs": [],
   "source": [
    "# Summarized playlist features\n",
    "complete_feature_set\n",
    "feat_set_pl"
   ]
  },
  {
   "cell_type": "markdown",
   "id": "6008df64",
   "metadata": {},
   "source": [
    "\n",
    "#### Find similarity\n",
    "\n",
    "In our code, we used the `cosine_similarity()` function from `scikit learn` to measure the similarity between each song and the summarized playlist vector.\n"
   ]
  },
  {
   "cell_type": "code",
   "execution_count": null,
   "id": "466a5fb6",
   "metadata": {},
   "outputs": [],
   "source": [
    "# Generated recommendation based on songs in aspecific playlist\n",
    "def generate_playlist_recos(df, features, nonplaylist_features):\n",
    "    '''\n",
    "    features (pandas series): summarized playlist feature (single vector)\n",
    "    nonplaylist_features (pandas dataframe): feature set of songs that are not in the selected playlist\n",
    "    '''\n",
    "    \n",
    "    non_playlist_df = df[df['id'].isin(nonplaylist_features['id'].values)]\n",
    "    # Find cosine similarity between the playlist and the complete song set\n",
    "    non_playlist_df['sim'] = cosine_similarity(nonplaylist_features.drop('id', axis = 1).values, features.values.reshape(1, -1))[:,0]\n",
    "    non_playlist_df_top_40 = non_playlist_df.sort_values('sim',ascending = False).head(40)\n",
    "    \n",
    "    # Top 40 recommendations for that playlist\n",
    "    return non_playlist_df_top_40"
   ]
  },
  {
   "cell_type": "markdown",
   "id": "e9bdb316",
   "metadata": {},
   "source": [
    "--------------------------------------------------\n"
   ]
  },
  {
   "cell_type": "markdown",
   "id": "61b06df9",
   "metadata": {},
   "source": [
    "## Clustering Playlist\n",
    "\n",
    "\n",
    "### 1. Feature Preprocessing\n",
    "\n"
   ]
  },
  {
   "cell_type": "code",
   "execution_count": 129,
   "id": "16c844e7",
   "metadata": {},
   "outputs": [],
   "source": [
    "dff = pd.read_csv('data/my_playlist.csv', encoding_errors='ignore', index_col=0, header=0)\n",
    "X = dff[[\"acousticness\", \"danceability\", \"liveness\",\"energy\", \"instrumentalness\", \n",
    "       \"loudness\", \"speechiness\", \"valence\"]]"
   ]
  },
  {
   "cell_type": "code",
   "execution_count": 130,
   "id": "e29ae59a",
   "metadata": {},
   "outputs": [
    {
     "name": "stderr",
     "output_type": "stream",
     "text": [
      "C:\\conda_tmp\\ipykernel_18244\\1542361774.py:4: SettingWithCopyWarning: \n",
      "A value is trying to be set on a copy of a slice from a DataFrame.\n",
      "Try using .loc[row_indexer,col_indexer] = value instead\n",
      "\n",
      "See the caveats in the documentation: https://pandas.pydata.org/pandas-docs/stable/user_guide/indexing.html#returning-a-view-versus-a-copy\n",
      "  X[\"loudness_scaled\"] = scaler.fit_transform(loudness.reshape(-1, 1))\n"
     ]
    }
   ],
   "source": [
    "from sklearn import preprocessing \n",
    "scaler = preprocessing.MinMaxScaler() # intantiate a scaler\n",
    "loudness = X[\"loudness\"].values\n",
    "X[\"loudness_scaled\"] = scaler.fit_transform(loudness.reshape(-1, 1))"
   ]
  },
  {
   "cell_type": "code",
   "execution_count": 135,
   "id": "533aaa59",
   "metadata": {},
   "outputs": [],
   "source": [
    "X = X[['acousticness', 'danceability', 'liveness', 'energy','valence',\n",
    "       'instrumentalness', 'speechiness']]\n",
    "features=X.values"
   ]
  },
  {
   "cell_type": "markdown",
   "id": "9883a5f2",
   "metadata": {},
   "source": [
    "### 2. Selecting the right KMeans model\n"
   ]
  },
  {
   "cell_type": "code",
   "execution_count": 136,
   "id": "39d1a47c",
   "metadata": {},
   "outputs": [
    {
     "name": "stderr",
     "output_type": "stream",
     "text": [
      "C:\\ProgramData\\Anaconda3\\lib\\site-packages\\sklearn\\cluster\\_kmeans.py:1036: UserWarning: KMeans is known to have a memory leak on Windows with MKL, when there are less chunks than available threads. You can avoid it by setting the environment variable OMP_NUM_THREADS=1.\n",
      "  warnings.warn(\n"
     ]
    }
   ],
   "source": [
    "from sklearn.cluster import KMeans\n",
    "Sum_of_squared_distances = []\n",
    "K = range(1,21) #let's use elbow method to find out what the optimal k is \n",
    "for k in K:\n",
    "    model = KMeans(n_clusters=k)\n",
    "    model = model.fit(features)\n",
    "    Sum_of_squared_distances.append(model.inertia_)"
   ]
  },
  {
   "cell_type": "code",
   "execution_count": 137,
   "id": "3be36aec",
   "metadata": {},
   "outputs": [
    {
     "data": {
      "image/png": "[encoded data removed]",
      "text/plain": [
       "<Figure size 432x216 with 1 Axes>"
      ]
     },
     "metadata": {},
     "output_type": "display_data"
    }
   ],
   "source": [
    "import matplotlib.pyplot as plt #Elbow method\n",
    "plt.figure(figsize=(6,3))\n",
    "plt.plot(list(range(1,21)),Sum_of_squared_distances,'bx-')\n",
    "plt.ylabel('Sum_of_squared_distances')\n",
    "plt.xlabel('# clusters')\n",
    "plt.show()"
   ]
  },
  {
   "cell_type": "code",
   "execution_count": 139,
   "id": "404227ca",
   "metadata": {},
   "outputs": [],
   "source": [
    "from sklearn.cluster import KMeans\n",
    "model = KMeans(n_clusters=3)\n",
    "model = model.fit(features)"
   ]
  },
  {
   "cell_type": "markdown",
   "id": "2def5bd3",
   "metadata": {},
   "source": [
    "### 3. Clustering"
   ]
  },
  {
   "cell_type": "code",
   "execution_count": 140,
   "id": "6124870c",
   "metadata": {},
   "outputs": [],
   "source": [
    "predictions=model.predict(features) #make predictions\n",
    "dff['cluster']=predictions"
   ]
  },
  {
   "cell_type": "markdown",
   "id": "289d3b73",
   "metadata": {},
   "source": [
    "### 4. Visualization of the derived clusters"
   ]
  },
  {
   "cell_type": "code",
   "execution_count": 141,
   "id": "11c62bbc",
   "metadata": {},
   "outputs": [],
   "source": [
    "from sklearn import decomposition\n",
    "pca = decomposition.PCA(n_components = 2)\n",
    "pca_result = pca.fit_transform(features)\n",
    "df_pca = pd.DataFrame(pca_result)\n",
    "df_pca['cluster']=predictions\n"
   ]
  },
  {
   "cell_type": "code",
   "execution_count": 142,
   "id": "4fc6e2b9",
   "metadata": {},
   "outputs": [
    {
     "name": "stderr",
     "output_type": "stream",
     "text": [
      "C:\\conda_tmp\\ipykernel_18244\\2308926359.py:8: MatplotlibDeprecationWarning: Auto-removal of grids by pcolor() and pcolormesh() is deprecated since 3.5 and will be removed two minor releases later; please call grid(False) first.\n",
      "  plt.colorbar(scatter)\n",
      "C:\\conda_tmp\\ipykernel_18244\\2308926359.py:10: UserWarning: Matplotlib is currently using module://matplotlib_inline.backend_inline, which is a non-GUI backend, so cannot show the figure.\n",
      "  fig.show()\n"
     ]
    },
    {
     "data": {
      "image/png": "[encoded data removed]",
      "text/plain": [
       "<Figure size 432x288 with 2 Axes>"
      ]
     },
     "metadata": {},
     "output_type": "display_data"
    }
   ],
   "source": [
    "import matplotlib.pyplot as plt\n",
    "fig = plt.figure()\n",
    "ax = fig.add_subplot(111)\n",
    "\n",
    "scatter = ax.scatter(df_pca.iloc[:,0].values, df_pca.iloc[:,1].values,c=predictions,s=50)\n",
    "ax.set_xlabel('x')\n",
    "ax.set_ylabel('y')\n",
    "plt.colorbar(scatter)\n",
    "\n",
    "fig.show()"
   ]
  },
  {
   "cell_type": "markdown",
   "id": "0778d529",
   "metadata": {},
   "source": [
    "----------------\n",
    "\n",
    "### 5. Selecting a classifier\n",
    "Let's determine the best model to use for future classification. It can be used to classify recommended songs by Spoitfy or to classify already saved songs.\n"
   ]
  },
  {
   "cell_type": "code",
   "execution_count": 143,
   "id": "76a637c7",
   "metadata": {},
   "outputs": [],
   "source": [
    "df_classify=dff[[\"acousticness\", \"danceability\", \"liveness\",\"energy\", \"instrumentalness\", \"speechiness\",\"cluster\"]]#selecting features\n",
    "X=df_classify.iloc[:,:-1].values\n",
    "Y=df_classify.iloc[:,-1].values"
   ]
  },
  {
   "cell_type": "markdown",
   "id": "40ead98e",
   "metadata": {},
   "source": [
    "#### Splitting the dataset into the Training set and Test set\n"
   ]
  },
  {
   "cell_type": "code",
   "execution_count": 144,
   "id": "4f6ef5ae",
   "metadata": {},
   "outputs": [],
   "source": [
    "from sklearn.model_selection import train_test_split\n",
    "X_train, X_test, y_train, y_test=train_test_split(X,Y,test_size=0.2)\n",
    "X_train[:,5]=scaler.fit_transform(X_train[:,5].reshape(-1, 1)).reshape(-1,)\n",
    "X_test[:,5]=scaler.transform(X_test[:,5].reshape(-1, 1)).reshape(-1,)"
   ]
  },
  {
   "cell_type": "markdown",
   "id": "e5e2bb99",
   "metadata": {},
   "source": [
    "#### Selecting a classifier\n",
    "\n",
    "There are four models compared in terms of accuracy, which are KNeighborsClassifier,RandomForestClassifier, Support Vector Classifier and Naive Bayes. Support Vector Classifier tourned out to be the best model in terms of accuracy, which made up roughly 0.998, hence we will be using it for future classification.\n"
   ]
  },
  {
   "cell_type": "code",
   "execution_count": 145,
   "id": "7eda5050",
   "metadata": {},
   "outputs": [
    {
     "name": "stdout",
     "output_type": "stream",
     "text": [
      "2:0.5909090909090909\n",
      "3:0.6363636363636364\n",
      "4:0.6363636363636364\n",
      "5:0.6363636363636364\n",
      "6:0.6363636363636364\n",
      "7:0.6363636363636364\n",
      "8:0.6818181818181818\n",
      "9:0.5454545454545454\n"
     ]
    }
   ],
   "source": [
    "from sklearn.neighbors import KNeighborsClassifier\n",
    "from sklearn.metrics import confusion_matrix, accuracy_score\n",
    "acc=[]\n",
    "for i in range(2,10):\n",
    "    classifier = KNeighborsClassifier(n_neighbors = i, metric = 'minkowski', p = 2)\n",
    "    classifier.fit(X_train, y_train)\n",
    "    y_pred = classifier.predict(X_test)\n",
    "    acc.append(accuracy_score(y_test, y_pred))\n",
    "    print(f'{i}:{acc[-1]}')"
   ]
  },
  {
   "cell_type": "code",
   "execution_count": 164,
   "id": "ae045442",
   "metadata": {},
   "outputs": [
    {
     "name": "stdout",
     "output_type": "stream",
     "text": [
      "[[6 0 0]\n",
      " [1 7 2]\n",
      " [0 5 1]]\n"
     ]
    }
   ],
   "source": [
    "classifier = SVC(kernel ='poly', random_state = 0)\n",
    "classifier.fit(X_train, y_train)\n",
    "y_pred = classifier.predict(X_test)\n",
    "cm = confusion_matrix(y_test, y_pred)\n",
    "print(cm)"
   ]
  },
  {
   "cell_type": "markdown",
   "id": "fb9210b5",
   "metadata": {},
   "source": [
    "#### Clusters' description\n",
    "\n",
    "Cluster 0 is tourned out to be very high in terms of speechiness since the mean value over all songs is 0.87. If the speechiness of a song is above 0.66, it is probably made of spoken words, a score between 0.33 and 0.66 is a song that may contain both music and words, and a score below 0.33 means the song does not have any speech. Moreover, it is low in instrumentalness but pretty high in danceability. I assume there are mostly rap songs. Cluster 1 is relatively high in danceability and energy but low in instrumentalness. I expect to see a lot of energetic songs there. Cluster 2 is very high in acousticness but low in instrumentalness and loudness. Moreover, it has quite high danceability magnitude. Therefore, I expect to see more calm, perhaps sad, songs. Cluster 3 is the highest in acousticness and instrumentalness but the lowest in speechiness. Cluster 4 is quite high in instrumentalness and energy and average in danceability."
   ]
  },
  {
   "cell_type": "code",
   "execution_count": 153,
   "id": "2f81e9c6",
   "metadata": {},
   "outputs": [
    {
     "data": {
      "text/plain": [
       "[acousticness        0.539687\n",
       " danceability        0.737625\n",
       " liveness            0.151313\n",
       " energy              0.537219\n",
       " instrumentalness    0.022516\n",
       " loudness           -7.627188\n",
       " speechiness         0.158881\n",
       " cluster             0.000000\n",
       " Name: mean, dtype: float64,\n",
       " acousticness        0.141199\n",
       " danceability        0.640227\n",
       " liveness            0.165268\n",
       " energy              0.581545\n",
       " instrumentalness    0.000242\n",
       " loudness           -6.616409\n",
       " speechiness         0.136611\n",
       " cluster             1.000000\n",
       " Name: mean, dtype: float64,\n",
       " acousticness        0.119303\n",
       " danceability        0.675100\n",
       " liveness            0.157257\n",
       " energy              0.647800\n",
       " instrumentalness    0.000247\n",
       " loudness           -6.515033\n",
       " speechiness         0.153993\n",
       " cluster             2.000000\n",
       " Name: mean, dtype: float64,\n",
       " acousticness       NaN\n",
       " danceability       NaN\n",
       " liveness           NaN\n",
       " energy             NaN\n",
       " instrumentalness   NaN\n",
       " loudness           NaN\n",
       " speechiness        NaN\n",
       " cluster            NaN\n",
       " Name: mean, dtype: float64,\n",
       " acousticness       NaN\n",
       " danceability       NaN\n",
       " liveness           NaN\n",
       " energy             NaN\n",
       " instrumentalness   NaN\n",
       " loudness           NaN\n",
       " speechiness        NaN\n",
       " cluster            NaN\n",
       " Name: mean, dtype: float64]"
      ]
     },
     "execution_count": 153,
     "metadata": {},
     "output_type": "execute_result"
    }
   ],
   "source": [
    "df2=dff[[\"track_id\",\"acousticness\", \"danceability\", \"liveness\",\"energy\", \"instrumentalness\", \"loudness\", \"speechiness\",\"cluster\"]]\n",
    "cluster_info=[]\n",
    "for i in range(5):\n",
    "    cluster_info.append(df2[df2['cluster']==i].describe().iloc[1,:])\n",
    "cluster_info"
   ]
  },
  {
   "cell_type": "markdown",
   "id": "3fd7bff5",
   "metadata": {},
   "source": [
    "--------------------"
   ]
  },
  {
   "cell_type": "code",
   "execution_count": 154,
   "id": "9992ccf4",
   "metadata": {},
   "outputs": [],
   "source": [
    "mydf = df2.set_index('track_id')\n"
   ]
  },
  {
   "cell_type": "code",
   "execution_count": 155,
   "id": "dbc0dfab",
   "metadata": {},
   "outputs": [],
   "source": [
    "clustered_songs=list(zip(mydf.index,mydf.iloc[:,-1]))\n",
    "sorted_songs=[[],[],[],[],[]]\n",
    "for i in range(len(clustered_songs)):\n",
    "    sorted_songs[clustered_songs[i][1]].append(clustered_songs[i][0])"
   ]
  },
  {
   "cell_type": "code",
   "execution_count": 157,
   "id": "1d9d0235",
   "metadata": {},
   "outputs": [],
   "source": [
    "import spotipy\n",
    "from spotipy.oauth2 import SpotifyClientCredentials\n",
    "import spotipy.util as util\n",
    "# Set client id and client secret\n",
    "cid = '4cf3afdca2d74dc48af9999b1b7c9c61'\n",
    "secret = 'f6ca08ad37bb41a0afab5ca1dc74b208'\n",
    "username = 'hannahluebbering' # Your Spotify username\n",
    "scope = 'user-library-read playlist-read-private user-top-read playlist-modify-private user-read-currently-playing'\n",
    "redirect_uri='http://localhost:1410/'\n",
    "scope = 'user-library-read playlist-modify-public playlist-read-private user-top-read playlist-modify-private user-read-currently-playing'\n",
    "\n",
    "client_credentials_manager = spotipy.oauth2.SpotifyOAuth(scope=scope, username=username,\n",
    "                                                         client_id=cid, client_secret=secret, \n",
    "                                                         redirect_uri=redirect_uri) \n",
    "                                                         #cache_path='./tokens.txt') \n",
    "SpotifyClientCredentials(client_id=cid, client_secret=secret)\n",
    "sp = spotipy.Spotify(client_credentials_manager=client_credentials_manager)"
   ]
  },
  {
   "cell_type": "code",
   "execution_count": 159,
   "id": "fda337b8",
   "metadata": {},
   "outputs": [],
   "source": [
    "playlists=[]\n",
    "for i in range(3):\n",
    "    #create playlists for a corresponding cluster\n",
    "    playlist_created=sp.user_playlist_create(username, name=\"Cluster \"+str(i), public=False,description='')\n",
    "    #add new songs\n",
    "    sp.playlist_add_items(playlist_created['id'], sorted_songs[i][:100])\n",
    "    #sp.user_playlist_add_tracks(username,sorted_songs[i][:100])\n",
    "    playlists.append(playlist_created)"
   ]
  },
  {
   "cell_type": "code",
   "execution_count": 162,
   "id": "127b0527",
   "metadata": {},
   "outputs": [],
   "source": [
    "len_clusters=[]\n",
    "for i in range(3):\n",
    "    len_clusters.append(len(mydf[mydf['cluster']==i].values))"
   ]
  },
  {
   "cell_type": "code",
   "execution_count": 163,
   "id": "3f884b52",
   "metadata": {},
   "outputs": [
    {
     "data": {
      "text/plain": [
       "[32, 44, 30]"
      ]
     },
     "execution_count": 163,
     "metadata": {},
     "output_type": "execute_result"
    }
   ],
   "source": [
    "len_clusters"
   ]
  },
  {
   "cell_type": "code",
   "execution_count": null,
   "id": "cd114f9f",
   "metadata": {},
   "outputs": [],
   "source": []
  }
 ],
 "metadata": {
  "kernelspec": {
   "display_name": "Python 3 (ipykernel)",
   "language": "python",
   "name": "python3"
  },
  "language_info": {
   "codemirror_mode": {
    "name": "ipython",
    "version": 3
   },
   "file_extension": ".py",
   "mimetype": "text/x-python",
   "name": "python",
   "nbconvert_exporter": "python",
   "pygments_lexer": "ipython3",
   "version": "3.9.12"
  }
 },
 "nbformat": 4,
 "nbformat_minor": 5
}
